{
 "cells": [
  {
   "cell_type": "markdown",
   "metadata": {},
   "source": [
    "## Airbnb Data Description"
   ]
  },
  {
   "cell_type": "markdown",
   "metadata": {},
   "source": [
    "In this challenge, you are given a list of users along with their demographics, web session records, and some summary statistics. You are asked to predict which country a new user's first booking destination will be. All the users in this dataset are from the USA.\n",
    "\n",
    "There are 12 possible outcomes of the destination country: 'US', 'FR', 'CA', 'GB', 'ES', 'IT', 'PT', 'NL','DE', 'AU', 'NDF' (no destination found), and 'other'. Please note that 'NDF' is different from 'other' because 'other' means there was a booking, but is to a country not included in the list, while 'NDF' means there wasn't a booking.\n",
    "\n",
    "The training and test sets are split by dates. In the test set, you will predict all the new users with first activities after 7/1/2014 (note: this is updated on 12/5/15 when the competition restarted). In the sessions dataset, the data only dates back to 1/1/2014, while the users dataset dates back to 2010. \n",
    "\n",
    "File descriptions\n",
    "\n",
    "train_users.csv - the training set of users\n",
    "\n",
    "test_users.csv - the test set of users\n",
    "* id: user id\n",
    "* date_account_created: the date of account creation\n",
    "* timestamp_first_active: timestamp of the first activity, note that it can be earlier than date_account_created or date_first_booking because a user can search before signing up\n",
    "* date_first_booking: date of first booking\n",
    "* gender\n",
    "* age\n",
    "* signup_method\n",
    "* signup_flow: the page a user came to signup up from\n",
    "* language: international language preference\n",
    "* affiliate_channel: what kind of paid marketing\n",
    "* affiliate_provider: where the marketing is e.g. google, craigslist, other\n",
    "* first_affiliate_tracked: whats the first marketing the user interacted with before the signing up\n",
    "* signup_app\n",
    "* first_device_type\n",
    "* first_browser\n",
    "* country_destination: this is the target variable you are to predict\n",
    "\n",
    "sessions.csv - web sessions log for users\n",
    "* user_id: to be joined with the column 'id' in users table\n",
    "* action\n",
    "* action_type\n",
    "* action_detail\n",
    "* device_type\n",
    "* secs_elapsed\n",
    "\n",
    "countries.csv - summary statistics of destination countries in this dataset and their locations\n",
    "\n",
    "age_gender_bkts.csv - summary statistics of users' age group, gender, country of destination\n",
    "\n",
    "sample_submission.csv - correct format for submitting your predictions"
   ]
  }
 ],
 "metadata": {
  "anaconda-cloud": {},
  "kernelspec": {
   "display_name": "Python [conda env:py27]",
   "language": "python",
   "name": "conda-env-py27-py"
  },
  "language_info": {
   "codemirror_mode": {
    "name": "ipython",
    "version": 2
   },
   "file_extension": ".py",
   "mimetype": "text/x-python",
   "name": "python",
   "nbconvert_exporter": "python",
   "pygments_lexer": "ipython2",
   "version": "2.7.13"
  }
 },
 "nbformat": 4,
 "nbformat_minor": 1
}
