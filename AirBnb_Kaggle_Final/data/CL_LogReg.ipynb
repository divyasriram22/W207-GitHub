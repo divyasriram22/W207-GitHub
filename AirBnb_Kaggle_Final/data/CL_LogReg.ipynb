{
 "cells": [
  {
   "cell_type": "code",
   "execution_count": 405,
   "metadata": {
    "collapsed": false
   },
   "outputs": [],
   "source": [
    "# General libraries.\n",
    "import numpy as np\n",
    "import matplotlib.pyplot as plt\n",
    "import pandas as pd\n",
    "import seaborn as sns\n",
    "\n",
    "# Draw inline\n",
    "%matplotlib inline\n",
    "\n",
    "# Set seaborn style\n",
    "sns.set_context(\"notebook\", font_scale=1.5)\n",
    "\n",
    "# Sklearn preprocessing\n",
    "from sklearn.preprocessing import OneHotEncoder\n",
    "\n",
    "# Sklearn libraries.\n",
    "from sklearn import linear_model\n",
    "from sklearn import preprocessing\n",
    "from sklearn.pipeline import Pipeline\n",
    "from sklearn.neighbors import KNeighborsClassifier\n",
    "from sklearn.linear_model import LogisticRegression\n",
    "from sklearn.naive_bayes import BernoulliNB\n",
    "from sklearn.naive_bayes import MultinomialNB\n",
    "from sklearn.grid_search import GridSearchCV\n",
    "\n",
    "# SK-learn libraries for evaluation.\n",
    "from sklearn.metrics import confusion_matrix\n",
    "from sklearn import metrics\n",
    "from sklearn.metrics import classification_report"
   ]
  },
  {
   "cell_type": "code",
   "execution_count": 406,
   "metadata": {
    "collapsed": false
   },
   "outputs": [
    {
     "name": "stderr",
     "output_type": "stream",
     "text": [
      "c:\\Users\\cendy\\Anaconda3\\lib\\site-packages\\IPython\\core\\interactiveshell.py:2717: DtypeWarning: Columns (26) have mixed types. Specify dtype option on import or set low_memory=False.\n",
      "  interactivity=interactivity, compiler=compiler, result=result)\n"
     ]
    },
    {
     "name": "stdout",
     "output_type": "stream",
     "text": [
      "train shape: (213451, 541)\n"
     ]
    }
   ],
   "source": [
    "# Load full data set (combined with actions)\n",
    "train = pd.read_csv('./train_combined_actions.zip')\n",
    "print(\"train shape:\", train.shape)"
   ]
  },
  {
   "cell_type": "markdown",
   "metadata": {},
   "source": [
    "## Shuffle and Split Data"
   ]
  },
  {
   "cell_type": "code",
   "execution_count": 407,
   "metadata": {
    "collapsed": false
   },
   "outputs": [
    {
     "name": "stdout",
     "output_type": "stream",
     "text": [
      "train data shape: (188451, 540)\n",
      "train label shape: (188451,)\n",
      "dev data shape: (25000, 540)\n",
      "dev label shape: (25000,)\n"
     ]
    }
   ],
   "source": [
    "np.random.seed(0)\n",
    "\n",
    "# Shuffle training set\n",
    "shuffle = np.random.permutation(np.arange(train.shape[0]))\n",
    "train = train.reindex(shuffle)\n",
    "\n",
    "# Split labels from training set\n",
    "labels = train['country_destination']\n",
    "train_nolab = train.drop('country_destination', axis=1)\n",
    "\n",
    "# split into train and dev sets (12%)\n",
    "dev_data, dev_labels = train_nolab[:25000], labels[:25000]\n",
    "train_data, train_labels = train_nolab[25000:], labels[25000:]\n",
    "\n",
    "print(\"train data shape:\", train_data.shape)\n",
    "print(\"train label shape:\", train_labels.shape)\n",
    "print(\"dev data shape:\", dev_data.shape)\n",
    "print(\"dev label shape:\", dev_labels.shape)"
   ]
  },
  {
   "cell_type": "code",
   "execution_count": 297,
   "metadata": {
    "collapsed": false
   },
   "outputs": [
    {
     "name": "stdout",
     "output_type": "stream",
     "text": [
      "train data w/out actions shape: (188451, 25)\n",
      "dev data w/out actions shape: (25000, 25)\n",
      "\n",
      "column names: ['date_account_created', 'timestamp_first_active', 'gender', 'age', 'signup_method', 'signup_flow', 'language', 'affiliate_channel', 'affiliate_provider', 'first_affiliate_tracked', 'signup_app', 'first_device_type', 'first_browser', 'month_created', 'season_created', 'year_created', 'bin_age', 'bin_lang', 'days_since_creation', 'first_hour', 'count_actions', 'number_devices', 'longest_session', 'total_time', 'last_action']\n"
     ]
    }
   ],
   "source": [
    "# use training set without action counts -- less columns to process and action counts are sparse\n",
    "col = train_data.columns.get_loc(\"last_action\") # last column index before action columns begin\n",
    "train_data = train_data.iloc[: , :col+1]\n",
    "dev_data = dev_data.iloc[: , :col+1]\n",
    "\n",
    "# drop ID column \n",
    "train_data.drop('id',axis=1, inplace=True)\n",
    "dev_data.drop('id',axis=1, inplace=True)\n",
    "\n",
    "print(\"train data w/out actions shape:\", train_data.shape)\n",
    "print(\"dev data w/out actions shape:\", dev_data.shape)\n",
    "\n",
    "print(\"\\ncolumn names:\", list(train_data))"
   ]
  },
  {
   "cell_type": "code",
   "execution_count": 283,
   "metadata": {
    "collapsed": false
   },
   "outputs": [
    {
     "name": "stdout",
     "output_type": "stream",
     "text": [
      "train data shape: (64965, 540)\n",
      "train label shape: (64965,)\n",
      "dev data shape: (8850, 540)\n",
      "dev label shape: (8850,)\n",
      "train data w/out actions shape: (64965, 25)\n",
      "dev data w/out actions shape: (8850, 25)\n",
      "\n",
      "column names: ['date_account_created', 'timestamp_first_active', 'gender', 'age', 'signup_method', 'signup_flow', 'language', 'affiliate_channel', 'affiliate_provider', 'first_affiliate_tracked', 'signup_app', 'first_device_type', 'first_browser', 'month_created', 'season_created', 'year_created', 'bin_age', 'bin_lang', 'days_since_creation', 'first_hour', 'count_actions', 'number_devices', 'longest_session', 'total_time', 'last_action']\n"
     ]
    },
    {
     "data": {
      "text/plain": [
       "33042    NaN\n",
       "8096     NaN\n",
       "24516    NaN\n",
       "18116    NaN\n",
       "50731    NaN\n",
       "45102    NaN\n",
       "25350    NaN\n",
       "27177    NaN\n",
       "53155    NaN\n",
       "16586    NaN\n",
       "22889    NaN\n",
       "40694    NaN\n",
       "13597    NaN\n",
       "41123    NaN\n",
       "55316    NaN\n",
       "32122    NaN\n",
       "20380    NaN\n",
       "54656    NaN\n",
       "34187    NaN\n",
       "44318    NaN\n",
       "57833    NaN\n",
       "54557    NaN\n",
       "53487    NaN\n",
       "12682    NaN\n",
       "332      NaN\n",
       "13971    NaN\n",
       "34013    NaN\n",
       "41039    NaN\n",
       "48676    NaN\n",
       "31397    NaN\n",
       "        ... \n",
       "72868    NaN\n",
       "39118    NaN\n",
       "2833     NaN\n",
       "69665    NaN\n",
       "47826    NaN\n",
       "10019    NaN\n",
       "50422    NaN\n",
       "33454    NaN\n",
       "14767    NaN\n",
       "18270    NaN\n",
       "55523    NaN\n",
       "27664    NaN\n",
       "64865    NaN\n",
       "38629    NaN\n",
       "66069    NaN\n",
       "42164    NaN\n",
       "41440    NaN\n",
       "3022     NaN\n",
       "23817    NaN\n",
       "59014    NaN\n",
       "34958    NaN\n",
       "16582    NaN\n",
       "18350    NaN\n",
       "20961    NaN\n",
       "1832     NaN\n",
       "11808    NaN\n",
       "10627    NaN\n",
       "19899    NaN\n",
       "37482    NaN\n",
       "10095    NaN\n",
       "Name: country_destination, dtype: object"
      ]
     },
     "execution_count": 283,
     "metadata": {},
     "output_type": "execute_result"
    }
   ],
   "source": [
    "# Include users with session information only\n",
    "\n",
    "# Filter out people with no sessions data\n",
    "mod_train = train[train.count_actions.isnull() != True]\n",
    "\n",
    "# Shuffle training set\n",
    "shuffle = np.random.permutation(np.arange(mod_train.shape[0]))\n",
    "mod_train = mod_train.reindex(shuffle)\n",
    "\n",
    "# Split labels from training set\n",
    "mod_labels = mod_train['country_destination']\n",
    "train_nolab = mod_train.drop('country_destination', axis=1)\n",
    "\n",
    "# split into train and dev sets (12%)\n",
    "dev_data_mod, dev_labels_mod = train_nolab[:8850], mod_labels[:8850]\n",
    "train_data_mod, train_labels_mod = train_nolab[8850:], mod_labels[8850:]\n",
    "\n",
    "print(\"train data shape:\", train_data_mod.shape)\n",
    "print(\"train label shape:\", train_labels_mod.shape)\n",
    "print(\"dev data shape:\", dev_data_mod.shape)\n",
    "print(\"dev label shape:\", dev_labels_mod.shape)\n",
    "\n",
    "# use training set without action counts -- less columns to process and action counts are sparse\n",
    "col = train_data_mod.columns.get_loc(\"last_action\") # last column index before action columns begin\n",
    "train_data_mod = train_data_mod.iloc[: , :col+1]\n",
    "dev_data_mod = dev_data_mod.iloc[: , :col+1]\n",
    "\n",
    "# drop ID column \n",
    "train_data_mod.drop('id',axis=1, inplace=True)\n",
    "dev_data_mod.drop('id',axis=1, inplace=True)\n",
    "\n",
    "print(\"train data w/out actions shape:\", train_data_mod.shape)\n",
    "print(\"dev data w/out actions shape:\", dev_data_mod.shape)\n",
    "\n",
    "print(\"\\ncolumn names:\", list(train_data_mod))\n"
   ]
  },
  {
   "cell_type": "markdown",
   "metadata": {},
   "source": [
    "## Data Exploration"
   ]
  },
  {
   "cell_type": "markdown",
   "metadata": {},
   "source": [
    "### Labels (country_destination)"
   ]
  },
  {
   "cell_type": "code",
   "execution_count": 5,
   "metadata": {
    "collapsed": false
   },
   "outputs": [
    {
     "data": {
      "text/plain": [
       "<matplotlib.text.Text at 0x110eb419ef0>"
      ]
     },
     "execution_count": 5,
     "metadata": {},
     "output_type": "execute_result"
    },
    {
     "data": {
      "image/png": "[encoded data removed]",
      "text/plain": [
       "<matplotlib.figure.Figure at 0x110e9432b38>"
      ]
     },
     "metadata": {},
     "output_type": "display_data"
    }
   ],
   "source": [
    "# Exploring labels\n",
    "labels.value_counts(dropna=False).plot(kind='bar')\n",
    "plt.xlabel('Labels')"
   ]
  },
  {
   "cell_type": "code",
   "execution_count": 404,
   "metadata": {
    "collapsed": false
   },
   "outputs": [
    {
     "data": {
      "text/plain": [
       "NDF      58.35\n",
       "US       29.22\n",
       "other     4.73\n",
       "FR        2.35\n",
       "IT        1.33\n",
       "GB        1.09\n",
       "ES        1.05\n",
       "CA        0.67\n",
       "DE        0.50\n",
       "NL        0.36\n",
       "AU        0.25\n",
       "PT        0.10\n",
       "Name: country_destination, dtype: float64"
      ]
     },
     "execution_count": 404,
     "metadata": {},
     "output_type": "execute_result"
    }
   ],
   "source": [
    "round(labels.value_counts()/sum(labels.value_counts()) * 100,2)"
   ]
  },
  {
   "cell_type": "markdown",
   "metadata": {},
   "source": [
    "### Language & Language Bins"
   ]
  },
  {
   "cell_type": "code",
   "execution_count": 6,
   "metadata": {
    "collapsed": false
   },
   "outputs": [
    {
     "data": {
      "text/plain": [
       "<matplotlib.text.Text at 0x110fff199b0>"
      ]
     },
     "execution_count": 6,
     "metadata": {},
     "output_type": "execute_result"
    },
    {
     "data": {
      "image/png": "[encoded data removed]",
      "text/plain": [
       "<matplotlib.figure.Figure at 0x110e9460630>"
      ]
     },
     "metadata": {},
     "output_type": "display_data"
    }
   ],
   "source": [
    "train.language.value_counts(dropna=False).plot(kind='bar')\n",
    "plt.xlabel('language')"
   ]
  },
  {
   "cell_type": "code",
   "execution_count": 7,
   "metadata": {
    "collapsed": false
   },
   "outputs": [
    {
     "data": {
      "text/plain": [
       "<matplotlib.axes._subplots.AxesSubplot at 0x110a0c06c18>"
      ]
     },
     "execution_count": 7,
     "metadata": {},
     "output_type": "execute_result"
    },
    {
     "data": {
      "image/png": "[encoded data removed]",
      "text/plain": [
       "<matplotlib.figure.Figure at 0x110e57d8da0>"
      ]
     },
     "metadata": {},
     "output_type": "display_data"
    }
   ],
   "source": [
    "# Table of language vs country_destination\n",
    "lang_dest = pd.crosstab(index=train[\"language\"], \n",
    "                        columns=train[\"country_destination\"])\n",
    "\n",
    "lang_dest.index= np.asarray(np.unique(train['language']))\n",
    "# lang_dest = lang_dest.drop('NDF', axis=1)\n",
    "\n",
    "lang_dest['sum'] = lang_dest.sum(axis=1)\n",
    "perc_langdest = round(lang_dest.loc[:,\"AU\":\"other\"].div(lang_dest[\"sum\"], axis=0),3)\n",
    "\n",
    "plt.figure(figsize=(10,7))\n",
    "sns.heatmap(perc_langdest, linewidth=0.5)"
   ]
  },
  {
   "cell_type": "code",
   "execution_count": 8,
   "metadata": {
    "collapsed": false
   },
   "outputs": [
    {
     "name": "stdout",
     "output_type": "stream",
     "text": [
      "country_destination   AU    CA    DE    ES    FR    GB    IT     NDF   NL   PT     US  other     sum\n",
      "ca                     0     0     0     0     0     0     0       3    0    0      2      0       5\n",
      "cs                     0     0     0     1     0     0     0      23    0    0      6      2      32\n",
      "da                     0     0     0     2     0     0     1      39    0    0     14      2      58\n",
      "de                     3     1    24     7    10     5     6     462    2    1    193     18     732\n",
      "el                     0     0     0     2     1     0     0      18    0    0      2      1      24\n",
      "en                   531  1412  1016  2183  4882  2284  2763  119650  744  210  60845   9794  206314\n",
      "es                     0     0     6    20    18     6     9     640    1    2    166     47     915\n",
      "fi                     0     0     0     0     1     0     0       7    0    0      5      1      14\n",
      "fr                     2     7     8    11    69    12    11     773    4    2    254     19    1172\n",
      "hr                     0     0     0     0     0     0     0       2    0    0      0      0       2\n",
      "hu                     0     0     0     0     0     0     0      14    0    0      3      1      18\n",
      "id                     0     0     0     0     0     0     0      22    0    0      0      0      22\n",
      "is                     0     0     0     0     0     0     0       3    0    0      1      1       5\n",
      "it                     0     1     2     6     3     4    19     410    2    0     60      7     514\n",
      "ja                     0     2     0     1     4     2     2     141    0    0     62     11     225\n",
      "ko                     1     2     0     2    12     3     9     506    2    0    152     58     747\n",
      "nl                     0     0     2     0     3     0     1      62    4    0     19      6      97\n",
      "no                     0     0     0     0     0     2     0      17    0    0     10      1      30\n",
      "pl                     0     0     0     2     1     0     1      41    0    1      6      2      54\n",
      "pt                     0     0     0     1     0     0     0     178    1    1     41     18     240\n",
      "ru                     0     1     1     6     5     1     7     279    0    0     75     14     389\n",
      "sv                     0     0     0     2     0     0     0      78    2    0     33      7     122\n",
      "th                     0     0     0     0     0     0     0      20    0    0      3      1      24\n",
      "tr                     0     0     0     0     1     0     1      44    0    0     14      4      64\n",
      "zh                     2     2     2     3    13     5     5    1111    0    0    410     79    1632\n"
     ]
    }
   ],
   "source": [
    "print(lang_dest.to_string())"
   ]
  },
  {
   "cell_type": "code",
   "execution_count": 9,
   "metadata": {
    "collapsed": false
   },
   "outputs": [
    {
     "data": {
      "text/plain": [
       "<matplotlib.text.Text at 0x1109db63cf8>"
      ]
     },
     "execution_count": 9,
     "metadata": {},
     "output_type": "execute_result"
    },
    {
     "data": {
      "image/png": "[encoded data removed]",
      "text/plain": [
       "<matplotlib.figure.Figure at 0x110eb3d6668>"
      ]
     },
     "metadata": {},
     "output_type": "display_data"
    }
   ],
   "source": [
    "train.bin_lang.value_counts(dropna=False).plot(kind='bar')\n",
    "plt.xlabel('language bin')"
   ]
  },
  {
   "cell_type": "markdown",
   "metadata": {},
   "source": [
    "### Gender"
   ]
  },
  {
   "cell_type": "code",
   "execution_count": 10,
   "metadata": {
    "collapsed": false
   },
   "outputs": [
    {
     "name": "stdout",
     "output_type": "stream",
     "text": [
      "-unknown-    95688\n",
      "FEMALE       63041\n",
      "MALE         54440\n",
      "OTHER          282\n",
      "Name: gender, dtype: int64\n"
     ]
    },
    {
     "data": {
      "image/png": "[encoded data removed]",
      "text/plain": [
       "<matplotlib.figure.Figure at 0x110fc047f60>"
      ]
     },
     "metadata": {},
     "output_type": "display_data"
    }
   ],
   "source": [
    "print(train.gender.value_counts())\n",
    "sum_f = sum(train['gender'] == 'FEMALE')\n",
    "sum_m = sum(train['gender'] == 'MALE')\n",
    "\n",
    "fem = train.loc[train['gender'] == 'FEMALE', 'country_destination'].value_counts() / sum_f * 100\n",
    "mal = train.loc[train['gender'] == 'MALE', 'country_destination'].value_counts() / sum_m * 100\n",
    "\n",
    "# Bar width\n",
    "width = 0.4\n",
    "\n",
    "mal.plot(kind='bar', width=width, color='#3191cd', position=0, label='Male', rot=0)\n",
    "fem.plot(kind='bar', width=width, color='#ef8d71', position=1, label='Female', rot=0)\n",
    "\n",
    "plt.legend()\n",
    "plt.xlabel('Destination Country')\n",
    "plt.ylabel('Percentage')\n",
    "\n",
    "sns.despine()\n",
    "plt.show()"
   ]
  },
  {
   "cell_type": "markdown",
   "metadata": {},
   "source": [
    "### Age and Age Bins"
   ]
  },
  {
   "cell_type": "code",
   "execution_count": 285,
   "metadata": {
    "collapsed": false
   },
   "outputs": [
    {
     "ename": "NameError",
     "evalue": "name 'd' is not defined",
     "output_type": "error",
     "traceback": [
      "\u001b[0;31m---------------------------------------------------------------------------\u001b[0m",
      "\u001b[0;31mNameError\u001b[0m                                 Traceback (most recent call last)",
      "\u001b[0;32m<ipython-input-285-b1b2362af886>\u001b[0m in \u001b[0;36m<module>\u001b[0;34m()\u001b[0m\n\u001b[0;32m----> 1\u001b[0;31m \u001b[0msns\u001b[0m\u001b[1;33m.\u001b[0m\u001b[0mdistplot\u001b[0m\u001b[1;33m(\u001b[0m\u001b[0md\u001b[0m\u001b[1;33m.\u001b[0m\u001b[0mage\u001b[0m\u001b[1;33m.\u001b[0m\u001b[0mdropna\u001b[0m\u001b[1;33m(\u001b[0m\u001b[1;33m)\u001b[0m\u001b[1;33m[\u001b[0m\u001b[0md\u001b[0m\u001b[1;33m.\u001b[0m\u001b[0mage\u001b[0m \u001b[1;33m<\u001b[0m \u001b[1;36m120\u001b[0m\u001b[1;33m]\u001b[0m\u001b[1;33m)\u001b[0m\u001b[1;33m\u001b[0m\u001b[0m\n\u001b[0m\u001b[1;32m      2\u001b[0m \u001b[0mplt\u001b[0m\u001b[1;33m.\u001b[0m\u001b[0mxlabel\u001b[0m\u001b[1;33m(\u001b[0m\u001b[1;34m'Age'\u001b[0m\u001b[1;33m)\u001b[0m\u001b[1;33m\u001b[0m\u001b[0m\n\u001b[1;32m      3\u001b[0m \u001b[0msns\u001b[0m\u001b[1;33m.\u001b[0m\u001b[0mdespine\u001b[0m\u001b[1;33m(\u001b[0m\u001b[1;33m)\u001b[0m\u001b[1;33m\u001b[0m\u001b[0m\n",
      "\u001b[0;31mNameError\u001b[0m: name 'd' is not defined"
     ]
    }
   ],
   "source": [
    "sns.distplot(train.age.dropna()[train.age < 120])\n",
    "plt.xlabel('Age')\n",
    "sns.despine()"
   ]
  },
  {
   "cell_type": "markdown",
   "metadata": {},
   "source": [
    "Suspicious bump in centenarians. People beyond 120 years old seem to capture a year (e.g. '2014') and are probably erroneous 'ages'. "
   ]
  },
  {
   "cell_type": "markdown",
   "metadata": {},
   "source": [
    "Do people of similar age groups travel similarly? "
   ]
  },
  {
   "cell_type": "code",
   "execution_count": 284,
   "metadata": {
    "collapsed": false
   },
   "outputs": [
    {
     "ename": "NameError",
     "evalue": "name 'd' is not defined",
     "output_type": "error",
     "traceback": [
      "\u001b[0;31m---------------------------------------------------------------------------\u001b[0m",
      "\u001b[0;31mNameError\u001b[0m                                 Traceback (most recent call last)",
      "\u001b[0;32m<ipython-input-284-8e3a74f21646>\u001b[0m in \u001b[0;36m<module>\u001b[0;34m()\u001b[0m\n\u001b[1;32m      4\u001b[0m \u001b[0mage3\u001b[0m \u001b[1;33m=\u001b[0m \u001b[1;36m100\u001b[0m\u001b[1;33m\u001b[0m\u001b[0m\n\u001b[1;32m      5\u001b[0m \u001b[1;33m\u001b[0m\u001b[0m\n\u001b[0;32m----> 6\u001b[0;31m \u001b[0myoung\u001b[0m \u001b[1;33m=\u001b[0m \u001b[0md\u001b[0m\u001b[1;33m.\u001b[0m\u001b[0mloc\u001b[0m\u001b[1;33m[\u001b[0m\u001b[0md\u001b[0m\u001b[1;33m[\u001b[0m\u001b[1;34m'age'\u001b[0m\u001b[1;33m]\u001b[0m \u001b[1;33m<\u001b[0m \u001b[0mage0\u001b[0m\u001b[1;33m,\u001b[0m \u001b[1;34m'country_destination'\u001b[0m\u001b[1;33m]\u001b[0m\u001b[1;33m.\u001b[0m\u001b[0mvalue_counts\u001b[0m\u001b[1;33m(\u001b[0m\u001b[1;33m)\u001b[0m\u001b[1;33m\u001b[0m\u001b[0m\n\u001b[0m\u001b[1;32m      7\u001b[0m \u001b[0madult\u001b[0m \u001b[1;33m=\u001b[0m \u001b[0md\u001b[0m\u001b[1;33m.\u001b[0m\u001b[0mquery\u001b[0m\u001b[1;33m(\u001b[0m\u001b[1;34m'age > @age0 & age < @age1'\u001b[0m\u001b[1;33m)\u001b[0m\u001b[1;33m.\u001b[0m\u001b[0mcountry_destination\u001b[0m\u001b[1;33m.\u001b[0m\u001b[0mvalue_counts\u001b[0m\u001b[1;33m(\u001b[0m\u001b[1;33m)\u001b[0m\u001b[1;33m\u001b[0m\u001b[0m\n\u001b[1;32m      8\u001b[0m \u001b[0mworking\u001b[0m \u001b[1;33m=\u001b[0m \u001b[0md\u001b[0m\u001b[1;33m.\u001b[0m\u001b[0mquery\u001b[0m\u001b[1;33m(\u001b[0m\u001b[1;34m'age > @age1 & age < @age2'\u001b[0m\u001b[1;33m)\u001b[0m\u001b[1;33m.\u001b[0m\u001b[0mcountry_destination\u001b[0m\u001b[1;33m.\u001b[0m\u001b[0mvalue_counts\u001b[0m\u001b[1;33m(\u001b[0m\u001b[1;33m)\u001b[0m\u001b[1;33m\u001b[0m\u001b[0m\n",
      "\u001b[0;31mNameError\u001b[0m: name 'd' is not defined"
     ]
    }
   ],
   "source": [
    "age0 = 18\n",
    "age1 = 35\n",
    "age2 = 55\n",
    "age3 = 70\n",
    "\n",
    "teens = train.loc[train['age'] < age0, 'country_destination'].value_counts()\n",
    "adult = train.query('age > @age0 & age < @age1').country_destination.value_counts()\n",
    "working = train.query('age > @age1 & age < @age2').country_destination.value_counts()\n",
    "older = train.query('age > @age2 & age < @age3').country_destination.value_counts()\n",
    "senior = train.loc[train['age'] > age3, 'country_destination'].value_counts()\n",
    "\n",
    "teens_dest = teens / sum(teens) * 100\n",
    "adult_dest = adult / sum(adult) * 100\n",
    "working_dest = working / sum(working) * 100\n",
    "older_dest = older / sum(older) * 100\n",
    "senior_dest = senior / sum(senior) * 100\n",
    "\n",
    "# Bar width\n",
    "width = 0.1\n",
    "\n",
    "plt.figure(figsize=(12,4))\n",
    "teens_dest.plot(kind='bar', width=width, color='#F7DC6F', position=0, label='Teens')\n",
    "adult_dest.plot(kind='bar', width=width, color='#82E0AA', position=1, label='Adult')\n",
    "working_dest.plot(kind='bar', width=width, color='#138D75', position=2, label='Working')\n",
    "older_dest.plot(kind='bar', width=width, color='#85C1E9', position=3, label='Older')\n",
    "senior_dest.plot(kind='bar', width=width, color='#BB8FCE', position=4, label='Senior')\n",
    "\n",
    "\n",
    "plt.legend()\n",
    "plt.xlabel('Destination Country')\n",
    "plt.ylabel('Percentage')\n",
    "\n",
    "sns.despine()\n",
    "plt.show()\n",
    "\n",
    "pd.DataFrame(dict(teens = teens, adult = adult, working = working, older = older, senior = senior)).reset_index()"
   ]
  },
  {
   "cell_type": "code",
   "execution_count": 13,
   "metadata": {
    "collapsed": false
   },
   "outputs": [
    {
     "name": "stdout",
     "output_type": "stream",
     "text": [
      "count    125461.000000\n",
      "mean         49.668335\n",
      "std         155.666612\n",
      "min           1.000000\n",
      "25%          28.000000\n",
      "50%          34.000000\n",
      "75%          43.000000\n",
      "max        2014.000000\n",
      "Name: age, dtype: float64\n",
      "\n",
      "NaN age: 87990\n",
      "Age over 120: 781\n",
      "\n",
      "Age over 120 detail:\n",
      "18354     2014.0\n",
      "147250    2014.0\n",
      "71849     2014.0\n",
      "35279     2014.0\n",
      "178116    2008.0\n",
      "Name: age, dtype: float64\n"
     ]
    }
   ],
   "source": [
    "print(train.age.describe())\n",
    "print(\"\\nNaN age:\", sum(train.age.isnull()))\n",
    "print(\"Age over 120:\", sum(train.age > 120))\n",
    "print(\"\\nAge over 120 detail:\")\n",
    "print(train.age[train['age'] > 120].head(5)) # Erroneous ages that seem to capture year"
   ]
  },
  {
   "cell_type": "code",
   "execution_count": 14,
   "metadata": {
    "collapsed": false
   },
   "outputs": [
    {
     "data": {
      "text/plain": [
       "Unknown    90361\n",
       "30-45      59310\n",
       "Under30    37978\n",
       "45-65      22120\n",
       "100+        3682\n",
       "Name: bin_age, dtype: int64"
      ]
     },
     "execution_count": 14,
     "metadata": {},
     "output_type": "execute_result"
    },
    {
     "data": {
      "image/png": "[encoded data removed]",
      "text/plain": [
       "<matplotlib.figure.Figure at 0x110ea976d68>"
      ]
     },
     "metadata": {},
     "output_type": "display_data"
    }
   ],
   "source": [
    "train.bin_age.value_counts(dropna=True).plot(kind='bar')\n",
    "plt.xlabel('age bin')\n",
    "train.bin_age.value_counts()"
   ]
  },
  {
   "cell_type": "markdown",
   "metadata": {},
   "source": [
    "### First Browser"
   ]
  },
  {
   "cell_type": "code",
   "execution_count": 15,
   "metadata": {
    "collapsed": false
   },
   "outputs": [
    {
     "data": {
      "text/plain": [
       "<matplotlib.axes._subplots.AxesSubplot at 0x110ea975eb8>"
      ]
     },
     "execution_count": 15,
     "metadata": {},
     "output_type": "execute_result"
    },
    {
     "data": {
      "image/png": "[encoded data removed]",
      "text/plain": [
       "<matplotlib.figure.Figure at 0x110ff6046d8>"
      ]
     },
     "metadata": {},
     "output_type": "display_data"
    }
   ],
   "source": [
    "# Table of browser vs country_destination\n",
    "browser = pd.crosstab(index=train[\"first_browser\"], \n",
    "                      columns=train[\"country_destination\"])\n",
    "\n",
    "browser.index= np.asarray(np.unique(train['first_browser']))\n",
    "\n",
    "browser['sum'] = browser.sum(axis=1)\n",
    "p_browser = round(browser.loc[:,\"AU\":\"other\"].div(browser[\"sum\"], axis=0),3)\n",
    "\n",
    "plt.figure(figsize=(10,12))\n",
    "sns.heatmap(p_browser, linewidth=0.5)"
   ]
  },
  {
   "cell_type": "code",
   "execution_count": 16,
   "metadata": {
    "collapsed": false
   },
   "outputs": [
    {
     "name": "stdout",
     "output_type": "stream",
     "text": [
      "country_destination    AU   CA   DE   ES    FR   GB   IT    NDF   NL  PT     US  other    sum\n",
      "-unknown-              39   98   76  158   358  160  190  19648   56  17   5628    838  27266\n",
      "AOL Explorer            0    1    0    1     6    1    3    182    0   0     46      5    245\n",
      "Android Browser         1    3    2    5    10    2    4    571    2   0    212     39    851\n",
      "Apple Mail              0    0    1    0     0    0    1     21    0   0     12      1     36\n",
      "Arora                   0    0    0    0     0    0    0      1    0   0      0      0      1\n",
      "Avant Browser           0    0    0    0     0    0    0      3    0   0      0      1      4\n",
      "BlackBerry Browser      1    0    0    0     2    0    2     31    0   0     15      2     53\n",
      "Camino                  0    0    0    0     0    0    0      2    0   0      7      0      9\n",
      "Chrome                154  486  361  755  1535  742  897  33968  260  73  21061   3553  63845\n",
      "Chrome Mobile           2    5    5    5    14    9   10    862    6   0    304     48   1270\n",
      "Chromium                0    3    1    1     0    0    1     30    0   0     32      5     73\n",
      "CometBird               0    0    0    0     0    0    0     10    0   0      1      0     11\n",
      "Comodo Dragon           0    0    0    0     0    0    0      2    0   0      0      0      2\n",
      "Conkeror                0    0    0    0     0    0    0      1    0   0      0      0      1\n",
      "CoolNovo                0    1    0    0     0    0    0      3    0   0      2      0      6\n",
      "Crazy Browser           0    0    0    0     0    0    0      2    0   0      0      0      2\n",
      "Epic                    0    0    0    0     0    0    0      1    0   0      0      0      1\n",
      "Firefox                94  291  202  396   917  390  485  17925  119  46  11004   1786  33655\n",
      "Flock                   0    0    0    0     0    0    0      2    0   0      0      0      2\n",
      "Google Earth            0    0    0    0     0    0    0      1    0   0      0      0      1\n",
      "Googlebot               0    0    0    0     0    0    0      0    0   0      0      1      1\n",
      "IE                     54  120   95  210   459  216  278  13345   62  15   5253    961  21068\n",
      "IE Mobile               0    0    0    0     0    0    0     29    0   0      7      0     36\n",
      "IceDragon               0    0    0    0     0    0    0      1    0   0      0      0      1\n",
      "IceWeasel               0    0    0    0     0    1    0      5    0   0      6      1     13\n",
      "Iron                    0    0    0    0     1    0    1      8    0   0      5      2     17\n",
      "Kindle Browser          0    0    0    0     0    0    0      0    0   0      0      1      1\n",
      "Maxthon                 0    0    0    1     0    1    0     30    0   0     11      3     46\n",
      "Mobile Firefox          0    0    0    0     0    0    1     17    0   0     12      0     30\n",
      "Mobile Safari          56   96   69  190   423  179  253  12093   67  12   5020    816  19274\n",
      "Mozilla                 0    0    0    0     0    0    0      2    0   0      1      0      3\n",
      "NetNewsWire             0    0    0    0     0    0    0      0    0   0      1      0      1\n",
      "OmniWeb                 0    0    0    0     0    0    0      2    0   0      0      0      2\n",
      "Opera                   0    1    1    1     5    0    1    124    1   0     42     12    188\n",
      "Opera Mini              0    0    0    0     0    0    0      2    0   0      2      0      4\n",
      "Opera Mobile            0    0    0    0     0    0    0      2    0   0      0      0      2\n",
      "Outlook 2007            0    0    0    0     0    0    0      1    0   0      0      0      1\n",
      "PS Vita browser         0    0    0    0     0    0    0      1    0   0      0      0      1\n",
      "Pale Moon               0    0    0    0     0    0    0      8    0   0      4      0     12\n",
      "Palm Pre web browser    0    0    0    0     0    0    0      0    0   0      0      1      1\n",
      "RockMelt                0    0    0    0     0    2    1     12    0   0      9      0     24\n",
      "Safari                138  321  248  526  1290  620  706  25448  189  54  13625   2004  45169\n",
      "SeaMonkey               0    1    0    0     0    0    0      7    0   0      1      2     11\n",
      "Silk                    0    1    0    0     1    1    1     81    0   0     36      3    124\n",
      "SiteKiosk               0    0    0    0     1    0    0     17    0   0      4      2     24\n",
      "SlimBrowser             0    0    0    0     0    0    0      1    0   0      1      0      2\n",
      "Sogou Explorer          0    0    0    0     0    0    0     24    0   0      6      3     33\n",
      "Stainless               0    0    0    0     0    0    0      0    0   0      1      0      1\n",
      "TenFourFox              0    0    0    0     0    0    0      4    0   0      3      1      8\n",
      "TheWorld Browser        0    0    0    0     1    0    0      0    0   0      1      0      2\n",
      "Yandex.Browser          0    0    0    0     0    0    0     10    0   0      0      1     11\n",
      "wOSBrowser              0    0    0    0     0    0    0      3    0   0      1      2      6\n"
     ]
    }
   ],
   "source": [
    "print(browser.to_string())"
   ]
  },
  {
   "cell_type": "markdown",
   "metadata": {},
   "source": [
    "### Signup Method"
   ]
  },
  {
   "cell_type": "code",
   "execution_count": 17,
   "metadata": {
    "collapsed": false
   },
   "outputs": [
    {
     "data": {
      "text/plain": [
       "<matplotlib.axes._subplots.AxesSubplot at 0x110a3cce8d0>"
      ]
     },
     "execution_count": 17,
     "metadata": {},
     "output_type": "execute_result"
    },
    {
     "data": {
      "image/png": "[encoded data removed]",
      "text/plain": [
       "<matplotlib.figure.Figure at 0x110a3cfddd8>"
      ]
     },
     "metadata": {},
     "output_type": "display_data"
    }
   ],
   "source": [
    "# Table of signup_method vs country_destination\n",
    "signup = pd.crosstab(index=train[\"signup_method\"], \n",
    "                      columns=train[\"country_destination\"])\n",
    "\n",
    "signup.index= np.asarray(np.unique(train['signup_method']))\n",
    "\n",
    "signup['sum'] = signup.sum(axis=1)\n",
    "p_signup = round(signup.loc[:,\"AU\":\"other\"].div(signup[\"sum\"], axis=0),3)\n",
    "\n",
    "plt.figure(figsize=(10,1))\n",
    "sns.heatmap(p_signup, linewidth=0.5)"
   ]
  },
  {
   "cell_type": "markdown",
   "metadata": {},
   "source": [
    "### First Device Type"
   ]
  },
  {
   "cell_type": "code",
   "execution_count": 18,
   "metadata": {
    "collapsed": false
   },
   "outputs": [
    {
     "data": {
      "text/plain": [
       "<matplotlib.axes._subplots.AxesSubplot at 0x110f9fdc4e0>"
      ]
     },
     "execution_count": 18,
     "metadata": {},
     "output_type": "execute_result"
    },
    {
     "data": {
      "image/png": "[encoded data removed]",
      "text/plain": [
       "<matplotlib.figure.Figure at 0x110ff1d4e48>"
      ]
     },
     "metadata": {},
     "output_type": "display_data"
    }
   ],
   "source": [
    "# Table of first_device_type vs country_destination\n",
    "device = pd.crosstab(index=train[\"first_device_type\"], \n",
    "                      columns=train[\"country_destination\"])\n",
    "\n",
    "device.index= np.asarray(np.unique(train['first_device_type']))\n",
    "\n",
    "device['sum'] = device.sum(axis=1)\n",
    "p_device = round(device.loc[:,\"AU\":\"other\"].div(device[\"sum\"], axis=0),3)\n",
    "\n",
    "plt.figure(figsize=(10,3))\n",
    "sns.heatmap(p_device, linewidth=0.5)"
   ]
  },
  {
   "cell_type": "markdown",
   "metadata": {},
   "source": [
    "### Month Account Created"
   ]
  },
  {
   "cell_type": "code",
   "execution_count": 19,
   "metadata": {
    "collapsed": false
   },
   "outputs": [
    {
     "data": {
      "text/plain": [
       "<matplotlib.axes._subplots.AxesSubplot at 0x110ea542518>"
      ]
     },
     "execution_count": 19,
     "metadata": {},
     "output_type": "execute_result"
    },
    {
     "data": {
      "image/png": "[encoded data removed]",
      "text/plain": [
       "<matplotlib.figure.Figure at 0x110eb393978>"
      ]
     },
     "metadata": {},
     "output_type": "display_data"
    }
   ],
   "source": [
    "# Table of first_device_type vs country_destination\n",
    "month = pd.crosstab(index=train[\"month_created\"], \n",
    "                      columns=train[\"country_destination\"])\n",
    "\n",
    "month.index= np.asarray(np.unique(train['month_created']))\n",
    "\n",
    "month['sum'] = month.sum(axis=1)\n",
    "p_month = round(month.loc[:,\"AU\":\"other\"].div(month[\"sum\"], axis=0),3)\n",
    "\n",
    "plt.figure(figsize=(10,3))\n",
    "sns.heatmap(p_month, linewidth=0.5)"
   ]
  },
  {
   "cell_type": "code",
   "execution_count": 20,
   "metadata": {
    "collapsed": false
   },
   "outputs": [
    {
     "name": "stdout",
     "output_type": "stream",
     "text": [
      "country_destination  AU   CA   DE   ES   FR   GB   IT    NDF   NL  PT    US  other    sum\n",
      "1                    54   73   79  152  384  157  223  10476   47  13  5033    804  17495\n",
      "2                    44   79   70  182  410  191  209   9558   67  15  4874    883  16582\n",
      "3                    41  122   96  232  510  239  341  11655   67  22  5989   1011  20325\n",
      "4                    34  157  122  284  587  278  349  12601   75  21  6336   1023  21867\n",
      "5                    64  219  132  306  715  304  416  14957  121  34  7400   1244  25912\n",
      "6                    47  221  130  348  610  310  361  16377  114  34  7604   1266  27422\n",
      "7                    23  107   90  174  314  156  188   7802   41  10  4291    636  13832\n",
      "8                    41  127   92  162  383  148  200   8229   73  16  4497    643  14611\n",
      "9                    43  101   99  153  342  158  189   9143   50  18  4458    641  15395\n",
      "10                   41   74   53   90  292  144  139   7751   39  13  4199    641  13476\n",
      "11                   63   92   49   77  248  132  114   7841   39   9  3815    650  13129\n",
      "12                   44   56   49   89  228  107  106   8153   29  12  3880    652  13405\n"
     ]
    }
   ],
   "source": [
    "print(month.to_string())"
   ]
  },
  {
   "cell_type": "markdown",
   "metadata": {},
   "source": [
    "### First Hour"
   ]
  },
  {
   "cell_type": "code",
   "execution_count": 21,
   "metadata": {
    "collapsed": false
   },
   "outputs": [
    {
     "data": {
      "text/plain": [
       "<matplotlib.axes._subplots.AxesSubplot at 0x110ff920400>"
      ]
     },
     "execution_count": 21,
     "metadata": {},
     "output_type": "execute_result"
    },
    {
     "data": {
      "image/png": "[encoded data removed]",
      "text/plain": [
       "<matplotlib.figure.Figure at 0x110ff531208>"
      ]
     },
     "metadata": {},
     "output_type": "display_data"
    }
   ],
   "source": [
    "# Table of first_device_type vs country_destination\n",
    "hour = pd.crosstab(index=train[\"first_hour\"], \n",
    "                      columns=train[\"country_destination\"])\n",
    "\n",
    "hour.index= np.asarray(np.unique(train['first_hour']))\n",
    "\n",
    "hour = hour.drop('NDF', axis=1) # drop 'NDF' column for better visualization\n",
    "# hour = hour.drop('US', axis=1) # drop 'US' column for better visualization\n",
    "hour['sum'] = hour.sum(axis=1)\n",
    "p_hour = round(hour.loc[:,\"AU\":\"other\"].div(hour[\"sum\"], axis=0),3)\n",
    "\n",
    "plt.figure(figsize=(10,6))\n",
    "sns.heatmap(p_hour, linewidth=0.5)"
   ]
  },
  {
   "cell_type": "code",
   "execution_count": 22,
   "metadata": {
    "collapsed": false
   },
   "outputs": [
    {
     "name": "stdout",
     "output_type": "stream",
     "text": [
      "country_destination  AU   CA  DE   ES   FR   GB   IT  NL  PT    US  other   sum\n",
      "0                    32   72  56  106  246  102  148  30  11  3628    543  4974\n",
      "1                    31   84  37  113  233   93  147  30   9  3301    486  4564\n",
      "2                    28   77  51   91  217   97  133  36  12  3141    454  4337\n",
      "3                    26   63  42  123  240  112  137  38   6  3332    532  4651\n",
      "4                    32   95  70  120  277  138  147  47  13  3724    640  5303\n",
      "5                    31   76  51  121  288  114  168  41  14  3560    658  5122\n",
      "6                    25   70  43   98  269   89  145  32  13  2812    541  4137\n",
      "7                    31   38  34   64  172   86  104  20   8  1838    414  2809\n",
      "8                    16   29  26   46  112   49   55  16   3  1099    244  1695\n",
      "9                    11   13  24   42   79   53   33  10   3   588    179  1035\n",
      "10                    8   13  16   24   59   33   34  12   4   353    108   664\n",
      "11                   13    4  15   27   53   32   34   7   5   290    106   586\n",
      "12                    5   14  19   32   51   21   29  11   4   287    111   584\n",
      "13                    8   14  18   26   76   27   45   7   5   495    127   848\n",
      "14                   10   24  22   50   84   67   62  19   4   851    191  1384\n",
      "15                   11   45  49   79  160   64   85  18   4  1677    264  2456\n",
      "16                   20   56  45   77  221   96  143  26  11  2775    440  3910\n",
      "17                   24   92  60  132  281  140  171  50  17  3732    513  5212\n",
      "18                   24   94  61  137  291  159  168  44  12  4192    607  5789\n",
      "19                   31  108  75  148  306  154  157  55   9  4375    592  6010\n",
      "20                   19   87  67  151  344  149  177  48  12  4150    584  5788\n",
      "21                   36   92  76  147  339  146  183  45  10  4141    615  5830\n",
      "22                   37   79  50  148  309  156  165  59  14  4035    572  5624\n",
      "23                   30   89  54  147  316  147  165  61  14  4000    573  5596\n"
     ]
    }
   ],
   "source": [
    "print(hour.to_string())"
   ]
  },
  {
   "cell_type": "markdown",
   "metadata": {},
   "source": [
    "### Count of Actions"
   ]
  },
  {
   "cell_type": "code",
   "execution_count": 23,
   "metadata": {
    "collapsed": false
   },
   "outputs": [
    {
     "name": "stdout",
     "output_type": "stream",
     "text": [
      "count    73815.000000\n",
      "mean        75.024819\n",
      "std        112.543174\n",
      "min          1.000000\n",
      "25%         13.000000\n",
      "50%         38.000000\n",
      "75%         91.000000\n",
      "max       2644.000000\n",
      "Name: count_actions, dtype: float64\n",
      "\n",
      "Count NaN: 139636\n"
     ]
    },
    {
     "data": {
      "text/plain": [
       "<matplotlib.text.Text at 0x110a1c88198>"
      ]
     },
     "execution_count": 23,
     "metadata": {},
     "output_type": "execute_result"
    },
    {
     "data": {
      "image/png": "[encoded data removed]",
      "text/plain": [
       "<matplotlib.figure.Figure at 0x110fd07ea20>"
      ]
     },
     "metadata": {},
     "output_type": "display_data"
    }
   ],
   "source": [
    "print(train.count_actions.describe())\n",
    "print('\\nCount NaN:', sum(train.count_actions.isnull())) # many null values for people we dont have sessions data on\n",
    "\n",
    "plt.figure(figsize=(10, 6))\n",
    "np.log(train.count_actions).value_counts(dropna=True).plot(kind='line')\n",
    "plt.xlabel('log Count Actions')"
   ]
  },
  {
   "cell_type": "markdown",
   "metadata": {},
   "source": [
    "### Affiliate channel"
   ]
  },
  {
   "cell_type": "code",
   "execution_count": 24,
   "metadata": {
    "collapsed": false
   },
   "outputs": [
    {
     "data": {
      "text/plain": [
       "<matplotlib.axes._subplots.AxesSubplot at 0x110f9fe22b0>"
      ]
     },
     "execution_count": 24,
     "metadata": {},
     "output_type": "execute_result"
    },
    {
     "data": {
      "image/png": "[encoded data removed]",
      "text/plain": [
       "<matplotlib.figure.Figure at 0x110a2c7ab70>"
      ]
     },
     "metadata": {},
     "output_type": "display_data"
    }
   ],
   "source": [
    "np.unique(train['affiliate_channel'])\n",
    "\n",
    "# Table of affiliate_channel vs country_destination\n",
    "aff = pd.crosstab(index=train[\"affiliate_channel\"],\n",
    "                  columns=train[\"country_destination\"])\n",
    "\n",
    "aff.index= np.asarray(np.unique(train['affiliate_channel']))\n",
    "\n",
    "aff['sum'] = aff.sum(axis=1)\n",
    "p_aff = round(aff.loc[:,\"AU\":\"other\"].div(aff[\"sum\"], axis=0),3)\n",
    "\n",
    "plt.figure(figsize=(10,3))\n",
    "sns.heatmap(p_aff, linewidth=0.5)"
   ]
  },
  {
   "cell_type": "code",
   "execution_count": 25,
   "metadata": {
    "collapsed": false
   },
   "outputs": [
    {
     "name": "stdout",
     "output_type": "stream",
     "text": [
      "country_destination   AU   CA   DE    ES    FR    GB    IT    NDF   NL   PT     US  other     sum\n",
      "api                   17   30   22    56    87    60    50   5382   20    1   2124    318    8167\n",
      "content                7   17    5    26    57     7    21   3390    8    1    327     82    3948\n",
      "direct               363  945  699  1536  3294  1579  1858  78329  503  144  41725   6752  137727\n",
      "other                 10   70   35    34   115    44    63   5361   12    8   2969    240    8961\n",
      "remarketing            1    7    5    21    35    13    17    728    2    1    225     41    1096\n",
      "sem-brand             65  154  137   278   669   329   463  14951  103   37   7725   1134   26045\n",
      "sem-non-brand         59  147  112   180   533   193   242  11694   80   17   4552   1035   18844\n",
      "seo                   17   58   46   118   233    99   121   4708   34    8   2729    492    8663\n"
     ]
    }
   ],
   "source": [
    "print(aff.to_string())"
   ]
  },
  {
   "cell_type": "markdown",
   "metadata": {},
   "source": [
    "### Last Action"
   ]
  },
  {
   "cell_type": "code",
   "execution_count": 26,
   "metadata": {
    "collapsed": false
   },
   "outputs": [
    {
     "data": {
      "text/plain": [
       "<matplotlib.axes._subplots.AxesSubplot at 0x110a90927b8>"
      ]
     },
     "execution_count": 26,
     "metadata": {},
     "output_type": "execute_result"
    },
    {
     "data": {
      "image/png": "[encoded data removed]",
      "text/plain": [
       "<matplotlib.figure.Figure at 0x110ea8e4198>"
      ]
     },
     "metadata": {},
     "output_type": "display_data"
    }
   ],
   "source": [
    "t = train[train['last_action'].isnull() == False]\n",
    "np.unique(t['last_action'])\n",
    "\n",
    "# Table of affiliate_channel vs country_destination\n",
    "action = pd.crosstab(index=t['last_action'],\n",
    "                     columns=t[\"country_destination\"])\n",
    "\n",
    "action.index= np.asarray(np.unique(t['last_action']))\n",
    "\n",
    "action['sum'] = action.sum(axis=1)\n",
    "p_act = round(action.loc[:,\"AU\":\"other\"].div(action[\"sum\"], axis=0),3)\n",
    "\n",
    "plt.figure(figsize=(10,20))\n",
    "sns.heatmap(p_act, linewidth=0.5)"
   ]
  },
  {
   "cell_type": "code",
   "execution_count": 27,
   "metadata": {
    "collapsed": false
   },
   "outputs": [
    {
     "name": "stdout",
     "output_type": "stream",
     "text": [
      "country_destination            AU  CA  DE  ES   FR   GB   IT   NDF  NL  PT    US  other    sum\n",
      "-unknown-                      16  59  33  87  149   94  102  6405  25  15  2906    410  10301\n",
      "account_notification_settings   0   0   3   2    2    2    2   100   0   0    42     10    163\n",
      "account_payout_preferences      0   1   0   0    2    0    0    14   0   0     4      1     22\n",
      "account_privacy_settings        0   0   0   0    0    0    0     4   0   0     2      0      6\n",
      "account_transaction_history     0   1   0   0    0    0    0     3   0   0     3      0      7\n",
      "admin_templates                 0   0   0   0    1    0    0     0   0   0     1      0      2\n",
      "airbnb_picks_wishlists          0   0   0   0    0    0    0     5   0   0     2      1      8\n",
      "alteration_field                0   0   0   0    0    0    0     1   0   0     0      0      1\n",
      "alteration_request              0   0   0   0    0    0    0     0   0   0     1      0      1\n",
      "apply_coupon                    0   1   1   0    2    1    4    38   0   0    37      9     93\n",
      "apply_coupon_click              0   0   0   0    2    0    0     3   0   0     1      0      6\n",
      "apply_coupon_error              0   0   0   0    0    0    0     6   0   0     4      1     11\n",
      "at_checkpoint                   0   0   1   0    0    1    1    17   0   0    40      4     64\n",
      "book_it                         1   2   0   0    3    1    1   178   0   0    70      3    259\n",
      "cancellation_policies           0   4   1   5   12    5    8   150   1   0   154     19    359\n",
      "cancellation_policy_click       0   1   0   0    3    1    0     6   0   0     5      1     17\n",
      "change_contact_host_dates       1   4   1   8   11    4   12   261   1   0   127     21    451\n",
      "change_or_alter                 0   0   0   0    0    0    0     1   0   0     4      2      7\n",
      "change_trip_characteristics    11  26  20  45  108   38   68  2040  16   8  1088    246   3714\n",
      "complete_booking                0   0   0   0    0    0    1     0   0   0     0      0      1\n",
      "confirm_email                   0   0   0   0    0    0    0     3   0   0     1      1      5\n",
      "confirm_email_link              5   4   9  12   25   17   14   710   1   2   425     75   1299\n",
      "contact_host                    4   5   5  10   28   16    9   890   3   0   438     94   1502\n",
      "coupon_code_click               0   0   0   0    0    0    0     2   0   0     6      0      8\n",
      "coupon_field_focus              0   0   0   1    0    1    0     6   0   0     3      1     12\n",
      "create_listing                  0   0   1   1    0    1    0   125   0   0     7      1    136\n",
      "create_phone_numbers            1   2   2   8   14   12   16   102   1   0   233     33    424\n",
      "create_user                     5  16   5  27   32   22   25  1365   6   2   483    110   2098\n",
      "dashboard                       4  14   8  19   41   17   30  1307   5   0   685    121   2251\n",
      "delete_listing                  0   0   0   0    0    1    0     0   0   0     2      0      3\n",
      "delete_phone_numbers            0   0   0   0    3    2    3     4   0   1    11      2     26\n",
      "edit_profile                    2   2   6   7   22   12   15   416   5   3   321     50    861\n",
      "email_wishlist                  0   0   0   0    0    0    0     2   0   0     1      0      3\n",
      "email_wishlist_button           0   0   0   0    0    0    0     4   0   0     2      0      6\n",
      "forgot_password                 0   0   0   0    0    0    0     2   0   0     2      0      4\n",
      "friends_wishlists               0   0   0   0    1    0    0    12   0   0     6      0     19\n",
      "guest_cancellation              0   0   0   0    0    0    0     1   0   0     1      0      2\n",
      "guest_itinerary                 0   0   1   2    2    0    0     8   0   0    10      2     25\n",
      "guest_receipt                   0   0   0   1    0    0    0     0   0   0     1      0      2\n",
      "header_userpic                  9  27   9  34   82   35   49  2698  10   2   979    186   4120\n",
      "host_guarantee                  0   0   0   0    0    0    0     3   0   0     1      0      4\n",
      "host_home                       0   0   0   0    0    0    0     9   0   0     0      0      9\n",
      "instant_book                    0   0   0   0    0    0    0    31   0   0     9      0     40\n",
      "list_your_space                 0   1   2   0    1    0    2   130   0   0    28     11    175\n",
      "listing_descriptions            0   0   0   0    0    0    0    39   0   0     7      1     47\n",
      "listing_recommendations         0   0   0   0    1    0    0    43   0   0    17      1     62\n",
      "listing_reviews                 0   2   0   6    5    3   10   526   3   0   136     22    713\n",
      "listing_reviews_page            0   0   1   2    2    0    3    14   0   0    26      1     49\n",
      "login                           1   7   8  20   18    9   14   951   6   2   261     50   1347\n",
      "login_modal                     0   0   0   1    0    0    2    19   0   0    20      4     46\n",
      "login_page                      0   0   0   0    2    0    3    65   0   0    19      0     89\n",
      "lookup_message_thread           0   0   0   0    2    0    0     3   0   0    10      1     16\n",
      "manage_listing                  0   0   1   0    3    1    3   256   0   1    34      9    308\n",
      "message_inbox                   0   1   0   0    1    1    2    50   0   0    30      6     91\n",
      "message_post                    3  17   3  16   50   34   31  1092  11   1   795    138   2191\n",
      "message_thread                  2  11   2   5   21   15   14   429   6   1   435     65   1006\n",
      "message_to_host_change          0   1   0   1    2    0    2    13   0   0    27      2     48\n",
      "message_to_host_focus           0   3   0   4    4    1    2    30   2   1    30      4     81\n",
      "notifications                   1   0   0   3    5    1    1   398   3   0    76      9    497\n",
      "oauth_login                     0   0   0   0    1    1    0    39   0   0    37      4     82\n",
      "oauth_response                  0   2   0   0    3    2    0   123   0   0    42      5    177\n",
      "p1                              2   2   3   5    3    1    0   228   0   0    76     16    336\n",
      "p3                             15  25  23  70  136   54   78  3671  26   7  1445    285   5835\n",
      "p4                              1   3   0   4    3    2    3    80   2   0    63      9    170\n",
      "p4_refund_policy_terms          0   0   0   0    0    0    0     2   1   0     0      0      3\n",
      "p4_terms                        0   0   0   0    0    0    0     0   0   0     1      1      2\n",
      "p5                              7  10   2  13   34   16   21   116   9   4   541     86    859\n",
      "payment_instruments             0   0   0   0    1    1    1    80   0   0    20      2    105\n",
      "pending                         2   1   1   7   13    4    9    45   1   5   187     26    301\n",
      "phone_verification_success      0   0   0   0    0    0    0     0   0   0     1      0      1\n",
      "popular_wishlists               0   0   0   0    0    1    0    19   0   0     3      2     25\n",
      "post_checkout_action            0   1   4   4   10    6    9    14   5   0   116     13    182\n",
      "previous_trips                  0   0   0   0    0    0    0     4   0   0     0      0      4\n",
      "profile_references              1   2   4   0    3    1    1    45   0   0    26      5     88\n",
      "profile_verifications           0   1   1   4    7    3    3   126   1   0    85     10    241\n",
      "read_policy_click               0   0   0   0    0    0    0     4   0   0    10      2     16\n",
      "remove_dashboard_alert          0   0   0   0    0    0    0     0   0   0     1      0      1\n",
      "request_new_confirm_email       0   0   0   3    1    0    0    27   0   0    36      4     71\n",
      "request_to_book                 0   0   1   0    0    0    0    22   0   0     8      0     31\n",
      "reservations                    0   1   0   3    1    1    1   145   1   0    36     11    200\n",
      "send_message                    0   0   0   0    1    0    0    23   0   0    34      6     64\n",
      "set_password                    0   0   0   0    0    0    0    24   0   0     3      0     27\n",
      "set_password_page               0   0   0   0    0    0    0    15   0   0     7      0     22\n",
      "signup                          0   5   0   5    5    3    2   627   1   0   167     28    843\n",
      "signup_login_page               0   1   1   2    3    0    1    87   0   0    45      4    144\n",
      "signup_modal                    0   0   0   1    1    2    1    19   0   0     9      2     35\n",
      "similar_listings                8  25  13  36   95   37   65  1799  11   4   878    191   3162\n",
      "terms_and_privacy               0   0   0   0    0    0    0    13   1   0    13      4     31\n",
      "toggle_archived_thread          0   0   0   0    0    0    0     2   0   0     1      0      3\n",
      "toggle_starred_thread           0   0   0   0    0    0    0     1   0   0     1      0      2\n",
      "translate_listing_reviews       0   0   0   0    2    0    0     0   0   0     2      0      4\n",
      "translations                    0   0   0   0    1    0    0     4   0   0     0      0      5\n",
      "trip_availability               0   1   0   0    0    2    0    34   0   0    25      4     66\n",
      "unavailable_dates               1   2   2   3    1    4    3   388   1   0   104     20    529\n",
      "update_listing                  5   6   2  13   33   14   14  1603   6   0   345     62   2103\n",
      "update_listing_description      1   1   0   1    1    1    1   192   0   0    27      5    230\n",
      "update_user                     0   1   0   3    2    0    0   224   0   0    45      5    280\n",
      "update_user_profile             1   3   2   3    1    0    2    88   0   0    85     10    195\n",
      "user_friend_recommendations     0   0   0   0    0    0    0     0   0   0     1      0      1\n",
      "user_languages                  0   0   0   0    0    0    0     3   0   0     0      0      3\n",
      "user_listings                   0   2   0   1    3    3    1   304   0   0    74     13    401\n",
      "user_profile                    3  13   9  13   21   19   20  1590   9   2   542    101   2342\n",
      "user_profile_content_update     2   2   1   4    8    4    5   237   0   0   124     22    409\n",
      "user_reviews                    0   2   0   1    1    1    1   116   1   0    31      3    157\n",
      "user_social_connections         0   1   0   6   12    5   12   812   1   0   229     34   1112\n",
      "user_tax_forms                  0   0   0   0    0    0    0     6   0   0     2      2     10\n",
      "user_wishlists                  0   3   2   6    6    4    1   639   2   0   155     26    844\n",
      "view_listing                    0   0   0   0    0    0    0    10   0   0     0      0     10\n",
      "view_search_results            26  48  36  87  179  109  149  6209  36  13  2318    480   9690\n",
      "wishlist                        0   0   0   1    5    2    0    35   1   0    24      4     72\n",
      "wishlist_content_update        10  51  17  75  161   67  112  3829  25   7  1733    373   6460\n",
      "wishlist_note                   0   0   0   0    0    0    0     2   0   0     0      0      2\n",
      "your_listings                   0   3   0   1    4    2    4   189   1   1    48     16    269\n",
      "your_reservations               0   0   0   0    0    0    0     3   0   0     0      0      3\n",
      "your_trips                      1  10   3   5   11   11   10   132   0   1   219     31    434\n"
     ]
    }
   ],
   "source": [
    "print(action.to_string())"
   ]
  },
  {
   "cell_type": "markdown",
   "metadata": {},
   "source": [
    "## Encode Data"
   ]
  },
  {
   "cell_type": "code",
   "execution_count": 315,
   "metadata": {
    "collapsed": false
   },
   "outputs": [],
   "source": [
    "# Output 3 classes: NDF, US, Non-US\n",
    "def country(col):\n",
    "    if col == 'NDF':\n",
    "        return \"NDF\"\n",
    "    elif col == 'US':\n",
    "        return 'US'\n",
    "    else:\n",
    "        return 'non-US'\n",
    "    \n",
    "t = train_labels.apply(country)\n",
    "d = dev_labels.apply(country)"
   ]
  },
  {
   "cell_type": "code",
   "execution_count": 325,
   "metadata": {
    "collapsed": false
   },
   "outputs": [
    {
     "name": "stdout",
     "output_type": "stream",
     "text": [
      "(188451,)\n",
      "(25000,)\n"
     ]
    }
   ],
   "source": [
    "# Convert labels to numeric\n",
    "le = preprocessing.LabelEncoder() # Initialize label_encoder\n",
    "t_lab, d_lab = le.fit_transform(t), le.fit_transform(d)\n",
    "\n",
    "print(t_lab.shape)\n",
    "print(d_lab.shape)"
   ]
  },
  {
   "cell_type": "markdown",
   "metadata": {},
   "source": [
    "# KNN"
   ]
  },
  {
   "cell_type": "markdown",
   "metadata": {},
   "source": [
    "### Is language predictive?"
   ]
  },
  {
   "cell_type": "code",
   "execution_count": 210,
   "metadata": {
    "collapsed": false
   },
   "outputs": [],
   "source": [
    "# Convert language to numeric\n",
    "code_lang = le.fit_transform(train_data.language)\n",
    "dev_lang = le.fit_transform(dev_data.language)"
   ]
  },
  {
   "cell_type": "code",
   "execution_count": 30,
   "metadata": {
    "collapsed": false
   },
   "outputs": [
    {
     "data": {
      "text/plain": [
       "array([[4],\n",
       "       [4],\n",
       "       [4],\n",
       "       ..., \n",
       "       [4],\n",
       "       [4],\n",
       "       [4]], dtype=int64)"
      ]
     },
     "execution_count": 30,
     "metadata": {},
     "output_type": "execute_result"
    }
   ],
   "source": [
    "code_lang.reshape((188451,1))\n",
    "dev_lang.reshape((25000,1))"
   ]
  },
  {
   "cell_type": "code",
   "execution_count": 31,
   "metadata": {
    "collapsed": false
   },
   "outputs": [
    {
     "name": "stdout",
     "output_type": "stream",
     "text": [
      "K Nearest Neighbors:\n"
     ]
    },
    {
     "name": "stderr",
     "output_type": "stream",
     "text": [
      "c:\\Users\\cendy\\Anaconda3\\lib\\site-packages\\sklearn\\metrics\\classification.py:1113: UndefinedMetricWarning: F-score is ill-defined and being set to 0.0 in labels with no predicted samples.\n",
      "  'precision', 'predicted', average, warn_for)\n"
     ]
    },
    {
     "name": "stdout",
     "output_type": "stream",
     "text": [
      "k: 1  f1 score: 0.4320\n",
      "k: 2  f1 score: 0.4322\n",
      "k: 3  f1 score: 0.4325\n",
      "k: 4  f1 score: 0.4332\n",
      "k: 5  f1 score: 0.4331\n",
      "k: 6  f1 score: 0.4331\n",
      "k: 7  f1 score: 0.4331\n",
      "k: 8  f1 score: 0.4331\n",
      "k: 9  f1 score: 0.4331\n",
      "Optimal k: 4\n"
     ]
    }
   ],
   "source": [
    "print(\"K Nearest Neighbors:\")\n",
    "f1 = []\n",
    "for k in range(1,10):\n",
    "    knn = KNeighborsClassifier(n_neighbors = k)\n",
    "    knn.fit(code_lang.reshape((188451,1)), train_lab)\n",
    "    preds = knn.predict(dev_lang.reshape((25000,1)))\n",
    "    f1_score = metrics.f1_score(dev_lab, preds, average = \"weighted\")\n",
    "    f1.append(f1_score)\n",
    "    print(\"k: %r  f1 score: %.4f\" %(k, f1_score))\n",
    "print(\"Optimal k:\", f1.index(max(f1))+1)"
   ]
  },
  {
   "cell_type": "markdown",
   "metadata": {},
   "source": [
    "### What about language and age?"
   ]
  },
  {
   "cell_type": "code",
   "execution_count": 64,
   "metadata": {
    "collapsed": false
   },
   "outputs": [
    {
     "name": "stderr",
     "output_type": "stream",
     "text": [
      "c:\\Users\\cendy\\Anaconda3\\lib\\site-packages\\ipykernel\\__main__.py:3: FutureWarning: reshape is deprecated and will raise in a subsequent release. Please use .values.reshape(...) instead\n",
      "  app.launch_new_instance()\n",
      "c:\\Users\\cendy\\Anaconda3\\lib\\site-packages\\ipykernel\\__main__.py:6: FutureWarning: reshape is deprecated and will raise in a subsequent release. Please use .values.reshape(...) instead\n"
     ]
    },
    {
     "name": "stdout",
     "output_type": "stream",
     "text": [
      "K Nearest Neighbors:\n"
     ]
    },
    {
     "name": "stderr",
     "output_type": "stream",
     "text": [
      "c:\\Users\\cendy\\Anaconda3\\lib\\site-packages\\sklearn\\metrics\\classification.py:1113: UndefinedMetricWarning: F-score is ill-defined and being set to 0.0 in labels with no predicted samples.\n",
      "  'precision', 'predicted', average, warn_for)\n"
     ]
    },
    {
     "name": "stdout",
     "output_type": "stream",
     "text": [
      "k: 1  f1 score: 0.4886\n",
      "k: 2  f1 score: 0.4581\n",
      "k: 3  f1 score: 0.4666\n",
      "k: 4  f1 score: 0.4663\n",
      "k: 5  f1 score: 0.4730\n",
      "k: 6  f1 score: 0.4745\n",
      "k: 7  f1 score: 0.4753\n",
      "k: 8  f1 score: 0.4678\n",
      "k: 9  f1 score: 0.4641\n",
      "Optimal k: 1\n"
     ]
    }
   ],
   "source": [
    "# Create language and age array for train and dev sets\n",
    "lang = code_lang.reshape((188451,1))\n",
    "age = train_data.age.reshape((188451,1))\n",
    "\n",
    "dev_lang = dev_lang.reshape((25000,1))\n",
    "dev_age = dev_data.age.reshape((25000,1))\n",
    "\n",
    "# fill NaNs in age with mean age\n",
    "mean_age = np.nanmean(age)\n",
    "age = np.where(np.isnan(age), mean_age, age)\n",
    "dev_age = np.where(np.isnan(dev_age), mean_age, dev_age)\n",
    "\n",
    "tr = np.concatenate((lang, age), axis=1)\n",
    "dev = np.concatenate((dev_lang, dev_age), axis=1)\n",
    "\n",
    "\n",
    "print(\"K Nearest Neighbors:\")\n",
    "f1 = []\n",
    "for k in range(1,10):\n",
    "    knn = KNeighborsClassifier(n_neighbors = k)\n",
    "    knn.fit(tr, train_lab)\n",
    "    preds = knn.predict(dev)\n",
    "    f1_score = metrics.f1_score(dev_lab, preds, average = \"weighted\")\n",
    "    f1.append(f1_score)\n",
    "    print(\"k: %r  f1 score: %.4f\" %(k, f1_score))\n",
    "print(\"Optimal k:\", f1.index(max(f1))+1)"
   ]
  },
  {
   "cell_type": "markdown",
   "metadata": {},
   "source": [
    "### Language and bin_age? "
   ]
  },
  {
   "cell_type": "code",
   "execution_count": 68,
   "metadata": {
    "collapsed": false
   },
   "outputs": [
    {
     "name": "stdout",
     "output_type": "stream",
     "text": [
      "K Nearest Neighbors:\n"
     ]
    },
    {
     "name": "stderr",
     "output_type": "stream",
     "text": [
      "c:\\Users\\cendy\\Anaconda3\\lib\\site-packages\\sklearn\\metrics\\classification.py:1113: UndefinedMetricWarning: F-score is ill-defined and being set to 0.0 in labels with no predicted samples.\n",
      "  'precision', 'predicted', average, warn_for)\n"
     ]
    },
    {
     "name": "stdout",
     "output_type": "stream",
     "text": [
      "k: 1  f1 score: 0.4315\n",
      "k: 2  f1 score: 0.4177\n",
      "k: 3  f1 score: 0.4322\n",
      "k: 4  f1 score: 0.4333\n",
      "k: 5  f1 score: 0.4335\n",
      "k: 6  f1 score: 0.4336\n",
      "k: 7  f1 score: 0.4335\n",
      "k: 8  f1 score: 0.4336\n",
      "k: 9  f1 score: 0.4335\n",
      "Optimal k: 6\n"
     ]
    }
   ],
   "source": [
    "# Convert bin_age to numeric\n",
    "tr_bin_age = le.fit_transform(train_data.bin_age)\n",
    "dev_bin_age = le.fit_transform(dev_data.bin_age)\n",
    "\n",
    "# Create language and bin_age array for train and dev sets\n",
    "lang = code_lang.reshape((188451,1))\n",
    "bin_age = tr_bin_age.reshape((188451,1))\n",
    "\n",
    "dev_lang = dev_lang.reshape((25000,1))\n",
    "dev_bin_age = dev_bin_age.reshape((25000,1))\n",
    "\n",
    "tr = np.concatenate((lang, bin_age), axis=1)\n",
    "dev = np.concatenate((dev_lang, dev_bin_age), axis=1)\n",
    "\n",
    "\n",
    "print(\"K Nearest Neighbors:\")\n",
    "f1 = []\n",
    "for k in range(1,10):\n",
    "    knn = KNeighborsClassifier(n_neighbors = k)\n",
    "    knn.fit(tr, train_lab)\n",
    "    preds = knn.predict(dev)\n",
    "    f1_score = metrics.f1_score(dev_lab, preds, average = \"weighted\")\n",
    "    f1.append(f1_score)\n",
    "    print(\"k: %r  f1 score: %.4f\" %(k, f1_score))\n",
    "print(\"Optimal k:\", f1.index(max(f1))+1)"
   ]
  },
  {
   "cell_type": "code",
   "execution_count": 72,
   "metadata": {
    "collapsed": false
   },
   "outputs": [
    {
     "data": {
      "text/html": [
       "<div>\n",
       "<table border=\"1\" class=\"dataframe\">\n",
       "  <thead>\n",
       "    <tr style=\"text-align: right;\">\n",
       "      <th></th>\n",
       "      <th>date_account_created</th>\n",
       "      <th>timestamp_first_active</th>\n",
       "      <th>gender</th>\n",
       "      <th>age</th>\n",
       "      <th>signup_method</th>\n",
       "      <th>signup_flow</th>\n",
       "      <th>language</th>\n",
       "      <th>affiliate_channel</th>\n",
       "      <th>affiliate_provider</th>\n",
       "      <th>first_affiliate_tracked</th>\n",
       "      <th>...</th>\n",
       "      <th>bin_age</th>\n",
       "      <th>bin_lang</th>\n",
       "      <th>days_since_creation</th>\n",
       "      <th>first_hour</th>\n",
       "      <th>count_actions</th>\n",
       "      <th>number_devices</th>\n",
       "      <th>longest_session</th>\n",
       "      <th>total_time</th>\n",
       "      <th>last_action</th>\n",
       "      <th>new_age</th>\n",
       "    </tr>\n",
       "  </thead>\n",
       "  <tbody>\n",
       "    <tr>\n",
       "      <th>76594</th>\n",
       "      <td>2013-05-12</td>\n",
       "      <td>20130512210934</td>\n",
       "      <td>-unknown-</td>\n",
       "      <td>NaN</td>\n",
       "      <td>basic</td>\n",
       "      <td>0</td>\n",
       "      <td>en</td>\n",
       "      <td>direct</td>\n",
       "      <td>direct</td>\n",
       "      <td>linked</td>\n",
       "      <td>...</td>\n",
       "      <td>Unknown</td>\n",
       "      <td>en</td>\n",
       "      <td>414.0</td>\n",
       "      <td>21</td>\n",
       "      <td>NaN</td>\n",
       "      <td>NaN</td>\n",
       "      <td>NaN</td>\n",
       "      <td>NaN</td>\n",
       "      <td>NaN</td>\n",
       "      <td>unknown</td>\n",
       "    </tr>\n",
       "    <tr>\n",
       "      <th>63080</th>\n",
       "      <td>2013-03-02</td>\n",
       "      <td>20130302054534</td>\n",
       "      <td>FEMALE</td>\n",
       "      <td>31.0</td>\n",
       "      <td>facebook</td>\n",
       "      <td>0</td>\n",
       "      <td>en</td>\n",
       "      <td>direct</td>\n",
       "      <td>direct</td>\n",
       "      <td>untracked</td>\n",
       "      <td>...</td>\n",
       "      <td>30-45</td>\n",
       "      <td>en</td>\n",
       "      <td>485.0</td>\n",
       "      <td>5</td>\n",
       "      <td>NaN</td>\n",
       "      <td>NaN</td>\n",
       "      <td>NaN</td>\n",
       "      <td>NaN</td>\n",
       "      <td>NaN</td>\n",
       "      <td>adult</td>\n",
       "    </tr>\n",
       "    <tr>\n",
       "      <th>4949</th>\n",
       "      <td>2011-05-17</td>\n",
       "      <td>20110517211429</td>\n",
       "      <td>-unknown-</td>\n",
       "      <td>105.0</td>\n",
       "      <td>facebook</td>\n",
       "      <td>2</td>\n",
       "      <td>en</td>\n",
       "      <td>direct</td>\n",
       "      <td>direct</td>\n",
       "      <td>untracked</td>\n",
       "      <td>...</td>\n",
       "      <td>Unknown</td>\n",
       "      <td>en</td>\n",
       "      <td>1140.0</td>\n",
       "      <td>21</td>\n",
       "      <td>NaN</td>\n",
       "      <td>NaN</td>\n",
       "      <td>NaN</td>\n",
       "      <td>NaN</td>\n",
       "      <td>NaN</td>\n",
       "      <td>senior</td>\n",
       "    </tr>\n",
       "    <tr>\n",
       "      <th>129089</th>\n",
       "      <td>2013-12-02</td>\n",
       "      <td>20131202180650</td>\n",
       "      <td>-unknown-</td>\n",
       "      <td>37.0</td>\n",
       "      <td>basic</td>\n",
       "      <td>0</td>\n",
       "      <td>en</td>\n",
       "      <td>sem-brand</td>\n",
       "      <td>google</td>\n",
       "      <td>omg</td>\n",
       "      <td>...</td>\n",
       "      <td>30-45</td>\n",
       "      <td>en</td>\n",
       "      <td>210.0</td>\n",
       "      <td>18</td>\n",
       "      <td>NaN</td>\n",
       "      <td>NaN</td>\n",
       "      <td>NaN</td>\n",
       "      <td>NaN</td>\n",
       "      <td>NaN</td>\n",
       "      <td>working</td>\n",
       "    </tr>\n",
       "    <tr>\n",
       "      <th>122626</th>\n",
       "      <td>2013-11-07</td>\n",
       "      <td>20131107183734</td>\n",
       "      <td>FEMALE</td>\n",
       "      <td>25.0</td>\n",
       "      <td>basic</td>\n",
       "      <td>0</td>\n",
       "      <td>en</td>\n",
       "      <td>direct</td>\n",
       "      <td>direct</td>\n",
       "      <td>linked</td>\n",
       "      <td>...</td>\n",
       "      <td>Under30</td>\n",
       "      <td>en</td>\n",
       "      <td>235.0</td>\n",
       "      <td>18</td>\n",
       "      <td>NaN</td>\n",
       "      <td>NaN</td>\n",
       "      <td>NaN</td>\n",
       "      <td>NaN</td>\n",
       "      <td>NaN</td>\n",
       "      <td>adult</td>\n",
       "    </tr>\n",
       "    <tr>\n",
       "      <th>85227</th>\n",
       "      <td>2013-06-20</td>\n",
       "      <td>20130620041107</td>\n",
       "      <td>FEMALE</td>\n",
       "      <td>26.0</td>\n",
       "      <td>facebook</td>\n",
       "      <td>0</td>\n",
       "      <td>en</td>\n",
       "      <td>direct</td>\n",
       "      <td>direct</td>\n",
       "      <td>untracked</td>\n",
       "      <td>...</td>\n",
       "      <td>Under30</td>\n",
       "      <td>en</td>\n",
       "      <td>375.0</td>\n",
       "      <td>4</td>\n",
       "      <td>NaN</td>\n",
       "      <td>NaN</td>\n",
       "      <td>NaN</td>\n",
       "      <td>NaN</td>\n",
       "      <td>NaN</td>\n",
       "      <td>adult</td>\n",
       "    </tr>\n",
       "    <tr>\n",
       "      <th>49549</th>\n",
       "      <td>2012-11-23</td>\n",
       "      <td>20121123122454</td>\n",
       "      <td>-unknown-</td>\n",
       "      <td>NaN</td>\n",
       "      <td>basic</td>\n",
       "      <td>12</td>\n",
       "      <td>en</td>\n",
       "      <td>api</td>\n",
       "      <td>other</td>\n",
       "      <td>NaN</td>\n",
       "      <td>...</td>\n",
       "      <td>Unknown</td>\n",
       "      <td>en</td>\n",
       "      <td>584.0</td>\n",
       "      <td>12</td>\n",
       "      <td>NaN</td>\n",
       "      <td>NaN</td>\n",
       "      <td>NaN</td>\n",
       "      <td>NaN</td>\n",
       "      <td>NaN</td>\n",
       "      <td>unknown</td>\n",
       "    </tr>\n",
       "    <tr>\n",
       "      <th>3014</th>\n",
       "      <td>2011-01-22</td>\n",
       "      <td>20110122230445</td>\n",
       "      <td>FEMALE</td>\n",
       "      <td>35.0</td>\n",
       "      <td>basic</td>\n",
       "      <td>2</td>\n",
       "      <td>en</td>\n",
       "      <td>sem-non-brand</td>\n",
       "      <td>vast</td>\n",
       "      <td>untracked</td>\n",
       "      <td>...</td>\n",
       "      <td>30-45</td>\n",
       "      <td>en</td>\n",
       "      <td>1255.0</td>\n",
       "      <td>23</td>\n",
       "      <td>NaN</td>\n",
       "      <td>NaN</td>\n",
       "      <td>NaN</td>\n",
       "      <td>NaN</td>\n",
       "      <td>NaN</td>\n",
       "      <td>working</td>\n",
       "    </tr>\n",
       "    <tr>\n",
       "      <th>103611</th>\n",
       "      <td>2013-08-30</td>\n",
       "      <td>20130830170502</td>\n",
       "      <td>-unknown-</td>\n",
       "      <td>NaN</td>\n",
       "      <td>basic</td>\n",
       "      <td>0</td>\n",
       "      <td>en</td>\n",
       "      <td>direct</td>\n",
       "      <td>direct</td>\n",
       "      <td>untracked</td>\n",
       "      <td>...</td>\n",
       "      <td>Unknown</td>\n",
       "      <td>en</td>\n",
       "      <td>304.0</td>\n",
       "      <td>17</td>\n",
       "      <td>NaN</td>\n",
       "      <td>NaN</td>\n",
       "      <td>NaN</td>\n",
       "      <td>NaN</td>\n",
       "      <td>NaN</td>\n",
       "      <td>unknown</td>\n",
       "    </tr>\n",
       "    <tr>\n",
       "      <th>172907</th>\n",
       "      <td>2014-04-07</td>\n",
       "      <td>20140407225228</td>\n",
       "      <td>-unknown-</td>\n",
       "      <td>NaN</td>\n",
       "      <td>basic</td>\n",
       "      <td>0</td>\n",
       "      <td>en</td>\n",
       "      <td>sem-non-brand</td>\n",
       "      <td>google</td>\n",
       "      <td>omg</td>\n",
       "      <td>...</td>\n",
       "      <td>Unknown</td>\n",
       "      <td>en</td>\n",
       "      <td>84.0</td>\n",
       "      <td>22</td>\n",
       "      <td>6.0</td>\n",
       "      <td>2.0</td>\n",
       "      <td>358234.0</td>\n",
       "      <td>359392.0</td>\n",
       "      <td>header_userpic</td>\n",
       "      <td>unknown</td>\n",
       "    </tr>\n",
       "    <tr>\n",
       "      <th>91188</th>\n",
       "      <td>2013-07-15</td>\n",
       "      <td>20130715160316</td>\n",
       "      <td>MALE</td>\n",
       "      <td>34.0</td>\n",
       "      <td>facebook</td>\n",
       "      <td>0</td>\n",
       "      <td>en</td>\n",
       "      <td>direct</td>\n",
       "      <td>direct</td>\n",
       "      <td>linked</td>\n",
       "      <td>...</td>\n",
       "      <td>30-45</td>\n",
       "      <td>en</td>\n",
       "      <td>350.0</td>\n",
       "      <td>16</td>\n",
       "      <td>NaN</td>\n",
       "      <td>NaN</td>\n",
       "      <td>NaN</td>\n",
       "      <td>NaN</td>\n",
       "      <td>NaN</td>\n",
       "      <td>adult</td>\n",
       "    </tr>\n",
       "    <tr>\n",
       "      <th>157160</th>\n",
       "      <td>2014-02-26</td>\n",
       "      <td>20140226152810</td>\n",
       "      <td>MALE</td>\n",
       "      <td>32.0</td>\n",
       "      <td>facebook</td>\n",
       "      <td>0</td>\n",
       "      <td>en</td>\n",
       "      <td>direct</td>\n",
       "      <td>direct</td>\n",
       "      <td>untracked</td>\n",
       "      <td>...</td>\n",
       "      <td>30-45</td>\n",
       "      <td>en</td>\n",
       "      <td>124.0</td>\n",
       "      <td>15</td>\n",
       "      <td>17.0</td>\n",
       "      <td>1.0</td>\n",
       "      <td>167385.0</td>\n",
       "      <td>311445.0</td>\n",
       "      <td>login</td>\n",
       "      <td>adult</td>\n",
       "    </tr>\n",
       "    <tr>\n",
       "      <th>78939</th>\n",
       "      <td>2013-05-23</td>\n",
       "      <td>20130523031202</td>\n",
       "      <td>-unknown-</td>\n",
       "      <td>19.0</td>\n",
       "      <td>basic</td>\n",
       "      <td>0</td>\n",
       "      <td>en</td>\n",
       "      <td>direct</td>\n",
       "      <td>direct</td>\n",
       "      <td>untracked</td>\n",
       "      <td>...</td>\n",
       "      <td>Under30</td>\n",
       "      <td>en</td>\n",
       "      <td>403.0</td>\n",
       "      <td>3</td>\n",
       "      <td>NaN</td>\n",
       "      <td>NaN</td>\n",
       "      <td>NaN</td>\n",
       "      <td>NaN</td>\n",
       "      <td>NaN</td>\n",
       "      <td>adult</td>\n",
       "    </tr>\n",
       "    <tr>\n",
       "      <th>31322</th>\n",
       "      <td>2012-07-10</td>\n",
       "      <td>20120710215508</td>\n",
       "      <td>MALE</td>\n",
       "      <td>NaN</td>\n",
       "      <td>basic</td>\n",
       "      <td>0</td>\n",
       "      <td>en</td>\n",
       "      <td>direct</td>\n",
       "      <td>direct</td>\n",
       "      <td>linked</td>\n",
       "      <td>...</td>\n",
       "      <td>Unknown</td>\n",
       "      <td>en</td>\n",
       "      <td>720.0</td>\n",
       "      <td>21</td>\n",
       "      <td>NaN</td>\n",
       "      <td>NaN</td>\n",
       "      <td>NaN</td>\n",
       "      <td>NaN</td>\n",
       "      <td>NaN</td>\n",
       "      <td>unknown</td>\n",
       "    </tr>\n",
       "    <tr>\n",
       "      <th>211734</th>\n",
       "      <td>2014-06-27</td>\n",
       "      <td>20140627185435</td>\n",
       "      <td>FEMALE</td>\n",
       "      <td>23.0</td>\n",
       "      <td>facebook</td>\n",
       "      <td>0</td>\n",
       "      <td>en</td>\n",
       "      <td>direct</td>\n",
       "      <td>direct</td>\n",
       "      <td>linked</td>\n",
       "      <td>...</td>\n",
       "      <td>Under30</td>\n",
       "      <td>en</td>\n",
       "      <td>3.0</td>\n",
       "      <td>18</td>\n",
       "      <td>5.0</td>\n",
       "      <td>1.0</td>\n",
       "      <td>50594.0</td>\n",
       "      <td>54262.0</td>\n",
       "      <td>login</td>\n",
       "      <td>adult</td>\n",
       "    </tr>\n",
       "    <tr>\n",
       "      <th>6875</th>\n",
       "      <td>2011-07-25</td>\n",
       "      <td>20110725195903</td>\n",
       "      <td>-unknown-</td>\n",
       "      <td>NaN</td>\n",
       "      <td>basic</td>\n",
       "      <td>2</td>\n",
       "      <td>en</td>\n",
       "      <td>sem-non-brand</td>\n",
       "      <td>bing</td>\n",
       "      <td>untracked</td>\n",
       "      <td>...</td>\n",
       "      <td>Unknown</td>\n",
       "      <td>en</td>\n",
       "      <td>1071.0</td>\n",
       "      <td>19</td>\n",
       "      <td>NaN</td>\n",
       "      <td>NaN</td>\n",
       "      <td>NaN</td>\n",
       "      <td>NaN</td>\n",
       "      <td>NaN</td>\n",
       "      <td>unknown</td>\n",
       "    </tr>\n",
       "    <tr>\n",
       "      <th>124143</th>\n",
       "      <td>2013-11-13</td>\n",
       "      <td>20131113071432</td>\n",
       "      <td>FEMALE</td>\n",
       "      <td>29.0</td>\n",
       "      <td>facebook</td>\n",
       "      <td>0</td>\n",
       "      <td>en</td>\n",
       "      <td>content</td>\n",
       "      <td>google</td>\n",
       "      <td>omg</td>\n",
       "      <td>...</td>\n",
       "      <td>Under30</td>\n",
       "      <td>en</td>\n",
       "      <td>229.0</td>\n",
       "      <td>7</td>\n",
       "      <td>NaN</td>\n",
       "      <td>NaN</td>\n",
       "      <td>NaN</td>\n",
       "      <td>NaN</td>\n",
       "      <td>NaN</td>\n",
       "      <td>adult</td>\n",
       "    </tr>\n",
       "    <tr>\n",
       "      <th>76486</th>\n",
       "      <td>2013-05-12</td>\n",
       "      <td>20130512011325</td>\n",
       "      <td>MALE</td>\n",
       "      <td>44.0</td>\n",
       "      <td>basic</td>\n",
       "      <td>25</td>\n",
       "      <td>en</td>\n",
       "      <td>direct</td>\n",
       "      <td>direct</td>\n",
       "      <td>untracked</td>\n",
       "      <td>...</td>\n",
       "      <td>30-45</td>\n",
       "      <td>en</td>\n",
       "      <td>414.0</td>\n",
       "      <td>1</td>\n",
       "      <td>NaN</td>\n",
       "      <td>NaN</td>\n",
       "      <td>NaN</td>\n",
       "      <td>NaN</td>\n",
       "      <td>NaN</td>\n",
       "      <td>working</td>\n",
       "    </tr>\n",
       "    <tr>\n",
       "      <th>204265</th>\n",
       "      <td>2014-06-13</td>\n",
       "      <td>20140613213030</td>\n",
       "      <td>FEMALE</td>\n",
       "      <td>29.0</td>\n",
       "      <td>facebook</td>\n",
       "      <td>0</td>\n",
       "      <td>en</td>\n",
       "      <td>sem-brand</td>\n",
       "      <td>google</td>\n",
       "      <td>omg</td>\n",
       "      <td>...</td>\n",
       "      <td>Under30</td>\n",
       "      <td>en</td>\n",
       "      <td>17.0</td>\n",
       "      <td>21</td>\n",
       "      <td>2.0</td>\n",
       "      <td>1.0</td>\n",
       "      <td>282.0</td>\n",
       "      <td>282.0</td>\n",
       "      <td>login</td>\n",
       "      <td>adult</td>\n",
       "    </tr>\n",
       "    <tr>\n",
       "      <th>113616</th>\n",
       "      <td>2013-10-02</td>\n",
       "      <td>20131002172642</td>\n",
       "      <td>-unknown-</td>\n",
       "      <td>NaN</td>\n",
       "      <td>basic</td>\n",
       "      <td>0</td>\n",
       "      <td>en</td>\n",
       "      <td>direct</td>\n",
       "      <td>direct</td>\n",
       "      <td>untracked</td>\n",
       "      <td>...</td>\n",
       "      <td>Unknown</td>\n",
       "      <td>en</td>\n",
       "      <td>271.0</td>\n",
       "      <td>17</td>\n",
       "      <td>NaN</td>\n",
       "      <td>NaN</td>\n",
       "      <td>NaN</td>\n",
       "      <td>NaN</td>\n",
       "      <td>NaN</td>\n",
       "      <td>unknown</td>\n",
       "    </tr>\n",
       "    <tr>\n",
       "      <th>196454</th>\n",
       "      <td>2014-05-29</td>\n",
       "      <td>20140529040332</td>\n",
       "      <td>-unknown-</td>\n",
       "      <td>NaN</td>\n",
       "      <td>basic</td>\n",
       "      <td>0</td>\n",
       "      <td>en</td>\n",
       "      <td>sem-brand</td>\n",
       "      <td>google</td>\n",
       "      <td>omg</td>\n",
       "      <td>...</td>\n",
       "      <td>Unknown</td>\n",
       "      <td>en</td>\n",
       "      <td>32.0</td>\n",
       "      <td>4</td>\n",
       "      <td>136.0</td>\n",
       "      <td>1.0</td>\n",
       "      <td>320804.0</td>\n",
       "      <td>2763861.0</td>\n",
       "      <td>-unknown-</td>\n",
       "      <td>unknown</td>\n",
       "    </tr>\n",
       "    <tr>\n",
       "      <th>81157</th>\n",
       "      <td>2013-06-02</td>\n",
       "      <td>20130602211632</td>\n",
       "      <td>FEMALE</td>\n",
       "      <td>40.0</td>\n",
       "      <td>basic</td>\n",
       "      <td>0</td>\n",
       "      <td>en</td>\n",
       "      <td>sem-brand</td>\n",
       "      <td>google</td>\n",
       "      <td>omg</td>\n",
       "      <td>...</td>\n",
       "      <td>30-45</td>\n",
       "      <td>en</td>\n",
       "      <td>393.0</td>\n",
       "      <td>21</td>\n",
       "      <td>NaN</td>\n",
       "      <td>NaN</td>\n",
       "      <td>NaN</td>\n",
       "      <td>NaN</td>\n",
       "      <td>NaN</td>\n",
       "      <td>working</td>\n",
       "    </tr>\n",
       "    <tr>\n",
       "      <th>25620</th>\n",
       "      <td>2012-05-28</td>\n",
       "      <td>20120528070745</td>\n",
       "      <td>-unknown-</td>\n",
       "      <td>25.0</td>\n",
       "      <td>basic</td>\n",
       "      <td>3</td>\n",
       "      <td>en</td>\n",
       "      <td>direct</td>\n",
       "      <td>direct</td>\n",
       "      <td>untracked</td>\n",
       "      <td>...</td>\n",
       "      <td>Under30</td>\n",
       "      <td>en</td>\n",
       "      <td>763.0</td>\n",
       "      <td>7</td>\n",
       "      <td>NaN</td>\n",
       "      <td>NaN</td>\n",
       "      <td>NaN</td>\n",
       "      <td>NaN</td>\n",
       "      <td>NaN</td>\n",
       "      <td>adult</td>\n",
       "    </tr>\n",
       "    <tr>\n",
       "      <th>176371</th>\n",
       "      <td>2014-04-16</td>\n",
       "      <td>20140416054951</td>\n",
       "      <td>MALE</td>\n",
       "      <td>35.0</td>\n",
       "      <td>facebook</td>\n",
       "      <td>0</td>\n",
       "      <td>en</td>\n",
       "      <td>sem-brand</td>\n",
       "      <td>google</td>\n",
       "      <td>omg</td>\n",
       "      <td>...</td>\n",
       "      <td>30-45</td>\n",
       "      <td>en</td>\n",
       "      <td>75.0</td>\n",
       "      <td>5</td>\n",
       "      <td>38.0</td>\n",
       "      <td>2.0</td>\n",
       "      <td>734956.0</td>\n",
       "      <td>1024419.0</td>\n",
       "      <td>-unknown-</td>\n",
       "      <td>working</td>\n",
       "    </tr>\n",
       "    <tr>\n",
       "      <th>32762</th>\n",
       "      <td>2012-07-19</td>\n",
       "      <td>20120719185848</td>\n",
       "      <td>MALE</td>\n",
       "      <td>31.0</td>\n",
       "      <td>facebook</td>\n",
       "      <td>0</td>\n",
       "      <td>en</td>\n",
       "      <td>direct</td>\n",
       "      <td>direct</td>\n",
       "      <td>untracked</td>\n",
       "      <td>...</td>\n",
       "      <td>30-45</td>\n",
       "      <td>en</td>\n",
       "      <td>711.0</td>\n",
       "      <td>18</td>\n",
       "      <td>NaN</td>\n",
       "      <td>NaN</td>\n",
       "      <td>NaN</td>\n",
       "      <td>NaN</td>\n",
       "      <td>NaN</td>\n",
       "      <td>adult</td>\n",
       "    </tr>\n",
       "    <tr>\n",
       "      <th>127585</th>\n",
       "      <td>2013-11-25</td>\n",
       "      <td>20131125213715</td>\n",
       "      <td>MALE</td>\n",
       "      <td>29.0</td>\n",
       "      <td>facebook</td>\n",
       "      <td>12</td>\n",
       "      <td>en</td>\n",
       "      <td>api</td>\n",
       "      <td>other</td>\n",
       "      <td>tracked-other</td>\n",
       "      <td>...</td>\n",
       "      <td>Under30</td>\n",
       "      <td>en</td>\n",
       "      <td>217.0</td>\n",
       "      <td>21</td>\n",
       "      <td>NaN</td>\n",
       "      <td>NaN</td>\n",
       "      <td>NaN</td>\n",
       "      <td>NaN</td>\n",
       "      <td>NaN</td>\n",
       "      <td>adult</td>\n",
       "    </tr>\n",
       "    <tr>\n",
       "      <th>189889</th>\n",
       "      <td>2014-05-15</td>\n",
       "      <td>20140515212338</td>\n",
       "      <td>FEMALE</td>\n",
       "      <td>47.0</td>\n",
       "      <td>facebook</td>\n",
       "      <td>0</td>\n",
       "      <td>en</td>\n",
       "      <td>content</td>\n",
       "      <td>google</td>\n",
       "      <td>omg</td>\n",
       "      <td>...</td>\n",
       "      <td>45-65</td>\n",
       "      <td>en</td>\n",
       "      <td>46.0</td>\n",
       "      <td>21</td>\n",
       "      <td>2.0</td>\n",
       "      <td>1.0</td>\n",
       "      <td>862.0</td>\n",
       "      <td>862.0</td>\n",
       "      <td>header_userpic</td>\n",
       "      <td>working</td>\n",
       "    </tr>\n",
       "    <tr>\n",
       "      <th>20336</th>\n",
       "      <td>2012-04-03</td>\n",
       "      <td>20120403045955</td>\n",
       "      <td>FEMALE</td>\n",
       "      <td>33.0</td>\n",
       "      <td>basic</td>\n",
       "      <td>0</td>\n",
       "      <td>en</td>\n",
       "      <td>other</td>\n",
       "      <td>other</td>\n",
       "      <td>untracked</td>\n",
       "      <td>...</td>\n",
       "      <td>30-45</td>\n",
       "      <td>en</td>\n",
       "      <td>818.0</td>\n",
       "      <td>4</td>\n",
       "      <td>NaN</td>\n",
       "      <td>NaN</td>\n",
       "      <td>NaN</td>\n",
       "      <td>NaN</td>\n",
       "      <td>NaN</td>\n",
       "      <td>adult</td>\n",
       "    </tr>\n",
       "    <tr>\n",
       "      <th>119904</th>\n",
       "      <td>2013-10-28</td>\n",
       "      <td>20131028003731</td>\n",
       "      <td>MALE</td>\n",
       "      <td>37.0</td>\n",
       "      <td>basic</td>\n",
       "      <td>0</td>\n",
       "      <td>en</td>\n",
       "      <td>direct</td>\n",
       "      <td>direct</td>\n",
       "      <td>untracked</td>\n",
       "      <td>...</td>\n",
       "      <td>30-45</td>\n",
       "      <td>en</td>\n",
       "      <td>245.0</td>\n",
       "      <td>0</td>\n",
       "      <td>NaN</td>\n",
       "      <td>NaN</td>\n",
       "      <td>NaN</td>\n",
       "      <td>NaN</td>\n",
       "      <td>NaN</td>\n",
       "      <td>working</td>\n",
       "    </tr>\n",
       "    <tr>\n",
       "      <th>100339</th>\n",
       "      <td>2013-08-18</td>\n",
       "      <td>20130818151043</td>\n",
       "      <td>-unknown-</td>\n",
       "      <td>NaN</td>\n",
       "      <td>basic</td>\n",
       "      <td>0</td>\n",
       "      <td>zh</td>\n",
       "      <td>direct</td>\n",
       "      <td>direct</td>\n",
       "      <td>omg</td>\n",
       "      <td>...</td>\n",
       "      <td>Unknown</td>\n",
       "      <td>zh</td>\n",
       "      <td>316.0</td>\n",
       "      <td>15</td>\n",
       "      <td>NaN</td>\n",
       "      <td>NaN</td>\n",
       "      <td>NaN</td>\n",
       "      <td>NaN</td>\n",
       "      <td>NaN</td>\n",
       "      <td>unknown</td>\n",
       "    </tr>\n",
       "    <tr>\n",
       "      <th>...</th>\n",
       "      <td>...</td>\n",
       "      <td>...</td>\n",
       "      <td>...</td>\n",
       "      <td>...</td>\n",
       "      <td>...</td>\n",
       "      <td>...</td>\n",
       "      <td>...</td>\n",
       "      <td>...</td>\n",
       "      <td>...</td>\n",
       "      <td>...</td>\n",
       "      <td>...</td>\n",
       "      <td>...</td>\n",
       "      <td>...</td>\n",
       "      <td>...</td>\n",
       "      <td>...</td>\n",
       "      <td>...</td>\n",
       "      <td>...</td>\n",
       "      <td>...</td>\n",
       "      <td>...</td>\n",
       "      <td>...</td>\n",
       "      <td>...</td>\n",
       "    </tr>\n",
       "    <tr>\n",
       "      <th>168691</th>\n",
       "      <td>2014-03-28</td>\n",
       "      <td>20140328024706</td>\n",
       "      <td>-unknown-</td>\n",
       "      <td>NaN</td>\n",
       "      <td>basic</td>\n",
       "      <td>0</td>\n",
       "      <td>en</td>\n",
       "      <td>seo</td>\n",
       "      <td>google</td>\n",
       "      <td>linked</td>\n",
       "      <td>...</td>\n",
       "      <td>Unknown</td>\n",
       "      <td>en</td>\n",
       "      <td>94.0</td>\n",
       "      <td>2</td>\n",
       "      <td>39.0</td>\n",
       "      <td>1.0</td>\n",
       "      <td>62303.0</td>\n",
       "      <td>324736.0</td>\n",
       "      <td>view_search_results</td>\n",
       "      <td>unknown</td>\n",
       "    </tr>\n",
       "    <tr>\n",
       "      <th>70608</th>\n",
       "      <td>2013-04-12</td>\n",
       "      <td>20130412180506</td>\n",
       "      <td>-unknown-</td>\n",
       "      <td>NaN</td>\n",
       "      <td>basic</td>\n",
       "      <td>0</td>\n",
       "      <td>en</td>\n",
       "      <td>direct</td>\n",
       "      <td>direct</td>\n",
       "      <td>untracked</td>\n",
       "      <td>...</td>\n",
       "      <td>Unknown</td>\n",
       "      <td>en</td>\n",
       "      <td>444.0</td>\n",
       "      <td>18</td>\n",
       "      <td>NaN</td>\n",
       "      <td>NaN</td>\n",
       "      <td>NaN</td>\n",
       "      <td>NaN</td>\n",
       "      <td>NaN</td>\n",
       "      <td>unknown</td>\n",
       "    </tr>\n",
       "    <tr>\n",
       "      <th>67699</th>\n",
       "      <td>2013-03-28</td>\n",
       "      <td>20130328053743</td>\n",
       "      <td>-unknown-</td>\n",
       "      <td>NaN</td>\n",
       "      <td>basic</td>\n",
       "      <td>0</td>\n",
       "      <td>en</td>\n",
       "      <td>direct</td>\n",
       "      <td>direct</td>\n",
       "      <td>untracked</td>\n",
       "      <td>...</td>\n",
       "      <td>Unknown</td>\n",
       "      <td>en</td>\n",
       "      <td>459.0</td>\n",
       "      <td>5</td>\n",
       "      <td>NaN</td>\n",
       "      <td>NaN</td>\n",
       "      <td>NaN</td>\n",
       "      <td>NaN</td>\n",
       "      <td>NaN</td>\n",
       "      <td>unknown</td>\n",
       "    </tr>\n",
       "    <tr>\n",
       "      <th>169876</th>\n",
       "      <td>2014-03-31</td>\n",
       "      <td>20140331124023</td>\n",
       "      <td>-unknown-</td>\n",
       "      <td>18.0</td>\n",
       "      <td>basic</td>\n",
       "      <td>0</td>\n",
       "      <td>en</td>\n",
       "      <td>direct</td>\n",
       "      <td>direct</td>\n",
       "      <td>untracked</td>\n",
       "      <td>...</td>\n",
       "      <td>Under30</td>\n",
       "      <td>en</td>\n",
       "      <td>91.0</td>\n",
       "      <td>12</td>\n",
       "      <td>30.0</td>\n",
       "      <td>1.0</td>\n",
       "      <td>1147127.0</td>\n",
       "      <td>2422369.0</td>\n",
       "      <td>update_listing</td>\n",
       "      <td>adult</td>\n",
       "    </tr>\n",
       "    <tr>\n",
       "      <th>137993</th>\n",
       "      <td>2014-01-04</td>\n",
       "      <td>20140104071354</td>\n",
       "      <td>-unknown-</td>\n",
       "      <td>NaN</td>\n",
       "      <td>basic</td>\n",
       "      <td>0</td>\n",
       "      <td>en</td>\n",
       "      <td>direct</td>\n",
       "      <td>direct</td>\n",
       "      <td>linked</td>\n",
       "      <td>...</td>\n",
       "      <td>Unknown</td>\n",
       "      <td>en</td>\n",
       "      <td>177.0</td>\n",
       "      <td>7</td>\n",
       "      <td>160.0</td>\n",
       "      <td>1.0</td>\n",
       "      <td>404940.0</td>\n",
       "      <td>1521697.0</td>\n",
       "      <td>view_search_results</td>\n",
       "      <td>unknown</td>\n",
       "    </tr>\n",
       "    <tr>\n",
       "      <th>82457</th>\n",
       "      <td>2013-06-08</td>\n",
       "      <td>20130608065855</td>\n",
       "      <td>MALE</td>\n",
       "      <td>36.0</td>\n",
       "      <td>basic</td>\n",
       "      <td>25</td>\n",
       "      <td>en</td>\n",
       "      <td>direct</td>\n",
       "      <td>direct</td>\n",
       "      <td>untracked</td>\n",
       "      <td>...</td>\n",
       "      <td>30-45</td>\n",
       "      <td>en</td>\n",
       "      <td>387.0</td>\n",
       "      <td>6</td>\n",
       "      <td>NaN</td>\n",
       "      <td>NaN</td>\n",
       "      <td>NaN</td>\n",
       "      <td>NaN</td>\n",
       "      <td>NaN</td>\n",
       "      <td>working</td>\n",
       "    </tr>\n",
       "    <tr>\n",
       "      <th>101201</th>\n",
       "      <td>2013-08-21</td>\n",
       "      <td>20130821133417</td>\n",
       "      <td>MALE</td>\n",
       "      <td>28.0</td>\n",
       "      <td>basic</td>\n",
       "      <td>24</td>\n",
       "      <td>it</td>\n",
       "      <td>direct</td>\n",
       "      <td>direct</td>\n",
       "      <td>untracked</td>\n",
       "      <td>...</td>\n",
       "      <td>Under30</td>\n",
       "      <td>other</td>\n",
       "      <td>313.0</td>\n",
       "      <td>13</td>\n",
       "      <td>NaN</td>\n",
       "      <td>NaN</td>\n",
       "      <td>NaN</td>\n",
       "      <td>NaN</td>\n",
       "      <td>NaN</td>\n",
       "      <td>adult</td>\n",
       "    </tr>\n",
       "    <tr>\n",
       "      <th>108631</th>\n",
       "      <td>2013-09-18</td>\n",
       "      <td>20130918050132</td>\n",
       "      <td>-unknown-</td>\n",
       "      <td>NaN</td>\n",
       "      <td>basic</td>\n",
       "      <td>0</td>\n",
       "      <td>en</td>\n",
       "      <td>direct</td>\n",
       "      <td>direct</td>\n",
       "      <td>untracked</td>\n",
       "      <td>...</td>\n",
       "      <td>Unknown</td>\n",
       "      <td>en</td>\n",
       "      <td>285.0</td>\n",
       "      <td>5</td>\n",
       "      <td>NaN</td>\n",
       "      <td>NaN</td>\n",
       "      <td>NaN</td>\n",
       "      <td>NaN</td>\n",
       "      <td>NaN</td>\n",
       "      <td>unknown</td>\n",
       "    </tr>\n",
       "    <tr>\n",
       "      <th>150055</th>\n",
       "      <td>2014-02-06</td>\n",
       "      <td>20140206194544</td>\n",
       "      <td>-unknown-</td>\n",
       "      <td>NaN</td>\n",
       "      <td>basic</td>\n",
       "      <td>0</td>\n",
       "      <td>en</td>\n",
       "      <td>sem-non-brand</td>\n",
       "      <td>google</td>\n",
       "      <td>omg</td>\n",
       "      <td>...</td>\n",
       "      <td>Unknown</td>\n",
       "      <td>en</td>\n",
       "      <td>144.0</td>\n",
       "      <td>19</td>\n",
       "      <td>48.0</td>\n",
       "      <td>1.0</td>\n",
       "      <td>57775.0</td>\n",
       "      <td>376659.0</td>\n",
       "      <td>similar_listings</td>\n",
       "      <td>unknown</td>\n",
       "    </tr>\n",
       "    <tr>\n",
       "      <th>163302</th>\n",
       "      <td>2014-03-14</td>\n",
       "      <td>20140314213027</td>\n",
       "      <td>MALE</td>\n",
       "      <td>35.0</td>\n",
       "      <td>basic</td>\n",
       "      <td>0</td>\n",
       "      <td>en</td>\n",
       "      <td>direct</td>\n",
       "      <td>direct</td>\n",
       "      <td>untracked</td>\n",
       "      <td>...</td>\n",
       "      <td>30-45</td>\n",
       "      <td>en</td>\n",
       "      <td>108.0</td>\n",
       "      <td>21</td>\n",
       "      <td>129.0</td>\n",
       "      <td>1.0</td>\n",
       "      <td>388762.0</td>\n",
       "      <td>1907286.0</td>\n",
       "      <td>view_search_results</td>\n",
       "      <td>working</td>\n",
       "    </tr>\n",
       "    <tr>\n",
       "      <th>17089</th>\n",
       "      <td>2012-02-16</td>\n",
       "      <td>20120216101300</td>\n",
       "      <td>MALE</td>\n",
       "      <td>45.0</td>\n",
       "      <td>facebook</td>\n",
       "      <td>0</td>\n",
       "      <td>en</td>\n",
       "      <td>direct</td>\n",
       "      <td>direct</td>\n",
       "      <td>untracked</td>\n",
       "      <td>...</td>\n",
       "      <td>45-65</td>\n",
       "      <td>en</td>\n",
       "      <td>865.0</td>\n",
       "      <td>10</td>\n",
       "      <td>NaN</td>\n",
       "      <td>NaN</td>\n",
       "      <td>NaN</td>\n",
       "      <td>NaN</td>\n",
       "      <td>NaN</td>\n",
       "      <td>working</td>\n",
       "    </tr>\n",
       "    <tr>\n",
       "      <th>80186</th>\n",
       "      <td>2013-05-29</td>\n",
       "      <td>20130529032026</td>\n",
       "      <td>-unknown-</td>\n",
       "      <td>NaN</td>\n",
       "      <td>basic</td>\n",
       "      <td>0</td>\n",
       "      <td>en</td>\n",
       "      <td>direct</td>\n",
       "      <td>direct</td>\n",
       "      <td>untracked</td>\n",
       "      <td>...</td>\n",
       "      <td>Unknown</td>\n",
       "      <td>en</td>\n",
       "      <td>397.0</td>\n",
       "      <td>3</td>\n",
       "      <td>NaN</td>\n",
       "      <td>NaN</td>\n",
       "      <td>NaN</td>\n",
       "      <td>NaN</td>\n",
       "      <td>NaN</td>\n",
       "      <td>unknown</td>\n",
       "    </tr>\n",
       "    <tr>\n",
       "      <th>52620</th>\n",
       "      <td>2012-12-17</td>\n",
       "      <td>20121217180858</td>\n",
       "      <td>MALE</td>\n",
       "      <td>25.0</td>\n",
       "      <td>facebook</td>\n",
       "      <td>0</td>\n",
       "      <td>en</td>\n",
       "      <td>direct</td>\n",
       "      <td>direct</td>\n",
       "      <td>untracked</td>\n",
       "      <td>...</td>\n",
       "      <td>Under30</td>\n",
       "      <td>en</td>\n",
       "      <td>560.0</td>\n",
       "      <td>18</td>\n",
       "      <td>NaN</td>\n",
       "      <td>NaN</td>\n",
       "      <td>NaN</td>\n",
       "      <td>NaN</td>\n",
       "      <td>NaN</td>\n",
       "      <td>adult</td>\n",
       "    </tr>\n",
       "    <tr>\n",
       "      <th>170584</th>\n",
       "      <td>2014-04-02</td>\n",
       "      <td>20140402015327</td>\n",
       "      <td>FEMALE</td>\n",
       "      <td>28.0</td>\n",
       "      <td>basic</td>\n",
       "      <td>25</td>\n",
       "      <td>en</td>\n",
       "      <td>direct</td>\n",
       "      <td>direct</td>\n",
       "      <td>untracked</td>\n",
       "      <td>...</td>\n",
       "      <td>Under30</td>\n",
       "      <td>en</td>\n",
       "      <td>89.0</td>\n",
       "      <td>1</td>\n",
       "      <td>10.0</td>\n",
       "      <td>2.0</td>\n",
       "      <td>199301.0</td>\n",
       "      <td>368482.0</td>\n",
       "      <td>-unknown-</td>\n",
       "      <td>adult</td>\n",
       "    </tr>\n",
       "    <tr>\n",
       "      <th>48600</th>\n",
       "      <td>2012-11-14</td>\n",
       "      <td>20121114225228</td>\n",
       "      <td>-unknown-</td>\n",
       "      <td>NaN</td>\n",
       "      <td>basic</td>\n",
       "      <td>0</td>\n",
       "      <td>ko</td>\n",
       "      <td>direct</td>\n",
       "      <td>direct</td>\n",
       "      <td>untracked</td>\n",
       "      <td>...</td>\n",
       "      <td>Unknown</td>\n",
       "      <td>other</td>\n",
       "      <td>593.0</td>\n",
       "      <td>22</td>\n",
       "      <td>NaN</td>\n",
       "      <td>NaN</td>\n",
       "      <td>NaN</td>\n",
       "      <td>NaN</td>\n",
       "      <td>NaN</td>\n",
       "      <td>unknown</td>\n",
       "    </tr>\n",
       "    <tr>\n",
       "      <th>212038</th>\n",
       "      <td>2014-06-28</td>\n",
       "      <td>20140628043920</td>\n",
       "      <td>-unknown-</td>\n",
       "      <td>NaN</td>\n",
       "      <td>basic</td>\n",
       "      <td>0</td>\n",
       "      <td>en</td>\n",
       "      <td>direct</td>\n",
       "      <td>direct</td>\n",
       "      <td>linked</td>\n",
       "      <td>...</td>\n",
       "      <td>Unknown</td>\n",
       "      <td>en</td>\n",
       "      <td>2.0</td>\n",
       "      <td>4</td>\n",
       "      <td>21.0</td>\n",
       "      <td>2.0</td>\n",
       "      <td>200000.0</td>\n",
       "      <td>416233.0</td>\n",
       "      <td>view_search_results</td>\n",
       "      <td>unknown</td>\n",
       "    </tr>\n",
       "    <tr>\n",
       "      <th>211543</th>\n",
       "      <td>2014-06-27</td>\n",
       "      <td>20140627061821</td>\n",
       "      <td>-unknown-</td>\n",
       "      <td>28.0</td>\n",
       "      <td>basic</td>\n",
       "      <td>0</td>\n",
       "      <td>en</td>\n",
       "      <td>direct</td>\n",
       "      <td>direct</td>\n",
       "      <td>linked</td>\n",
       "      <td>...</td>\n",
       "      <td>Under30</td>\n",
       "      <td>en</td>\n",
       "      <td>3.0</td>\n",
       "      <td>6</td>\n",
       "      <td>133.0</td>\n",
       "      <td>1.0</td>\n",
       "      <td>1673621.0</td>\n",
       "      <td>4537414.0</td>\n",
       "      <td>wishlist_content_update</td>\n",
       "      <td>adult</td>\n",
       "    </tr>\n",
       "    <tr>\n",
       "      <th>112420</th>\n",
       "      <td>2013-09-29</td>\n",
       "      <td>20130929072009</td>\n",
       "      <td>FEMALE</td>\n",
       "      <td>NaN</td>\n",
       "      <td>facebook</td>\n",
       "      <td>12</td>\n",
       "      <td>en</td>\n",
       "      <td>api</td>\n",
       "      <td>other</td>\n",
       "      <td>untracked</td>\n",
       "      <td>...</td>\n",
       "      <td>Unknown</td>\n",
       "      <td>en</td>\n",
       "      <td>274.0</td>\n",
       "      <td>7</td>\n",
       "      <td>NaN</td>\n",
       "      <td>NaN</td>\n",
       "      <td>NaN</td>\n",
       "      <td>NaN</td>\n",
       "      <td>NaN</td>\n",
       "      <td>unknown</td>\n",
       "    </tr>\n",
       "    <tr>\n",
       "      <th>186098</th>\n",
       "      <td>2014-05-08</td>\n",
       "      <td>20140508023750</td>\n",
       "      <td>MALE</td>\n",
       "      <td>28.0</td>\n",
       "      <td>facebook</td>\n",
       "      <td>25</td>\n",
       "      <td>en</td>\n",
       "      <td>direct</td>\n",
       "      <td>direct</td>\n",
       "      <td>untracked</td>\n",
       "      <td>...</td>\n",
       "      <td>Under30</td>\n",
       "      <td>en</td>\n",
       "      <td>53.0</td>\n",
       "      <td>2</td>\n",
       "      <td>39.0</td>\n",
       "      <td>2.0</td>\n",
       "      <td>702836.0</td>\n",
       "      <td>1058032.0</td>\n",
       "      <td>-unknown-</td>\n",
       "      <td>adult</td>\n",
       "    </tr>\n",
       "    <tr>\n",
       "      <th>86293</th>\n",
       "      <td>2013-06-25</td>\n",
       "      <td>20130625020142</td>\n",
       "      <td>MALE</td>\n",
       "      <td>29.0</td>\n",
       "      <td>basic</td>\n",
       "      <td>0</td>\n",
       "      <td>en</td>\n",
       "      <td>direct</td>\n",
       "      <td>direct</td>\n",
       "      <td>untracked</td>\n",
       "      <td>...</td>\n",
       "      <td>Under30</td>\n",
       "      <td>en</td>\n",
       "      <td>370.0</td>\n",
       "      <td>2</td>\n",
       "      <td>NaN</td>\n",
       "      <td>NaN</td>\n",
       "      <td>NaN</td>\n",
       "      <td>NaN</td>\n",
       "      <td>NaN</td>\n",
       "      <td>adult</td>\n",
       "    </tr>\n",
       "    <tr>\n",
       "      <th>122579</th>\n",
       "      <td>2013-11-07</td>\n",
       "      <td>20131107111554</td>\n",
       "      <td>FEMALE</td>\n",
       "      <td>30.0</td>\n",
       "      <td>facebook</td>\n",
       "      <td>0</td>\n",
       "      <td>en</td>\n",
       "      <td>direct</td>\n",
       "      <td>direct</td>\n",
       "      <td>linked</td>\n",
       "      <td>...</td>\n",
       "      <td>30-45</td>\n",
       "      <td>en</td>\n",
       "      <td>235.0</td>\n",
       "      <td>11</td>\n",
       "      <td>NaN</td>\n",
       "      <td>NaN</td>\n",
       "      <td>NaN</td>\n",
       "      <td>NaN</td>\n",
       "      <td>NaN</td>\n",
       "      <td>adult</td>\n",
       "    </tr>\n",
       "    <tr>\n",
       "      <th>41993</th>\n",
       "      <td>2012-09-22</td>\n",
       "      <td>20120922171335</td>\n",
       "      <td>-unknown-</td>\n",
       "      <td>NaN</td>\n",
       "      <td>basic</td>\n",
       "      <td>0</td>\n",
       "      <td>en</td>\n",
       "      <td>direct</td>\n",
       "      <td>direct</td>\n",
       "      <td>omg</td>\n",
       "      <td>...</td>\n",
       "      <td>Unknown</td>\n",
       "      <td>en</td>\n",
       "      <td>646.0</td>\n",
       "      <td>17</td>\n",
       "      <td>NaN</td>\n",
       "      <td>NaN</td>\n",
       "      <td>NaN</td>\n",
       "      <td>NaN</td>\n",
       "      <td>NaN</td>\n",
       "      <td>unknown</td>\n",
       "    </tr>\n",
       "    <tr>\n",
       "      <th>97639</th>\n",
       "      <td>2013-08-08</td>\n",
       "      <td>20130808085357</td>\n",
       "      <td>-unknown-</td>\n",
       "      <td>36.0</td>\n",
       "      <td>basic</td>\n",
       "      <td>0</td>\n",
       "      <td>en</td>\n",
       "      <td>sem-brand</td>\n",
       "      <td>google</td>\n",
       "      <td>omg</td>\n",
       "      <td>...</td>\n",
       "      <td>30-45</td>\n",
       "      <td>en</td>\n",
       "      <td>326.0</td>\n",
       "      <td>8</td>\n",
       "      <td>NaN</td>\n",
       "      <td>NaN</td>\n",
       "      <td>NaN</td>\n",
       "      <td>NaN</td>\n",
       "      <td>NaN</td>\n",
       "      <td>working</td>\n",
       "    </tr>\n",
       "    <tr>\n",
       "      <th>95939</th>\n",
       "      <td>2013-08-02</td>\n",
       "      <td>20130802054503</td>\n",
       "      <td>FEMALE</td>\n",
       "      <td>28.0</td>\n",
       "      <td>basic</td>\n",
       "      <td>0</td>\n",
       "      <td>en</td>\n",
       "      <td>direct</td>\n",
       "      <td>direct</td>\n",
       "      <td>untracked</td>\n",
       "      <td>...</td>\n",
       "      <td>Under30</td>\n",
       "      <td>en</td>\n",
       "      <td>332.0</td>\n",
       "      <td>5</td>\n",
       "      <td>NaN</td>\n",
       "      <td>NaN</td>\n",
       "      <td>NaN</td>\n",
       "      <td>NaN</td>\n",
       "      <td>NaN</td>\n",
       "      <td>adult</td>\n",
       "    </tr>\n",
       "    <tr>\n",
       "      <th>152315</th>\n",
       "      <td>2014-02-12</td>\n",
       "      <td>20140212235402</td>\n",
       "      <td>FEMALE</td>\n",
       "      <td>32.0</td>\n",
       "      <td>basic</td>\n",
       "      <td>0</td>\n",
       "      <td>en</td>\n",
       "      <td>direct</td>\n",
       "      <td>direct</td>\n",
       "      <td>omg</td>\n",
       "      <td>...</td>\n",
       "      <td>30-45</td>\n",
       "      <td>en</td>\n",
       "      <td>138.0</td>\n",
       "      <td>23</td>\n",
       "      <td>174.0</td>\n",
       "      <td>1.0</td>\n",
       "      <td>325537.0</td>\n",
       "      <td>2358118.0</td>\n",
       "      <td>dashboard</td>\n",
       "      <td>adult</td>\n",
       "    </tr>\n",
       "    <tr>\n",
       "      <th>176963</th>\n",
       "      <td>2014-04-17</td>\n",
       "      <td>20140417181623</td>\n",
       "      <td>FEMALE</td>\n",
       "      <td>24.0</td>\n",
       "      <td>facebook</td>\n",
       "      <td>0</td>\n",
       "      <td>en</td>\n",
       "      <td>direct</td>\n",
       "      <td>direct</td>\n",
       "      <td>untracked</td>\n",
       "      <td>...</td>\n",
       "      <td>Under30</td>\n",
       "      <td>en</td>\n",
       "      <td>74.0</td>\n",
       "      <td>18</td>\n",
       "      <td>2.0</td>\n",
       "      <td>1.0</td>\n",
       "      <td>5691.0</td>\n",
       "      <td>5691.0</td>\n",
       "      <td>header_userpic</td>\n",
       "      <td>adult</td>\n",
       "    </tr>\n",
       "    <tr>\n",
       "      <th>117952</th>\n",
       "      <td>2013-10-19</td>\n",
       "      <td>20131019034057</td>\n",
       "      <td>-unknown-</td>\n",
       "      <td>38.0</td>\n",
       "      <td>basic</td>\n",
       "      <td>0</td>\n",
       "      <td>en</td>\n",
       "      <td>sem-brand</td>\n",
       "      <td>google</td>\n",
       "      <td>untracked</td>\n",
       "      <td>...</td>\n",
       "      <td>30-45</td>\n",
       "      <td>en</td>\n",
       "      <td>254.0</td>\n",
       "      <td>3</td>\n",
       "      <td>NaN</td>\n",
       "      <td>NaN</td>\n",
       "      <td>NaN</td>\n",
       "      <td>NaN</td>\n",
       "      <td>NaN</td>\n",
       "      <td>working</td>\n",
       "    </tr>\n",
       "    <tr>\n",
       "      <th>173685</th>\n",
       "      <td>2014-04-09</td>\n",
       "      <td>20140409183207</td>\n",
       "      <td>-unknown-</td>\n",
       "      <td>NaN</td>\n",
       "      <td>basic</td>\n",
       "      <td>0</td>\n",
       "      <td>en</td>\n",
       "      <td>direct</td>\n",
       "      <td>direct</td>\n",
       "      <td>untracked</td>\n",
       "      <td>...</td>\n",
       "      <td>Unknown</td>\n",
       "      <td>en</td>\n",
       "      <td>82.0</td>\n",
       "      <td>18</td>\n",
       "      <td>57.0</td>\n",
       "      <td>1.0</td>\n",
       "      <td>1580352.0</td>\n",
       "      <td>3495661.0</td>\n",
       "      <td>wishlist_content_update</td>\n",
       "      <td>unknown</td>\n",
       "    </tr>\n",
       "    <tr>\n",
       "      <th>43567</th>\n",
       "      <td>2012-10-04</td>\n",
       "      <td>20121004171038</td>\n",
       "      <td>FEMALE</td>\n",
       "      <td>30.0</td>\n",
       "      <td>facebook</td>\n",
       "      <td>0</td>\n",
       "      <td>en</td>\n",
       "      <td>direct</td>\n",
       "      <td>direct</td>\n",
       "      <td>untracked</td>\n",
       "      <td>...</td>\n",
       "      <td>30-45</td>\n",
       "      <td>en</td>\n",
       "      <td>634.0</td>\n",
       "      <td>17</td>\n",
       "      <td>NaN</td>\n",
       "      <td>NaN</td>\n",
       "      <td>NaN</td>\n",
       "      <td>NaN</td>\n",
       "      <td>NaN</td>\n",
       "      <td>adult</td>\n",
       "    </tr>\n",
       "    <tr>\n",
       "      <th>199340</th>\n",
       "      <td>2014-06-04</td>\n",
       "      <td>20140604031832</td>\n",
       "      <td>MALE</td>\n",
       "      <td>24.0</td>\n",
       "      <td>facebook</td>\n",
       "      <td>25</td>\n",
       "      <td>en</td>\n",
       "      <td>direct</td>\n",
       "      <td>direct</td>\n",
       "      <td>untracked</td>\n",
       "      <td>...</td>\n",
       "      <td>Under30</td>\n",
       "      <td>en</td>\n",
       "      <td>26.0</td>\n",
       "      <td>3</td>\n",
       "      <td>7.0</td>\n",
       "      <td>2.0</td>\n",
       "      <td>18556.0</td>\n",
       "      <td>22625.0</td>\n",
       "      <td>-unknown-</td>\n",
       "      <td>adult</td>\n",
       "    </tr>\n",
       "  </tbody>\n",
       "</table>\n",
       "<p>188451 rows × 26 columns</p>\n",
       "</div>"
      ],
      "text/plain": [
       "       date_account_created  timestamp_first_active     gender    age  \\\n",
       "76594            2013-05-12          20130512210934  -unknown-    NaN   \n",
       "63080            2013-03-02          20130302054534     FEMALE   31.0   \n",
       "4949             2011-05-17          20110517211429  -unknown-  105.0   \n",
       "129089           2013-12-02          20131202180650  -unknown-   37.0   \n",
       "122626           2013-11-07          20131107183734     FEMALE   25.0   \n",
       "85227            2013-06-20          20130620041107     FEMALE   26.0   \n",
       "49549            2012-11-23          20121123122454  -unknown-    NaN   \n",
       "3014             2011-01-22          20110122230445     FEMALE   35.0   \n",
       "103611           2013-08-30          20130830170502  -unknown-    NaN   \n",
       "172907           2014-04-07          20140407225228  -unknown-    NaN   \n",
       "91188            2013-07-15          20130715160316       MALE   34.0   \n",
       "157160           2014-02-26          20140226152810       MALE   32.0   \n",
       "78939            2013-05-23          20130523031202  -unknown-   19.0   \n",
       "31322            2012-07-10          20120710215508       MALE    NaN   \n",
       "211734           2014-06-27          20140627185435     FEMALE   23.0   \n",
       "6875             2011-07-25          20110725195903  -unknown-    NaN   \n",
       "124143           2013-11-13          20131113071432     FEMALE   29.0   \n",
       "76486            2013-05-12          20130512011325       MALE   44.0   \n",
       "204265           2014-06-13          20140613213030     FEMALE   29.0   \n",
       "113616           2013-10-02          20131002172642  -unknown-    NaN   \n",
       "196454           2014-05-29          20140529040332  -unknown-    NaN   \n",
       "81157            2013-06-02          20130602211632     FEMALE   40.0   \n",
       "25620            2012-05-28          20120528070745  -unknown-   25.0   \n",
       "176371           2014-04-16          20140416054951       MALE   35.0   \n",
       "32762            2012-07-19          20120719185848       MALE   31.0   \n",
       "127585           2013-11-25          20131125213715       MALE   29.0   \n",
       "189889           2014-05-15          20140515212338     FEMALE   47.0   \n",
       "20336            2012-04-03          20120403045955     FEMALE   33.0   \n",
       "119904           2013-10-28          20131028003731       MALE   37.0   \n",
       "100339           2013-08-18          20130818151043  -unknown-    NaN   \n",
       "...                     ...                     ...        ...    ...   \n",
       "168691           2014-03-28          20140328024706  -unknown-    NaN   \n",
       "70608            2013-04-12          20130412180506  -unknown-    NaN   \n",
       "67699            2013-03-28          20130328053743  -unknown-    NaN   \n",
       "169876           2014-03-31          20140331124023  -unknown-   18.0   \n",
       "137993           2014-01-04          20140104071354  -unknown-    NaN   \n",
       "82457            2013-06-08          20130608065855       MALE   36.0   \n",
       "101201           2013-08-21          20130821133417       MALE   28.0   \n",
       "108631           2013-09-18          20130918050132  -unknown-    NaN   \n",
       "150055           2014-02-06          20140206194544  -unknown-    NaN   \n",
       "163302           2014-03-14          20140314213027       MALE   35.0   \n",
       "17089            2012-02-16          20120216101300       MALE   45.0   \n",
       "80186            2013-05-29          20130529032026  -unknown-    NaN   \n",
       "52620            2012-12-17          20121217180858       MALE   25.0   \n",
       "170584           2014-04-02          20140402015327     FEMALE   28.0   \n",
       "48600            2012-11-14          20121114225228  -unknown-    NaN   \n",
       "212038           2014-06-28          20140628043920  -unknown-    NaN   \n",
       "211543           2014-06-27          20140627061821  -unknown-   28.0   \n",
       "112420           2013-09-29          20130929072009     FEMALE    NaN   \n",
       "186098           2014-05-08          20140508023750       MALE   28.0   \n",
       "86293            2013-06-25          20130625020142       MALE   29.0   \n",
       "122579           2013-11-07          20131107111554     FEMALE   30.0   \n",
       "41993            2012-09-22          20120922171335  -unknown-    NaN   \n",
       "97639            2013-08-08          20130808085357  -unknown-   36.0   \n",
       "95939            2013-08-02          20130802054503     FEMALE   28.0   \n",
       "152315           2014-02-12          20140212235402     FEMALE   32.0   \n",
       "176963           2014-04-17          20140417181623     FEMALE   24.0   \n",
       "117952           2013-10-19          20131019034057  -unknown-   38.0   \n",
       "173685           2014-04-09          20140409183207  -unknown-    NaN   \n",
       "43567            2012-10-04          20121004171038     FEMALE   30.0   \n",
       "199340           2014-06-04          20140604031832       MALE   24.0   \n",
       "\n",
       "       signup_method  signup_flow language affiliate_channel  \\\n",
       "76594          basic            0       en            direct   \n",
       "63080       facebook            0       en            direct   \n",
       "4949        facebook            2       en            direct   \n",
       "129089         basic            0       en         sem-brand   \n",
       "122626         basic            0       en            direct   \n",
       "85227       facebook            0       en            direct   \n",
       "49549          basic           12       en               api   \n",
       "3014           basic            2       en     sem-non-brand   \n",
       "103611         basic            0       en            direct   \n",
       "172907         basic            0       en     sem-non-brand   \n",
       "91188       facebook            0       en            direct   \n",
       "157160      facebook            0       en            direct   \n",
       "78939          basic            0       en            direct   \n",
       "31322          basic            0       en            direct   \n",
       "211734      facebook            0       en            direct   \n",
       "6875           basic            2       en     sem-non-brand   \n",
       "124143      facebook            0       en           content   \n",
       "76486          basic           25       en            direct   \n",
       "204265      facebook            0       en         sem-brand   \n",
       "113616         basic            0       en            direct   \n",
       "196454         basic            0       en         sem-brand   \n",
       "81157          basic            0       en         sem-brand   \n",
       "25620          basic            3       en            direct   \n",
       "176371      facebook            0       en         sem-brand   \n",
       "32762       facebook            0       en            direct   \n",
       "127585      facebook           12       en               api   \n",
       "189889      facebook            0       en           content   \n",
       "20336          basic            0       en             other   \n",
       "119904         basic            0       en            direct   \n",
       "100339         basic            0       zh            direct   \n",
       "...              ...          ...      ...               ...   \n",
       "168691         basic            0       en               seo   \n",
       "70608          basic            0       en            direct   \n",
       "67699          basic            0       en            direct   \n",
       "169876         basic            0       en            direct   \n",
       "137993         basic            0       en            direct   \n",
       "82457          basic           25       en            direct   \n",
       "101201         basic           24       it            direct   \n",
       "108631         basic            0       en            direct   \n",
       "150055         basic            0       en     sem-non-brand   \n",
       "163302         basic            0       en            direct   \n",
       "17089       facebook            0       en            direct   \n",
       "80186          basic            0       en            direct   \n",
       "52620       facebook            0       en            direct   \n",
       "170584         basic           25       en            direct   \n",
       "48600          basic            0       ko            direct   \n",
       "212038         basic            0       en            direct   \n",
       "211543         basic            0       en            direct   \n",
       "112420      facebook           12       en               api   \n",
       "186098      facebook           25       en            direct   \n",
       "86293          basic            0       en            direct   \n",
       "122579      facebook            0       en            direct   \n",
       "41993          basic            0       en            direct   \n",
       "97639          basic            0       en         sem-brand   \n",
       "95939          basic            0       en            direct   \n",
       "152315         basic            0       en            direct   \n",
       "176963      facebook            0       en            direct   \n",
       "117952         basic            0       en         sem-brand   \n",
       "173685         basic            0       en            direct   \n",
       "43567       facebook            0       en            direct   \n",
       "199340      facebook           25       en            direct   \n",
       "\n",
       "       affiliate_provider first_affiliate_tracked   ...     bin_age bin_lang  \\\n",
       "76594              direct                  linked   ...     Unknown       en   \n",
       "63080              direct               untracked   ...       30-45       en   \n",
       "4949               direct               untracked   ...     Unknown       en   \n",
       "129089             google                     omg   ...       30-45       en   \n",
       "122626             direct                  linked   ...     Under30       en   \n",
       "85227              direct               untracked   ...     Under30       en   \n",
       "49549               other                     NaN   ...     Unknown       en   \n",
       "3014                 vast               untracked   ...       30-45       en   \n",
       "103611             direct               untracked   ...     Unknown       en   \n",
       "172907             google                     omg   ...     Unknown       en   \n",
       "91188              direct                  linked   ...       30-45       en   \n",
       "157160             direct               untracked   ...       30-45       en   \n",
       "78939              direct               untracked   ...     Under30       en   \n",
       "31322              direct                  linked   ...     Unknown       en   \n",
       "211734             direct                  linked   ...     Under30       en   \n",
       "6875                 bing               untracked   ...     Unknown       en   \n",
       "124143             google                     omg   ...     Under30       en   \n",
       "76486              direct               untracked   ...       30-45       en   \n",
       "204265             google                     omg   ...     Under30       en   \n",
       "113616             direct               untracked   ...     Unknown       en   \n",
       "196454             google                     omg   ...     Unknown       en   \n",
       "81157              google                     omg   ...       30-45       en   \n",
       "25620              direct               untracked   ...     Under30       en   \n",
       "176371             google                     omg   ...       30-45       en   \n",
       "32762              direct               untracked   ...       30-45       en   \n",
       "127585              other           tracked-other   ...     Under30       en   \n",
       "189889             google                     omg   ...       45-65       en   \n",
       "20336               other               untracked   ...       30-45       en   \n",
       "119904             direct               untracked   ...       30-45       en   \n",
       "100339             direct                     omg   ...     Unknown       zh   \n",
       "...                   ...                     ...   ...         ...      ...   \n",
       "168691             google                  linked   ...     Unknown       en   \n",
       "70608              direct               untracked   ...     Unknown       en   \n",
       "67699              direct               untracked   ...     Unknown       en   \n",
       "169876             direct               untracked   ...     Under30       en   \n",
       "137993             direct                  linked   ...     Unknown       en   \n",
       "82457              direct               untracked   ...       30-45       en   \n",
       "101201             direct               untracked   ...     Under30    other   \n",
       "108631             direct               untracked   ...     Unknown       en   \n",
       "150055             google                     omg   ...     Unknown       en   \n",
       "163302             direct               untracked   ...       30-45       en   \n",
       "17089              direct               untracked   ...       45-65       en   \n",
       "80186              direct               untracked   ...     Unknown       en   \n",
       "52620              direct               untracked   ...     Under30       en   \n",
       "170584             direct               untracked   ...     Under30       en   \n",
       "48600              direct               untracked   ...     Unknown    other   \n",
       "212038             direct                  linked   ...     Unknown       en   \n",
       "211543             direct                  linked   ...     Under30       en   \n",
       "112420              other               untracked   ...     Unknown       en   \n",
       "186098             direct               untracked   ...     Under30       en   \n",
       "86293              direct               untracked   ...     Under30       en   \n",
       "122579             direct                  linked   ...       30-45       en   \n",
       "41993              direct                     omg   ...     Unknown       en   \n",
       "97639              google                     omg   ...       30-45       en   \n",
       "95939              direct               untracked   ...     Under30       en   \n",
       "152315             direct                     omg   ...       30-45       en   \n",
       "176963             direct               untracked   ...     Under30       en   \n",
       "117952             google               untracked   ...       30-45       en   \n",
       "173685             direct               untracked   ...     Unknown       en   \n",
       "43567              direct               untracked   ...       30-45       en   \n",
       "199340             direct               untracked   ...     Under30       en   \n",
       "\n",
       "       days_since_creation  first_hour count_actions  number_devices  \\\n",
       "76594                414.0          21           NaN             NaN   \n",
       "63080                485.0           5           NaN             NaN   \n",
       "4949                1140.0          21           NaN             NaN   \n",
       "129089               210.0          18           NaN             NaN   \n",
       "122626               235.0          18           NaN             NaN   \n",
       "85227                375.0           4           NaN             NaN   \n",
       "49549                584.0          12           NaN             NaN   \n",
       "3014                1255.0          23           NaN             NaN   \n",
       "103611               304.0          17           NaN             NaN   \n",
       "172907                84.0          22           6.0             2.0   \n",
       "91188                350.0          16           NaN             NaN   \n",
       "157160               124.0          15          17.0             1.0   \n",
       "78939                403.0           3           NaN             NaN   \n",
       "31322                720.0          21           NaN             NaN   \n",
       "211734                 3.0          18           5.0             1.0   \n",
       "6875                1071.0          19           NaN             NaN   \n",
       "124143               229.0           7           NaN             NaN   \n",
       "76486                414.0           1           NaN             NaN   \n",
       "204265                17.0          21           2.0             1.0   \n",
       "113616               271.0          17           NaN             NaN   \n",
       "196454                32.0           4         136.0             1.0   \n",
       "81157                393.0          21           NaN             NaN   \n",
       "25620                763.0           7           NaN             NaN   \n",
       "176371                75.0           5          38.0             2.0   \n",
       "32762                711.0          18           NaN             NaN   \n",
       "127585               217.0          21           NaN             NaN   \n",
       "189889                46.0          21           2.0             1.0   \n",
       "20336                818.0           4           NaN             NaN   \n",
       "119904               245.0           0           NaN             NaN   \n",
       "100339               316.0          15           NaN             NaN   \n",
       "...                    ...         ...           ...             ...   \n",
       "168691                94.0           2          39.0             1.0   \n",
       "70608                444.0          18           NaN             NaN   \n",
       "67699                459.0           5           NaN             NaN   \n",
       "169876                91.0          12          30.0             1.0   \n",
       "137993               177.0           7         160.0             1.0   \n",
       "82457                387.0           6           NaN             NaN   \n",
       "101201               313.0          13           NaN             NaN   \n",
       "108631               285.0           5           NaN             NaN   \n",
       "150055               144.0          19          48.0             1.0   \n",
       "163302               108.0          21         129.0             1.0   \n",
       "17089                865.0          10           NaN             NaN   \n",
       "80186                397.0           3           NaN             NaN   \n",
       "52620                560.0          18           NaN             NaN   \n",
       "170584                89.0           1          10.0             2.0   \n",
       "48600                593.0          22           NaN             NaN   \n",
       "212038                 2.0           4          21.0             2.0   \n",
       "211543                 3.0           6         133.0             1.0   \n",
       "112420               274.0           7           NaN             NaN   \n",
       "186098                53.0           2          39.0             2.0   \n",
       "86293                370.0           2           NaN             NaN   \n",
       "122579               235.0          11           NaN             NaN   \n",
       "41993                646.0          17           NaN             NaN   \n",
       "97639                326.0           8           NaN             NaN   \n",
       "95939                332.0           5           NaN             NaN   \n",
       "152315               138.0          23         174.0             1.0   \n",
       "176963                74.0          18           2.0             1.0   \n",
       "117952               254.0           3           NaN             NaN   \n",
       "173685                82.0          18          57.0             1.0   \n",
       "43567                634.0          17           NaN             NaN   \n",
       "199340                26.0           3           7.0             2.0   \n",
       "\n",
       "       longest_session total_time              last_action  new_age  \n",
       "76594              NaN        NaN                      NaN  unknown  \n",
       "63080              NaN        NaN                      NaN    adult  \n",
       "4949               NaN        NaN                      NaN   senior  \n",
       "129089             NaN        NaN                      NaN  working  \n",
       "122626             NaN        NaN                      NaN    adult  \n",
       "85227              NaN        NaN                      NaN    adult  \n",
       "49549              NaN        NaN                      NaN  unknown  \n",
       "3014               NaN        NaN                      NaN  working  \n",
       "103611             NaN        NaN                      NaN  unknown  \n",
       "172907        358234.0   359392.0           header_userpic  unknown  \n",
       "91188              NaN        NaN                      NaN    adult  \n",
       "157160        167385.0   311445.0                    login    adult  \n",
       "78939              NaN        NaN                      NaN    adult  \n",
       "31322              NaN        NaN                      NaN  unknown  \n",
       "211734         50594.0    54262.0                    login    adult  \n",
       "6875               NaN        NaN                      NaN  unknown  \n",
       "124143             NaN        NaN                      NaN    adult  \n",
       "76486              NaN        NaN                      NaN  working  \n",
       "204265           282.0      282.0                    login    adult  \n",
       "113616             NaN        NaN                      NaN  unknown  \n",
       "196454        320804.0  2763861.0                -unknown-  unknown  \n",
       "81157              NaN        NaN                      NaN  working  \n",
       "25620              NaN        NaN                      NaN    adult  \n",
       "176371        734956.0  1024419.0                -unknown-  working  \n",
       "32762              NaN        NaN                      NaN    adult  \n",
       "127585             NaN        NaN                      NaN    adult  \n",
       "189889           862.0      862.0           header_userpic  working  \n",
       "20336              NaN        NaN                      NaN    adult  \n",
       "119904             NaN        NaN                      NaN  working  \n",
       "100339             NaN        NaN                      NaN  unknown  \n",
       "...                ...        ...                      ...      ...  \n",
       "168691         62303.0   324736.0      view_search_results  unknown  \n",
       "70608              NaN        NaN                      NaN  unknown  \n",
       "67699              NaN        NaN                      NaN  unknown  \n",
       "169876       1147127.0  2422369.0           update_listing    adult  \n",
       "137993        404940.0  1521697.0      view_search_results  unknown  \n",
       "82457              NaN        NaN                      NaN  working  \n",
       "101201             NaN        NaN                      NaN    adult  \n",
       "108631             NaN        NaN                      NaN  unknown  \n",
       "150055         57775.0   376659.0         similar_listings  unknown  \n",
       "163302        388762.0  1907286.0      view_search_results  working  \n",
       "17089              NaN        NaN                      NaN  working  \n",
       "80186              NaN        NaN                      NaN  unknown  \n",
       "52620              NaN        NaN                      NaN    adult  \n",
       "170584        199301.0   368482.0                -unknown-    adult  \n",
       "48600              NaN        NaN                      NaN  unknown  \n",
       "212038        200000.0   416233.0      view_search_results  unknown  \n",
       "211543       1673621.0  4537414.0  wishlist_content_update    adult  \n",
       "112420             NaN        NaN                      NaN  unknown  \n",
       "186098        702836.0  1058032.0                -unknown-    adult  \n",
       "86293              NaN        NaN                      NaN    adult  \n",
       "122579             NaN        NaN                      NaN    adult  \n",
       "41993              NaN        NaN                      NaN  unknown  \n",
       "97639              NaN        NaN                      NaN  working  \n",
       "95939              NaN        NaN                      NaN    adult  \n",
       "152315        325537.0  2358118.0                dashboard    adult  \n",
       "176963          5691.0     5691.0           header_userpic    adult  \n",
       "117952             NaN        NaN                      NaN  working  \n",
       "173685       1580352.0  3495661.0  wishlist_content_update  unknown  \n",
       "43567              NaN        NaN                      NaN    adult  \n",
       "199340         18556.0    22625.0                -unknown-    adult  \n",
       "\n",
       "[188451 rows x 26 columns]"
      ]
     },
     "execution_count": 72,
     "metadata": {},
     "output_type": "execute_result"
    }
   ],
   "source": [
    "# create param: new age bin\n",
    "def new_age(col):\n",
    "    if col >= age3 and col < 120:\n",
    "        return \"senior\"\n",
    "    elif col >= age2 and col < age3:\n",
    "        return \"older\"\n",
    "    elif col >=age1 and col < age2:\n",
    "        return \"working\"\n",
    "    elif col >=age0 and col < age1:\n",
    "        return \"adult\"\n",
    "    elif col >= 0 and col < age0:\n",
    "        return \"teens\"\n",
    "    else:\n",
    "        return \"unknown\"\n",
    "    \n",
    "train_data[\"new_age\"] = train.age.apply(new_age)\n",
    "dev_data[\"new_age\"] = train.age.apply(new_age)"
   ]
  },
  {
   "cell_type": "markdown",
   "metadata": {},
   "source": [
    "### What about language and new_age bin?"
   ]
  },
  {
   "cell_type": "code",
   "execution_count": 73,
   "metadata": {
    "collapsed": false
   },
   "outputs": [
    {
     "name": "stdout",
     "output_type": "stream",
     "text": [
      "K Nearest Neighbors:\n"
     ]
    },
    {
     "name": "stderr",
     "output_type": "stream",
     "text": [
      "c:\\Users\\cendy\\Anaconda3\\lib\\site-packages\\sklearn\\metrics\\classification.py:1113: UndefinedMetricWarning: F-score is ill-defined and being set to 0.0 in labels with no predicted samples.\n",
      "  'precision', 'predicted', average, warn_for)\n"
     ]
    },
    {
     "name": "stdout",
     "output_type": "stream",
     "text": [
      "k: 1  f1 score: 0.4331\n",
      "k: 2  f1 score: 0.4331\n",
      "k: 3  f1 score: 0.4334\n",
      "k: 4  f1 score: 0.4336\n",
      "k: 5  f1 score: 0.4334\n",
      "k: 6  f1 score: 0.4334\n",
      "k: 7  f1 score: 0.4333\n",
      "k: 8  f1 score: 0.4330\n",
      "k: 9  f1 score: 0.4330\n",
      "Optimal k: 4\n"
     ]
    }
   ],
   "source": [
    "# Convert new_age to numeric\n",
    "tr_new_age = le.fit_transform(train_data.new_age)\n",
    "dev_new_age = le.fit_transform(dev_data.new_age)\n",
    "\n",
    "# Create language and bin_age array for train and dev sets\n",
    "lang = code_lang.reshape((188451,1))\n",
    "new_age = tr_new_age.reshape((188451,1))\n",
    "\n",
    "dev_lang = dev_lang.reshape((25000,1))\n",
    "dev_new_age = dev_new_age.reshape((25000,1))\n",
    "\n",
    "tr = np.concatenate((lang, new_age), axis=1)\n",
    "dev = np.concatenate((dev_lang, dev_new_age), axis=1)\n",
    "\n",
    "\n",
    "print(\"K Nearest Neighbors:\")\n",
    "f1 = []\n",
    "for k in range(1,10):\n",
    "    knn = KNeighborsClassifier(n_neighbors = k)\n",
    "    knn.fit(tr, train_lab)\n",
    "    preds = knn.predict(dev)\n",
    "    f1_score = metrics.f1_score(dev_lab, preds, average = \"weighted\")\n",
    "    f1.append(f1_score)\n",
    "    print(\"k: %r  f1 score: %.4f\" %(k, f1_score))\n",
    "print(\"Optimal k:\", f1.index(max(f1))+1)"
   ]
  },
  {
   "cell_type": "markdown",
   "metadata": {},
   "source": [
    "### Is bin_language more predictive?"
   ]
  },
  {
   "cell_type": "code",
   "execution_count": 32,
   "metadata": {
    "collapsed": false
   },
   "outputs": [
    {
     "name": "stdout",
     "output_type": "stream",
     "text": [
      "K Nearest Neighbors:\n"
     ]
    },
    {
     "name": "stderr",
     "output_type": "stream",
     "text": [
      "c:\\Users\\cendy\\Anaconda3\\lib\\site-packages\\sklearn\\metrics\\classification.py:1113: UndefinedMetricWarning: F-score is ill-defined and being set to 0.0 in labels with no predicted samples.\n",
      "  'precision', 'predicted', average, warn_for)\n"
     ]
    },
    {
     "name": "stdout",
     "output_type": "stream",
     "text": [
      "k: 1  f1 score: 0.1501\n",
      "k: 2  f1 score: 0.1718\n",
      "k: 3  f1 score: 0.4342\n",
      "k: 4  f1 score: 0.0470\n",
      "k: 5  f1 score: 0.0403\n",
      "k: 6  f1 score: 0.1679\n",
      "k: 7  f1 score: 0.1777\n",
      "k: 8  f1 score: 0.4342\n",
      "k: 9  f1 score: 0.1679\n",
      "Optimal k: 3\n"
     ]
    }
   ],
   "source": [
    "# Convert language to numeric\n",
    "code_binlang = le.fit_transform(train_data.bin_lang)\n",
    "dev_binlang = le.fit_transform(dev_data.bin_lang)\n",
    "\n",
    "# K Nearest Neighbors\n",
    "print(\"K Nearest Neighbors:\")\n",
    "f1 = []\n",
    "for k in range(1,10):\n",
    "    knn = KNeighborsClassifier(n_neighbors = k)\n",
    "    knn.fit(code_binlang.reshape((188451,1)), train_lab)\n",
    "    preds = knn.predict(dev_binlang.reshape((25000,1)))\n",
    "    f1_score = metrics.f1_score(dev_lab, preds, average = \"weighted\")\n",
    "    f1.append(f1_score)\n",
    "    print(\"k: %r  f1 score: %.4f\" %(k, f1_score))\n",
    "print(\"Optimal k:\", f1.index(max(f1))+1)"
   ]
  },
  {
   "cell_type": "markdown",
   "metadata": {},
   "source": [
    "# Logistic Regression"
   ]
  },
  {
   "cell_type": "markdown",
   "metadata": {},
   "source": [
    "### Binarized Language only"
   ]
  },
  {
   "cell_type": "code",
   "execution_count": 348,
   "metadata": {
    "collapsed": false
   },
   "outputs": [],
   "source": [
    "# binarize language variable on train and dev data\n",
    "lang_dum = pd.get_dummies(train.language)\n",
    "t_lang = lang_dum[25000:]\n",
    "d_lang = lang_dum[:25000]"
   ]
  },
  {
   "cell_type": "code",
   "execution_count": 349,
   "metadata": {
    "collapsed": false
   },
   "outputs": [
    {
     "name": "stdout",
     "output_type": "stream",
     "text": [
      "Logistic Regression with l1\n",
      "C: 0.500000, score: 0.586040\n",
      "C: 1.000000, score: 0.586040\n",
      "\n",
      "Logistic Regression with l2\n",
      "C: 0.500000, score: 0.586040\n",
      "C: 1.000000, score: 0.586040\n",
      "[[14651  7272  3077]\n",
      " [    0     0     0]\n",
      " [    0     0     0]]\n"
     ]
    }
   ],
   "source": [
    "# Execute logistic regression on binarized language \n",
    "print(\"Logistic Regression with l1\")\n",
    "Cs = {'C':list(np.linspace(0, 1, 3))[1:]}\n",
    "\n",
    "for c in Cs.get('C'):\n",
    "    lm = LogisticRegression(C = c, penalty = \"l1\")\n",
    "    lm.fit(t_lang, t_lab)\n",
    "    score = lm.score(d_lang, d_lab)\n",
    "    print(\"C: %f, score: %f\" %(c, score))\n",
    "\n",
    "print(\"\\nLogistic Regression with l2\")\n",
    "Cs = {'C':list(np.linspace(0, 1, 3))[1:]}\n",
    "\n",
    "for c in Cs.get('C'):\n",
    "    lm = LogisticRegression(C = c, penalty = \"l2\")\n",
    "    lm.fit(t_lang, t_lab)\n",
    "    score = lm.score(d_lang, d_lab)\n",
    "    print(\"C: %f, score: %f\" %(c, score))\n",
    "    \n",
    "pred = lm.predict(d_lang)\n",
    "conf = confusion_matrix(pred, d_lab)\n",
    "print(conf)"
   ]
  },
  {
   "cell_type": "markdown",
   "metadata": {},
   "source": [
    "### Binarized bin_lang"
   ]
  },
  {
   "cell_type": "code",
   "execution_count": 350,
   "metadata": {
    "collapsed": false
   },
   "outputs": [],
   "source": [
    "# using bin_lang instead of language\n",
    "\n",
    "# binarize bin_lang on train and dev data\n",
    "lang_dum = pd.get_dummies(train.bin_lang)\n",
    "t_lang = lang_dum[25000:]\n",
    "d_lang = lang_dum[:25000]"
   ]
  },
  {
   "cell_type": "code",
   "execution_count": 351,
   "metadata": {
    "collapsed": false
   },
   "outputs": [
    {
     "name": "stdout",
     "output_type": "stream",
     "text": [
      "Logistic Regression with l1\n",
      "C: 50.000000, score: 0.586040\n",
      "C: 100.000000, score: 0.586040\n",
      "\n",
      "Logistic Regression with l2\n",
      "C: 0.500000, score: 0.586040\n",
      "C: 1.000000, score: 0.586040\n",
      "[[14651  7272  3077]\n",
      " [    0     0     0]\n",
      " [    0     0     0]]\n"
     ]
    }
   ],
   "source": [
    "# Execute logistic regression on binarized bin_lang \n",
    "print(\"Logistic Regression with l1\")\n",
    "Cs = {'C':list(np.linspace(0, 100, 3))[1:]}\n",
    "\n",
    "for c in Cs.get('C'):\n",
    "    lm = LogisticRegression(C = c, penalty = \"l1\")\n",
    "    lm.fit(t_lang, t_lab)\n",
    "    score = lm.score(d_lang, d_lab)\n",
    "    print(\"C: %f, score: %f\" %(c, score))\n",
    "\n",
    "print(\"\\nLogistic Regression with l2\")\n",
    "Cs = {'C':list(np.linspace(0, 1, 3))[1:]}\n",
    "\n",
    "for c in Cs.get('C'):\n",
    "    lm = LogisticRegression(C = c, penalty = \"l2\")\n",
    "    lm.fit(t_lang, t_lab)\n",
    "    score = lm.score(d_lang, d_lab)\n",
    "    print(\"C: %f, score: %f\" %(c, score))\n",
    "    \n",
    "pred = lm.predict(d_lang)\n",
    "conf = confusion_matrix(pred, d_lab)\n",
    "print(conf)"
   ]
  },
  {
   "cell_type": "markdown",
   "metadata": {},
   "source": [
    "### Binarized bin_lang and bin_age"
   ]
  },
  {
   "cell_type": "code",
   "execution_count": 364,
   "metadata": {
    "collapsed": false
   },
   "outputs": [],
   "source": [
    "# using bin_lang instead of language\n",
    "\n",
    "# binarize bin_lang on train and dev data\n",
    "lang_dum = pd.get_dummies(train.bin_lang)\n",
    "t_lang = lang_dum[25000:]\n",
    "d_lang = lang_dum[:25000]\n",
    "\n",
    "# binarize bin_age on train and dev data\n",
    "age_dum = pd.get_dummies(train.bin_age)\n",
    "t_age = age_dum[25000:]\n",
    "d_age = age_dum[:25000]\n",
    "\n",
    "t = np.concatenate((t_lang, t_age), axis = 1)\n",
    "d = np.concatenate((d_lang, d_age), axis = 1)\n"
   ]
  },
  {
   "cell_type": "code",
   "execution_count": 366,
   "metadata": {
    "collapsed": false
   },
   "outputs": [
    {
     "name": "stdout",
     "output_type": "stream",
     "text": [
      "Logistic Regression with l1\n",
      "C: 50.000000, score: 0.586040\n",
      "C: 100.000000, score: 0.586040\n",
      "\n",
      "Logistic Regression with l2\n",
      "C: 0.500000, score: 0.586040\n",
      "C: 1.000000, score: 0.586040\n",
      "[[14651  7272  3077]\n",
      " [    0     0     0]\n",
      " [    0     0     0]]\n"
     ]
    }
   ],
   "source": [
    "# Execute logistic regression on binarized bin_lang \n",
    "print(\"Logistic Regression with l1\")\n",
    "Cs = {'C':list(np.linspace(0, 100, 3))[1:]}\n",
    "\n",
    "for c in Cs.get('C'):\n",
    "    lm = LogisticRegression(C = c, penalty = \"l1\")\n",
    "    lm.fit(t, t_lab)\n",
    "    score = lm.score(d, d_lab)\n",
    "    print(\"C: %f, score: %f\" %(c, score))\n",
    "\n",
    "print(\"\\nLogistic Regression with l2\")\n",
    "Cs = {'C':list(np.linspace(0, 1, 3))[1:]}\n",
    "\n",
    "for c in Cs.get('C'):\n",
    "    lm = LogisticRegression(C = c, penalty = \"l2\")\n",
    "    lm.fit(t, t_lab)\n",
    "    score = lm.score(d, d_lab)\n",
    "    print(\"C: %f, score: %f\" %(c, score))\n",
    "    \n",
    "pred = lm.predict(d)\n",
    "conf = confusion_matrix(pred, d_lab)\n",
    "print(conf)"
   ]
  },
  {
   "cell_type": "markdown",
   "metadata": {},
   "source": [
    "### Binarized bin_lang, bin_age, first_browser"
   ]
  },
  {
   "cell_type": "code",
   "execution_count": 374,
   "metadata": {
    "collapsed": false
   },
   "outputs": [
    {
     "data": {
      "text/plain": [
       "(25000, 62)"
      ]
     },
     "execution_count": 374,
     "metadata": {},
     "output_type": "execute_result"
    }
   ],
   "source": [
    "# using bin_lang instead of language\n",
    "\n",
    "# binarize bin_lang on train and dev data\n",
    "lang_dum = pd.get_dummies(train.bin_lang)\n",
    "t_lang = lang_dum[25000:]\n",
    "d_lang = lang_dum[:25000]\n",
    "\n",
    "# binarize bin_age on train and dev data\n",
    "age_dum = pd.get_dummies(train.bin_age)\n",
    "t_age = age_dum[25000:]\n",
    "d_age = age_dum[:25000]\n",
    "\n",
    "# binarize browser on train and dev data\n",
    "browse_dum = pd.get_dummies(train.first_browser)\n",
    "t_browse = browse_dum[25000:]\n",
    "d_browse = browse_dum[:25000]\n",
    "\n",
    "t = np.concatenate((t_lang, t_age, t_browse), axis = 1)\n",
    "d = np.concatenate((d_lang, d_age, d_browse), axis = 1)\n",
    "d.shape"
   ]
  },
  {
   "cell_type": "code",
   "execution_count": 371,
   "metadata": {
    "collapsed": false
   },
   "outputs": [
    {
     "name": "stdout",
     "output_type": "stream",
     "text": [
      "Logistic Regression with l1\n",
      "C: 0.500000, score: 0.590680\n",
      "C: 1.000000, score: 0.590680\n",
      "\n",
      "Logistic Regression with l2\n",
      "C: 0.500000, score: 0.590600\n",
      "C: 1.000000, score: 0.590640\n",
      "[[12338  4844  2108]\n",
      " [ 2313  2428   969]\n",
      " [    0     0     0]]\n"
     ]
    }
   ],
   "source": [
    "# Execute logistic regression on binarized bin_lang, bin_age, first_browser\n",
    "\n",
    "print(\"Logistic Regression with l1\")\n",
    "Cs = {'C':list(np.linspace(0, 1, 3))[1:]}\n",
    "\n",
    "for c in Cs.get('C'):\n",
    "    lm = LogisticRegression(C = c, penalty = \"l1\")\n",
    "    lm.fit(t, t_lab)\n",
    "    score = lm.score(d, d_lab)\n",
    "    print(\"C: %f, score: %f\" %(c, score))\n",
    "\n",
    "print(\"\\nLogistic Regression with l2\")\n",
    "Cs = {'C':list(np.linspace(0, 1, 3))[1:]}\n",
    "\n",
    "for c in Cs.get('C'):\n",
    "    lm = LogisticRegression(C = c, penalty = \"l2\")\n",
    "    lm.fit(t, t_lab)\n",
    "    score = lm.score(d, d_lab)\n",
    "    print(\"C: %f, score: %f\" %(c, score))\n",
    "    \n",
    "pred = lm.predict(d)\n",
    "conf = confusion_matrix(pred, d_lab)\n",
    "print(conf)"
   ]
  },
  {
   "cell_type": "markdown",
   "metadata": {},
   "source": [
    "### Binarized bin_lang, bin_age, first_browser, gender"
   ]
  },
  {
   "cell_type": "code",
   "execution_count": 375,
   "metadata": {
    "collapsed": false
   },
   "outputs": [
    {
     "data": {
      "text/plain": [
       "(25000, 66)"
      ]
     },
     "execution_count": 375,
     "metadata": {},
     "output_type": "execute_result"
    }
   ],
   "source": [
    "# using bin_lang instead of language\n",
    "\n",
    "# binarize bin_lang on train and dev data\n",
    "lang_dum = pd.get_dummies(train.bin_lang)\n",
    "t_lang = lang_dum[25000:]\n",
    "d_lang = lang_dum[:25000]\n",
    "\n",
    "# binarize bin_age on train and dev data\n",
    "age_dum = pd.get_dummies(train.bin_age)\n",
    "t_age = age_dum[25000:]\n",
    "d_age = age_dum[:25000]\n",
    "\n",
    "# binarize browser on train and dev data\n",
    "browse_dum = pd.get_dummies(train.first_browser)\n",
    "t_browse = browse_dum[25000:]\n",
    "d_browse = browse_dum[:25000]\n",
    "\n",
    "# binarize gender on train and dev data\n",
    "gender_dum = pd.get_dummies(train.gender)\n",
    "t_gender = gender_dum[25000:]\n",
    "d_gender = gender_dum[:25000]\n",
    "\n",
    "t = np.concatenate((t_lang, t_age, t_browse, t_gender), axis = 1)\n",
    "d = np.concatenate((d_lang, d_age, d_browse, d_gender), axis = 1)\n",
    "d.shape"
   ]
  },
  {
   "cell_type": "code",
   "execution_count": 376,
   "metadata": {
    "collapsed": false
   },
   "outputs": [
    {
     "name": "stdout",
     "output_type": "stream",
     "text": [
      "Logistic Regression with l1\n",
      "C: 0.500000, score: 0.596760\n",
      "C: 1.000000, score: 0.596680\n",
      "\n",
      "Logistic Regression with l2\n",
      "C: 0.500000, score: 0.596640\n",
      "C: 1.000000, score: 0.596640\n",
      "[[12832  5188  2245]\n",
      " [ 1819  2084   832]\n",
      " [    0     0     0]]\n"
     ]
    }
   ],
   "source": [
    "# Execute logistic regression on binarized bin_lang, bin_age, first_browser\n",
    "\n",
    "print(\"Logistic Regression with l1\")\n",
    "Cs = {'C':list(np.linspace(0, 1, 3))[1:]}\n",
    "\n",
    "for c in Cs.get('C'):\n",
    "    lm = LogisticRegression(C = c, penalty = \"l1\")\n",
    "    lm.fit(t, t_lab)\n",
    "    score = lm.score(d, d_lab)\n",
    "    print(\"C: %f, score: %f\" %(c, score))\n",
    "\n",
    "print(\"\\nLogistic Regression with l2\")\n",
    "Cs = {'C':list(np.linspace(0, 1, 3))[1:]}\n",
    "\n",
    "for c in Cs.get('C'):\n",
    "    lm = LogisticRegression(C = c, penalty = \"l2\")\n",
    "    lm.fit(t, t_lab)\n",
    "    score = lm.score(d, d_lab)\n",
    "    print(\"C: %f, score: %f\" %(c, score))\n",
    "    \n",
    "pred = lm.predict(d)\n",
    "conf = confusion_matrix(pred, d_lab)\n",
    "print(conf)"
   ]
  },
  {
   "cell_type": "markdown",
   "metadata": {},
   "source": [
    "### Binarized bin_lang, bin_age, first_browser, gender, affiliate provider¶"
   ]
  },
  {
   "cell_type": "code",
   "execution_count": 377,
   "metadata": {
    "collapsed": false
   },
   "outputs": [
    {
     "data": {
      "text/plain": [
       "(25000, 84)"
      ]
     },
     "execution_count": 377,
     "metadata": {},
     "output_type": "execute_result"
    }
   ],
   "source": [
    "# using bin_lang instead of language\n",
    "\n",
    "# binarize bin_lang on train and dev data\n",
    "lang_dum = pd.get_dummies(train.bin_lang)\n",
    "t_lang = lang_dum[25000:]\n",
    "d_lang = lang_dum[:25000]\n",
    "\n",
    "# binarize bin_age on train and dev data\n",
    "age_dum = pd.get_dummies(train.bin_age)\n",
    "t_age = age_dum[25000:]\n",
    "d_age = age_dum[:25000]\n",
    "\n",
    "# binarize browser on train and dev data\n",
    "browse_dum = pd.get_dummies(train.first_browser)\n",
    "t_browse = browse_dum[25000:]\n",
    "d_browse = browse_dum[:25000]\n",
    "\n",
    "# binarize gender on train and dev data\n",
    "gender_dum = pd.get_dummies(train.gender)\n",
    "t_gender = gender_dum[25000:]\n",
    "d_gender = gender_dum[:25000]\n",
    "\n",
    "# binarize affiliate provider on train and dev data\n",
    "aff_dum = pd.get_dummies(train.affiliate_provider)\n",
    "t_aff = aff_dum[25000:]\n",
    "d_aff = aff_dum[:25000]\n",
    "\n",
    "t = np.concatenate((t_lang, t_age, t_browse, t_gender, t_aff), axis = 1)\n",
    "d = np.concatenate((d_lang, d_age, d_browse, d_gender, d_aff), axis = 1)\n",
    "d.shape"
   ]
  },
  {
   "cell_type": "code",
   "execution_count": 378,
   "metadata": {
    "collapsed": false
   },
   "outputs": [
    {
     "name": "stdout",
     "output_type": "stream",
     "text": [
      "Logistic Regression with l1\n",
      "C: 0.500000, score: 0.600840\n",
      "C: 1.000000, score: 0.600800\n",
      "\n",
      "Logistic Regression with l2\n",
      "C: 0.500000, score: 0.600840\n",
      "C: 1.000000, score: 0.600840\n",
      "[[12641  4892  2164]\n",
      " [ 2010  2380   913]\n",
      " [    0     0     0]]\n"
     ]
    }
   ],
   "source": [
    "# Execute logistic regression on binarized bin_lang, bin_age, first_browser, affiliate\n",
    "\n",
    "print(\"Logistic Regression with l1\")\n",
    "Cs = {'C':list(np.linspace(0, 1, 3))[1:]}\n",
    "\n",
    "for c in Cs.get('C'):\n",
    "    lm = LogisticRegression(C = c, penalty = \"l1\")\n",
    "    lm.fit(t, t_lab)\n",
    "    score = lm.score(d, d_lab)\n",
    "    print(\"C: %f, score: %f\" %(c, score))\n",
    "\n",
    "print(\"\\nLogistic Regression with l2\")\n",
    "Cs = {'C':list(np.linspace(0, 1, 3))[1:]}\n",
    "\n",
    "for c in Cs.get('C'):\n",
    "    lm = LogisticRegression(C = c, penalty = \"l2\")\n",
    "    lm.fit(t, t_lab)\n",
    "    score = lm.score(d, d_lab)\n",
    "    print(\"C: %f, score: %f\" %(c, score))\n",
    "    \n",
    "pred = lm.predict(d)\n",
    "conf = confusion_matrix(pred, d_lab)\n",
    "print(conf)"
   ]
  },
  {
   "cell_type": "markdown",
   "metadata": {},
   "source": [
    "### Binarized bin_lang, bin_age, first_browser, gender, affiliate provider, first device"
   ]
  },
  {
   "cell_type": "code",
   "execution_count": 389,
   "metadata": {
    "collapsed": false
   },
   "outputs": [
    {
     "data": {
      "text/plain": [
       "(25000, 93)"
      ]
     },
     "execution_count": 389,
     "metadata": {},
     "output_type": "execute_result"
    }
   ],
   "source": [
    "# using bin_lang instead of language\n",
    "\n",
    "# binarize bin_lang on train and dev data\n",
    "lang_dum = pd.get_dummies(train.bin_lang)\n",
    "t_lang = lang_dum[25000:]\n",
    "d_lang = lang_dum[:25000]\n",
    "\n",
    "# binarize bin_age on train and dev data\n",
    "age_dum = pd.get_dummies(train.bin_age)\n",
    "t_age = age_dum[25000:]\n",
    "d_age = age_dum[:25000]\n",
    "\n",
    "# binarize browser on train and dev data\n",
    "browse_dum = pd.get_dummies(train.first_browser)\n",
    "t_browse = browse_dum[25000:]\n",
    "d_browse = browse_dum[:25000]\n",
    "\n",
    "# binarize gender on train and dev data\n",
    "gender_dum = pd.get_dummies(train.gender)\n",
    "t_gender = gender_dum[25000:]\n",
    "d_gender = gender_dum[:25000]\n",
    "\n",
    "# binarize affiliate provider on train and dev data\n",
    "aff_dum = pd.get_dummies(train.affiliate_provider)\n",
    "t_aff = aff_dum[25000:]\n",
    "d_aff = aff_dum[:25000]\n",
    "\n",
    "# binarize device type on train and dev data\n",
    "device_dum = pd.get_dummies(train.first_device_type)\n",
    "t_device = device_dum[25000:]\n",
    "d_device = device_dum[:25000]\n",
    "\n",
    "t = np.concatenate((t_lang, t_age, t_browse, t_gender, t_aff, t_device), axis = 1)\n",
    "d = np.concatenate((d_lang, d_age, d_browse, d_gender, d_aff, d_device), axis = 1)\n",
    "d.shape"
   ]
  },
  {
   "cell_type": "code",
   "execution_count": 391,
   "metadata": {
    "collapsed": false
   },
   "outputs": [
    {
     "name": "stdout",
     "output_type": "stream",
     "text": [
      "Logistic Regression with l1\n",
      "C: 0.500000, score: 0.602000\n",
      "C: 1.000000, score: 0.601960\n",
      "\n",
      "Logistic Regression with l2\n",
      "C: 0.500000, score: 0.602160\n",
      "C: 1.000000, score: 0.602160\n",
      "[[12728  4946  2180]\n",
      " [ 1923  2326   897]\n",
      " [    0     0     0]]\n"
     ]
    }
   ],
   "source": [
    "# Execute logistic regression on binarized bin_lang, bin_age, first_browser, affiliate, first device\n",
    "\n",
    "print(\"Logistic Regression with l1\")\n",
    "Cs = {'C':list(np.linspace(0, 1, 3))[1:]}\n",
    "\n",
    "for c in Cs.get('C'):\n",
    "    lm = LogisticRegression(C = c, penalty = \"l1\")\n",
    "    lm.fit(t, t_lab)\n",
    "    score = lm.score(d, d_lab)\n",
    "    print(\"C: %f, score: %f\" %(c, score))\n",
    "\n",
    "print(\"\\nLogistic Regression with l2\")\n",
    "Cs = {'C':list(np.linspace(0, 1, 3))[1:]}\n",
    "\n",
    "for c in Cs.get('C'):\n",
    "    lm = LogisticRegression(C = c, penalty = \"l2\")\n",
    "    lm.fit(t, t_lab)\n",
    "    score = lm.score(d, d_lab)\n",
    "    print(\"C: %f, score: %f\" %(c, score))\n",
    "    \n",
    "pred = lm.predict(d)\n",
    "conf = confusion_matrix(pred, d_lab)\n",
    "print(conf)"
   ]
  },
  {
   "cell_type": "markdown",
   "metadata": {},
   "source": [
    "### Binarized bin_lang, bin_age, first_browser, gender, affiliate provider, first device, first hour"
   ]
  },
  {
   "cell_type": "code",
   "execution_count": 394,
   "metadata": {
    "collapsed": false
   },
   "outputs": [
    {
     "data": {
      "text/plain": [
       "(25000, 117)"
      ]
     },
     "execution_count": 394,
     "metadata": {},
     "output_type": "execute_result"
    }
   ],
   "source": [
    "# using bin_lang instead of language\n",
    "\n",
    "# binarize bin_lang on train and dev data\n",
    "lang_dum = pd.get_dummies(train.bin_lang)\n",
    "t_lang = lang_dum[25000:]\n",
    "d_lang = lang_dum[:25000]\n",
    "\n",
    "# binarize bin_age on train and dev data\n",
    "age_dum = pd.get_dummies(train.bin_age)\n",
    "t_age = age_dum[25000:]\n",
    "d_age = age_dum[:25000]\n",
    "\n",
    "# binarize browser on train and dev data\n",
    "browse_dum = pd.get_dummies(train.first_browser)\n",
    "t_browse = browse_dum[25000:]\n",
    "d_browse = browse_dum[:25000]\n",
    "\n",
    "# binarize gender on train and dev data\n",
    "gender_dum = pd.get_dummies(train.gender)\n",
    "t_gender = gender_dum[25000:]\n",
    "d_gender = gender_dum[:25000]\n",
    "\n",
    "# binarize affiliate provider on train and dev data\n",
    "aff_dum = pd.get_dummies(train.affiliate_provider)\n",
    "t_aff = aff_dum[25000:]\n",
    "d_aff = aff_dum[:25000]\n",
    "\n",
    "# binarize device type on train and dev data\n",
    "device_dum = pd.get_dummies(train.first_device_type)\n",
    "t_device = device_dum[25000:]\n",
    "d_device = device_dum[:25000]\n",
    "\n",
    "# binarize hour on train and dev data\n",
    "hour_dum = pd.get_dummies(train.first_hour)\n",
    "t_hour = hour_dum[25000:]\n",
    "d_hour = hour_dum[:25000]\n",
    "\n",
    "t = np.concatenate((t_lang, t_age, t_browse, t_gender, t_aff, t_device, t_hour), axis = 1)\n",
    "d = np.concatenate((d_lang, d_age, d_browse, d_gender, d_aff, d_device, d_hour), axis = 1)\n",
    "d.shape"
   ]
  },
  {
   "cell_type": "code",
   "execution_count": 395,
   "metadata": {
    "collapsed": false
   },
   "outputs": [
    {
     "name": "stdout",
     "output_type": "stream",
     "text": [
      "Logistic Regression with l1\n",
      "C: 50.000000, score: 0.602760\n",
      "C: 100.000000, score: 0.602760\n",
      "\n",
      "Logistic Regression with l2\n",
      "C: 50.000000, score: 0.602720\n",
      "C: 100.000000, score: 0.602720\n",
      "[[12758  4960  2217]\n",
      " [ 1891  2310   860]\n",
      " [    2     2     0]]\n"
     ]
    }
   ],
   "source": [
    "# Execute logistic regression on binarized bin_lang, bin_age, first_browser, affiliate, first device, first hour\n",
    "\n",
    "print(\"Logistic Regression with l1\")\n",
    "Cs = {'C':list(np.linspace(0, 100, 3))[1:]}\n",
    "\n",
    "for c in Cs.get('C'):\n",
    "    lm = LogisticRegression(C = c, penalty = \"l1\")\n",
    "    lm.fit(t, t_lab)\n",
    "    score = lm.score(d, d_lab)\n",
    "    print(\"C: %f, score: %f\" %(c, score))\n",
    "\n",
    "print(\"\\nLogistic Regression with l2\")\n",
    "Cs = {'C':list(np.linspace(0, 100, 3))[1:]}\n",
    "\n",
    "for c in Cs.get('C'):\n",
    "    lm = LogisticRegression(C = c, penalty = \"l2\")\n",
    "    lm.fit(t, t_lab)\n",
    "    score = lm.score(d, d_lab)\n",
    "    print(\"C: %f, score: %f\" %(c, score))\n",
    "    \n",
    "pred = lm.predict(d)\n",
    "conf = confusion_matrix(pred, d_lab)\n",
    "print(conf)"
   ]
  },
  {
   "cell_type": "markdown",
   "metadata": {},
   "source": [
    "### Binarized bin_lang, bin_age, first_browser, gender, affiliate provider, first device, first hour, season"
   ]
  },
  {
   "cell_type": "code",
   "execution_count": 400,
   "metadata": {
    "collapsed": false
   },
   "outputs": [
    {
     "data": {
      "text/plain": [
       "(25000, 121)"
      ]
     },
     "execution_count": 400,
     "metadata": {},
     "output_type": "execute_result"
    }
   ],
   "source": [
    "# using bin_lang instead of language\n",
    "\n",
    "# binarize bin_lang on train and dev data\n",
    "lang_dum = pd.get_dummies(train.bin_lang)\n",
    "t_lang = lang_dum[25000:]\n",
    "d_lang = lang_dum[:25000]\n",
    "\n",
    "# binarize bin_age on train and dev data\n",
    "age_dum = pd.get_dummies(train.bin_age)\n",
    "t_age = age_dum[25000:]\n",
    "d_age = age_dum[:25000]\n",
    "\n",
    "# binarize browser on train and dev data\n",
    "browse_dum = pd.get_dummies(train.first_browser)\n",
    "t_browse = browse_dum[25000:]\n",
    "d_browse = browse_dum[:25000]\n",
    "\n",
    "# binarize gender on train and dev data\n",
    "gender_dum = pd.get_dummies(train.gender)\n",
    "t_gender = gender_dum[25000:]\n",
    "d_gender = gender_dum[:25000]\n",
    "\n",
    "# binarize affiliate provider on train and dev data\n",
    "aff_dum = pd.get_dummies(train.affiliate_provider)\n",
    "t_aff = aff_dum[25000:]\n",
    "d_aff = aff_dum[:25000]\n",
    "\n",
    "# binarize device type on train and dev data\n",
    "device_dum = pd.get_dummies(train.first_device_type)\n",
    "t_device = device_dum[25000:]\n",
    "d_device = device_dum[:25000]\n",
    "\n",
    "# binarize hour on train and dev data\n",
    "hour_dum = pd.get_dummies(train.first_hour)\n",
    "t_hour = hour_dum[25000:]\n",
    "d_hour = hour_dum[:25000]\n",
    "\n",
    "# binarize season on train and dev data\n",
    "season_dum = pd.get_dummies(train.season_created)\n",
    "t_season = season_dum[25000:]\n",
    "d_season = season_dum[:25000]\n",
    "\n",
    "t = np.concatenate((t_lang, t_age, t_browse, t_gender, t_aff, t_device, t_hour, t_season), axis = 1)\n",
    "d = np.concatenate((d_lang, d_age, d_browse, d_gender, d_aff, d_device, d_hour, d_season), axis = 1)\n",
    "d.shape"
   ]
  },
  {
   "cell_type": "code",
   "execution_count": 401,
   "metadata": {
    "collapsed": false
   },
   "outputs": [
    {
     "name": "stdout",
     "output_type": "stream",
     "text": [
      "Logistic Regression with l1\n",
      "C: 50.000000, score: 0.601720\n",
      "C: 100.000000, score: 0.601800\n",
      "\n",
      "Logistic Regression with l2\n",
      "C: 50.000000, score: 0.601800\n",
      "C: 100.000000, score: 0.601720\n",
      "[[12734  4961  2217]\n",
      " [ 1915  2309   860]\n",
      " [    2     2     0]]\n"
     ]
    }
   ],
   "source": [
    "# Execute logistic regression on binarized bin_lang, bin_age, first_browser, affiliate, first device\n",
    "\n",
    "print(\"Logistic Regression with l1\")\n",
    "Cs = {'C':list(np.linspace(0, 100, 3))[1:]}\n",
    "\n",
    "for c in Cs.get('C'):\n",
    "    lm = LogisticRegression(C = c, penalty = \"l1\")\n",
    "    lm.fit(t, t_lab)\n",
    "    score = lm.score(d, d_lab)\n",
    "    print(\"C: %f, score: %f\" %(c, score))\n",
    "\n",
    "print(\"\\nLogistic Regression with l2\")\n",
    "Cs = {'C':list(np.linspace(0, 100, 3))[1:]}\n",
    "\n",
    "for c in Cs.get('C'):\n",
    "    lm = LogisticRegression(C = c, penalty = \"l2\")\n",
    "    lm.fit(t, t_lab)\n",
    "    score = lm.score(d, d_lab)\n",
    "    print(\"C: %f, score: %f\" %(c, score))\n",
    "    \n",
    "pred = lm.predict(d)\n",
    "conf = confusion_matrix(pred, d_lab)\n",
    "print(conf)"
   ]
  },
  {
   "cell_type": "markdown",
   "metadata": {},
   "source": [
    "## Language bin"
   ]
  },
  {
   "cell_type": "code",
   "execution_count": 79,
   "metadata": {
    "collapsed": false
   },
   "outputs": [
    {
     "name": "stdout",
     "output_type": "stream",
     "text": [
      "Logistic Regression with l1\n",
      "C: 0.100000, score: 0.586040\n",
      "C: 0.200000, score: 0.586040\n",
      "C: 0.300000, score: 0.586040\n",
      "C: 0.400000, score: 0.586040\n",
      "C: 0.500000, score: 0.586040\n",
      "C: 0.600000, score: 0.586040\n",
      "C: 0.700000, score: 0.586040\n",
      "C: 0.800000, score: 0.586040\n",
      "C: 0.900000, score: 0.586040\n",
      "C: 1.000000, score: 0.586040\n",
      "\n",
      "Logistic Regression with l2\n",
      "C: 0.100000, score: 0.586040\n",
      "C: 0.200000, score: 0.586040\n",
      "C: 0.300000, score: 0.586040\n",
      "C: 0.400000, score: 0.586040\n",
      "C: 0.500000, score: 0.586040\n",
      "C: 0.600000, score: 0.586040\n",
      "C: 0.700000, score: 0.586040\n",
      "C: 0.800000, score: 0.586040\n",
      "C: 0.900000, score: 0.586040\n",
      "C: 1.000000, score: 0.586040\n"
     ]
    }
   ],
   "source": [
    "# Convert language bin to numeric\n",
    "code_binlang = le.fit_transform(train_data.bin_lang)\n",
    "dev_binlang = le.fit_transform(dev_data.bin_lang)\n",
    "\n",
    "print(\"Logistic Regression with l1\")\n",
    "Cs = {'C':list(np.linspace(0, 1, 11))[1:]}\n",
    "\n",
    "for c in Cs.get('C'):\n",
    "    lm = LogisticRegression(C = c, penalty = \"l1\")\n",
    "    lm.fit(code_binlang.reshape((188451,1)), train_lab)\n",
    "    score = lm.score(dev_binlang.reshape((25000,1)), dev_lab)\n",
    "    print(\"C: %f, score: %f\" %(c, score))\n",
    "\n",
    "print(\"\\nLogistic Regression with l2\")\n",
    "Cs = {'C':list(np.linspace(0, 1, 11))[1:]}\n",
    "\n",
    "for c in Cs.get('C'):\n",
    "    lm = LogisticRegression(C = c, penalty = \"l2\")\n",
    "    lm.fit(code_binlang.reshape((188451,1)), train_lab)\n",
    "    score = lm.score(dev_binlang.reshape((25000,1)), dev_lab)\n",
    "    print(\"C: %f, score: %f\" %(c, score))"
   ]
  },
  {
   "cell_type": "markdown",
   "metadata": {},
   "source": [
    "### Language and age (no binning)"
   ]
  },
  {
   "cell_type": "code",
   "execution_count": 94,
   "metadata": {
    "collapsed": false
   },
   "outputs": [
    {
     "name": "stderr",
     "output_type": "stream",
     "text": [
      "c:\\Users\\cendy\\Anaconda3\\lib\\site-packages\\ipykernel\\__main__.py:3: FutureWarning: reshape is deprecated and will raise in a subsequent release. Please use .values.reshape(...) instead\n",
      "  app.launch_new_instance()\n",
      "c:\\Users\\cendy\\Anaconda3\\lib\\site-packages\\ipykernel\\__main__.py:6: FutureWarning: reshape is deprecated and will raise in a subsequent release. Please use .values.reshape(...) instead\n"
     ]
    },
    {
     "name": "stdout",
     "output_type": "stream",
     "text": [
      "Logistic Regression with l1\n",
      "C: 0.500000, score: 0.586040\n",
      "C: 1.000000, score: 0.586040\n",
      "\n",
      "Logistic Regression with l2\n",
      "C: 0.500000, score: 0.586040\n",
      "C: 1.000000, score: 0.586040\n",
      "[[    0     0     0     0     0     0     0     0     0     0     0     0]\n",
      " [    0     0     0     0     0     0     0     0     0     0     0     0]\n",
      " [    0     0     0     0     0     0     0     0     0     0     0     0]\n",
      " [    0     0     0     0     0     0     0     0     0     0     0     0]\n",
      " [    0     0     0     0     0     0     0     0     0     0     0     0]\n",
      " [    0     0     0     0     0     0     0     0     0     0     0     0]\n",
      " [    0     0     0     0     0     0     0     0     0     0     0     0]\n",
      " [   65   162   106   267   551   279   309 14651    89    26  7272  1223]\n",
      " [    0     0     0     0     0     0     0     0     0     0     0     0]\n",
      " [    0     0     0     0     0     0     0     0     0     0     0     0]\n",
      " [    0     0     0     0     0     0     0     0     0     0     0     0]\n",
      " [    0     0     0     0     0     0     0     0     0     0     0     0]]\n"
     ]
    }
   ],
   "source": [
    "# Create language and age array for train and dev sets\n",
    "lang = code_lang.reshape((188451,1))\n",
    "age = train_data.age.reshape((188451,1))\n",
    "\n",
    "dev_lang = dev_lang.reshape((25000,1))\n",
    "dev_age = dev_data.age.reshape((25000,1))\n",
    "\n",
    "# fill NaNs in age with mean age\n",
    "mean_age = np.nanmean(age)\n",
    "age = np.where(np.isnan(age), mean_age, age)\n",
    "dev_age = np.where(np.isnan(dev_age), mean_age, dev_age)\n",
    "\n",
    "tr = np.concatenate((lang, age), axis=1)\n",
    "dev = np.concatenate((dev_lang, dev_age), axis=1)\n",
    "\n",
    "print(\"Logistic Regression with l1\")\n",
    "Cs = {'C':list(np.linspace(0, 1, 3))[1:]}\n",
    "\n",
    "for c in Cs.get('C'):\n",
    "    lm = LogisticRegression(C = c, penalty = \"l1\")\n",
    "    lm.fit(tr, train_lab)\n",
    "    score = lm.score(dev, dev_lab)\n",
    "    print(\"C: %f, score: %f\" %(c, score))\n",
    "\n",
    "print(\"\\nLogistic Regression with l2\")\n",
    "Cs = {'C':list(np.linspace(0, 1, 3))[1:]}\n",
    "\n",
    "for c in Cs.get('C'):\n",
    "    lm = LogisticRegression(C = c, penalty = \"l2\")\n",
    "    lm.fit(tr, train_lab)\n",
    "    score = lm.score(dev, dev_lab)\n",
    "    print(\"C: %f, score: %f\" %(c, score))\n",
    "\n",
    "pred = lm.predict(dev)\n",
    "conf = confusion_matrix(pred, dev_lab)\n",
    "print(conf)"
   ]
  },
  {
   "cell_type": "markdown",
   "metadata": {},
   "source": [
    "### Language bin and age bin"
   ]
  },
  {
   "cell_type": "code",
   "execution_count": 93,
   "metadata": {
    "collapsed": false
   },
   "outputs": [
    {
     "name": "stdout",
     "output_type": "stream",
     "text": [
      "Logistic Regression with l1\n",
      "C: 0.500000, score: 0.578920\n",
      "C: 1.000000, score: 0.578920\n",
      "\n",
      "Logistic Regression with l2\n",
      "C: 0.500000, score: 0.578920\n",
      "C: 1.000000, score: 0.578920\n",
      "[[    0     0     0     0     0     0     0     0     0     0     0     0]\n",
      " [    0     0     0     0     0     0     0     0     0     0     0     0]\n",
      " [    0     0     0     0     0     0     0     0     0     0     0     0]\n",
      " [    0     0     0     0     0     0     0     0     0     0     0     0]\n",
      " [    0     0     0     0     0     0     0     0     0     0     0     0]\n",
      " [    0     0     0     0     0     0     0     0     0     0     0     0]\n",
      " [    0     0     0     0     0     0     0     0     0     0     0     0]\n",
      " [   41    96    62   169   344   188   224 11579    53    17  4378   766]\n",
      " [    0     0     0     0     0     0     0     0     0     0     0     0]\n",
      " [    0     0     0     0     0     0     0     0     0     0     0     0]\n",
      " [   24    66    44    98   207    91    85  3072    36     9  2894   457]\n",
      " [    0     0     0     0     0     0     0     0     0     0     0     0]]\n"
     ]
    }
   ],
   "source": [
    "# Create language and age array for train and dev sets\n",
    "code_binlang = le.fit_transform(train_data.bin_lang)\n",
    "dev_binlang = le.fit_transform(dev_data.bin_lang)\n",
    "\n",
    "# Convert bin_age to numeric\n",
    "tr_bin_age = le.fit_transform(train_data.bin_age)\n",
    "dev_bin_age = le.fit_transform(dev_data.bin_age)\n",
    "\n",
    "lang = code_binlang.reshape((188451,1))\n",
    "age = tr_bin_age.reshape((188451,1))\n",
    "\n",
    "dev_lang = dev_binlang.reshape((25000,1))\n",
    "dev_age = dev_bin_age.reshape((25000,1))\n",
    "\n",
    "tr = np.concatenate((lang, age), axis=1)\n",
    "dev = np.concatenate((dev_lang, dev_age), axis=1)\n",
    "\n",
    "print(\"Logistic Regression with l1\")\n",
    "Cs = {'C':list(np.linspace(0, 1, 3))[1:]}\n",
    "\n",
    "for c in Cs.get('C'):\n",
    "    lm = LogisticRegression(C = c, penalty = \"l1\", multi_class='ovr')\n",
    "    lm.fit(tr, train_lab)\n",
    "    score = lm.score(dev, dev_lab)\n",
    "    print(\"C: %f, score: %f\" %(c, score))\n",
    "\n",
    "print(\"\\nLogistic Regression with l2\")\n",
    "Cs = {'C':list(np.linspace(0, 1, 3))[1:]}\n",
    "\n",
    "for c in Cs.get('C'):\n",
    "    lm = LogisticRegression(C = c, penalty = \"l2\", multi_class='ovr')\n",
    "    lm.fit(tr, train_lab)\n",
    "    score = lm.score(dev, dev_lab)\n",
    "    print(\"C: %f, score: %f\" %(c, score))\n",
    "    \n",
    "pred = lm.predict(dev)\n",
    "conf = confusion_matrix(pred, dev_lab)\n",
    "print(conf)"
   ]
  },
  {
   "cell_type": "markdown",
   "metadata": {},
   "source": [
    "### Language and bin_age"
   ]
  },
  {
   "cell_type": "code",
   "execution_count": 89,
   "metadata": {
    "collapsed": false
   },
   "outputs": [
    {
     "name": "stdout",
     "output_type": "stream",
     "text": [
      "Logistic Regression with l1\n",
      "C: 0.100000, score: 0.578240\n",
      "C: 0.200000, score: 0.578240\n",
      "C: 0.300000, score: 0.578240\n",
      "C: 0.400000, score: 0.578240\n",
      "C: 0.500000, score: 0.578240\n",
      "C: 0.600000, score: 0.578240\n",
      "C: 0.700000, score: 0.578240\n",
      "C: 0.800000, score: 0.578240\n",
      "C: 0.900000, score: 0.578240\n",
      "C: 1.000000, score: 0.578240\n",
      "\n",
      "Logistic Regression with l2\n",
      "C: 0.100000, score: 0.578240\n",
      "C: 0.200000, score: 0.578240\n",
      "C: 0.300000, score: 0.578240\n",
      "C: 0.400000, score: 0.578240\n",
      "C: 0.500000, score: 0.578240\n",
      "C: 0.600000, score: 0.578240\n",
      "C: 0.700000, score: 0.578200\n",
      "C: 0.800000, score: 0.578200\n",
      "C: 0.900000, score: 0.578200\n",
      "C: 1.000000, score: 0.578200\n"
     ]
    }
   ],
   "source": [
    "# Create language and age array for train and dev sets\n",
    "code_lang = le.fit_transform(train_data.language)\n",
    "dev_lang = le.fit_transform(dev_data.language)\n",
    "\n",
    "# Convert bin_age to numeric\n",
    "tr_bin_age = le.fit_transform(train_data.bin_age)\n",
    "dev_bin_age = le.fit_transform(dev_data.bin_age)\n",
    "\n",
    "lang = code_lang.reshape((188451,1))\n",
    "age = tr_bin_age.reshape((188451,1))\n",
    "\n",
    "dev_lang = dev_lang.reshape((25000,1))\n",
    "dev_age = dev_bin_age.reshape((25000,1))\n",
    "\n",
    "tr = np.concatenate((lang, age), axis=1)\n",
    "dev = np.concatenate((dev_lang, dev_age), axis=1)\n",
    "\n",
    "print(\"Logistic Regression with l1\")\n",
    "Cs = {'C':list(np.linspace(0, 1, 11))[1:]}\n",
    "\n",
    "for c in Cs.get('C'):\n",
    "    lm = LogisticRegression(C = c, penalty = \"l1\", multi_class='ovr')\n",
    "    lm.fit(tr, train_lab)\n",
    "    score = lm.score(dev, dev_lab)\n",
    "    print(\"C: %f, score: %f\" %(c, score))\n",
    "\n",
    "print(\"\\nLogistic Regression with l2\")\n",
    "Cs = {'C':list(np.linspace(0, 1, 11))[1:]}\n",
    "\n",
    "for c in Cs.get('C'):\n",
    "    lm = LogisticRegression(C = c, penalty = \"l2\", multi_class='ovr')\n",
    "    lm.fit(tr, train_lab)\n",
    "    score = lm.score(dev, dev_lab)\n",
    "    print(\"C: %f, score: %f\" %(c, score))"
   ]
  },
  {
   "cell_type": "markdown",
   "metadata": {},
   "source": [
    "### Language, age, browser"
   ]
  },
  {
   "cell_type": "code",
   "execution_count": 102,
   "metadata": {
    "collapsed": false,
    "scrolled": true
   },
   "outputs": [
    {
     "name": "stderr",
     "output_type": "stream",
     "text": [
      "c:\\Users\\cendy\\Anaconda3\\lib\\site-packages\\ipykernel\\__main__.py:11: FutureWarning: reshape is deprecated and will raise in a subsequent release. Please use .values.reshape(...) instead\n",
      "c:\\Users\\cendy\\Anaconda3\\lib\\site-packages\\ipykernel\\__main__.py:15: FutureWarning: reshape is deprecated and will raise in a subsequent release. Please use .values.reshape(...) instead\n"
     ]
    },
    {
     "name": "stdout",
     "output_type": "stream",
     "text": [
      "Logistic Regression with l1\n",
      "C: 0.500000, score: 0.586040\n",
      "C: 1.000000, score: 0.586040\n",
      "\n",
      "Logistic Regression with l2\n",
      "C: 0.500000, score: 0.586040\n",
      "C: 1.000000, score: 0.586040\n",
      "[[    0     0     0     0     0     0     0     0     0     0     0     0]\n",
      " [    0     0     0     0     0     0     0     0     0     0     0     0]\n",
      " [    0     0     0     0     0     0     0     0     0     0     0     0]\n",
      " [    0     0     0     0     0     0     0     0     0     0     0     0]\n",
      " [    0     0     0     0     0     0     0     0     0     0     0     0]\n",
      " [    0     0     0     0     0     0     0     0     0     0     0     0]\n",
      " [    0     0     0     0     0     0     0     0     0     0     0     0]\n",
      " [   65   162   106   267   551   279   309 14651    89    26  7272  1223]\n",
      " [    0     0     0     0     0     0     0     0     0     0     0     0]\n",
      " [    0     0     0     0     0     0     0     0     0     0     0     0]\n",
      " [    0     0     0     0     0     0     0     0     0     0     0     0]\n",
      " [    0     0     0     0     0     0     0     0     0     0     0     0]]\n"
     ]
    }
   ],
   "source": [
    "# encode language\n",
    "tr_lang = le.fit_transform(train_data.language)\n",
    "dev_lang = le.fit_transform(dev_data.language)\n",
    "\n",
    "# encode browser\n",
    "tr_brow = le.fit_transform(train_data.first_browser)\n",
    "dev_brow = le.fit_transform(dev_data.first_browser)\n",
    "\n",
    "# set up train and dev sets\n",
    "tr_lang = tr_lang.reshape((188451,1))\n",
    "tr_age = train_data.age.reshape((188451,1))\n",
    "tr_brow = tr_brow.reshape((188451,1))\n",
    "\n",
    "dev_lang = dev_lang.reshape((25000,1))\n",
    "dev_age = dev_data.age.reshape((25000,1))\n",
    "dev_brow = dev_brow.reshape((25000,1))\n",
    "\n",
    "# fill NaNs in age with mean age\n",
    "mean_age = np.nanmean(age)\n",
    "tr_age = np.where(np.isnan(tr_age), mean_age, tr_age)\n",
    "dev_age = np.where(np.isnan(dev_age), mean_age, dev_age)\n",
    "\n",
    "# tr_brow = np.where(np.isnan(tr_brow), \"none\", tr_brow)\n",
    "# dev_brow = np.where(np.isnan(dev_brow), \"none\", dev_brow)\n",
    "\n",
    "tr = np.concatenate((tr_lang, tr_age, tr_brow), axis=1)\n",
    "dev = np.concatenate((dev_lang, dev_age, dev_brow), axis=1)\n",
    "\n",
    "print(\"Logistic Regression with l1\")\n",
    "Cs = {'C':list(np.linspace(0, 1, 3))[1:]}\n",
    "\n",
    "for c in Cs.get('C'):\n",
    "    lm = LogisticRegression(C = c, penalty = \"l1\", multi_class='ovr')\n",
    "    lm.fit(tr, train_lab)\n",
    "    score = lm.score(dev, dev_lab)\n",
    "    print(\"C: %f, score: %f\" %(c, score))\n",
    "\n",
    "print(\"\\nLogistic Regression with l2\")\n",
    "Cs = {'C':list(np.linspace(0, 1, 3))[1:]}\n",
    "\n",
    "for c in Cs.get('C'):\n",
    "    lm = LogisticRegression(C = c, penalty = \"l2\", multi_class='ovr')\n",
    "    lm.fit(tr, train_lab)\n",
    "    score = lm.score(dev, dev_lab)\n",
    "    print(\"C: %f, score: %f\" %(c, score))\n",
    "    \n",
    "pred = lm.predict(dev)\n",
    "conf = confusion_matrix(pred, dev_lab)\n",
    "print(conf)\n"
   ]
  },
  {
   "cell_type": "markdown",
   "metadata": {},
   "source": [
    "### Language, age, browser, first hour"
   ]
  },
  {
   "cell_type": "code",
   "execution_count": 103,
   "metadata": {
    "collapsed": false
   },
   "outputs": [
    {
     "name": "stderr",
     "output_type": "stream",
     "text": [
      "c:\\Users\\cendy\\Anaconda3\\lib\\site-packages\\ipykernel\\__main__.py:11: FutureWarning: reshape is deprecated and will raise in a subsequent release. Please use .values.reshape(...) instead\n",
      "c:\\Users\\cendy\\Anaconda3\\lib\\site-packages\\ipykernel\\__main__.py:13: FutureWarning: reshape is deprecated and will raise in a subsequent release. Please use .values.reshape(...) instead\n",
      "c:\\Users\\cendy\\Anaconda3\\lib\\site-packages\\ipykernel\\__main__.py:16: FutureWarning: reshape is deprecated and will raise in a subsequent release. Please use .values.reshape(...) instead\n",
      "c:\\Users\\cendy\\Anaconda3\\lib\\site-packages\\ipykernel\\__main__.py:18: FutureWarning: reshape is deprecated and will raise in a subsequent release. Please use .values.reshape(...) instead\n"
     ]
    },
    {
     "name": "stdout",
     "output_type": "stream",
     "text": [
      "Logistic Regression with l1\n",
      "C: 0.500000, score: 0.586040\n",
      "C: 1.000000, score: 0.586040\n",
      "\n",
      "Logistic Regression with l2\n",
      "C: 0.500000, score: 0.586040\n",
      "C: 1.000000, score: 0.586040\n",
      "[[    0     0     0     0     0     0     0     0     0     0     0     0]\n",
      " [    0     0     0     0     0     0     0     0     0     0     0     0]\n",
      " [    0     0     0     0     0     0     0     0     0     0     0     0]\n",
      " [    0     0     0     0     0     0     0     0     0     0     0     0]\n",
      " [    0     0     0     0     0     0     0     0     0     0     0     0]\n",
      " [    0     0     0     0     0     0     0     0     0     0     0     0]\n",
      " [    0     0     0     0     0     0     0     0     0     0     0     0]\n",
      " [   65   162   106   267   551   279   309 14651    89    26  7272  1223]\n",
      " [    0     0     0     0     0     0     0     0     0     0     0     0]\n",
      " [    0     0     0     0     0     0     0     0     0     0     0     0]\n",
      " [    0     0     0     0     0     0     0     0     0     0     0     0]\n",
      " [    0     0     0     0     0     0     0     0     0     0     0     0]]\n"
     ]
    }
   ],
   "source": [
    "# encode language\n",
    "tr_lang = le.fit_transform(train_data.language)\n",
    "dev_lang = le.fit_transform(dev_data.language)\n",
    "\n",
    "# encode browser\n",
    "tr_brow = le.fit_transform(train_data.first_browser)\n",
    "dev_brow = le.fit_transform(dev_data.first_browser)\n",
    "\n",
    "# set up train and dev sets\n",
    "tr_lang = tr_lang.reshape((188451,1))\n",
    "tr_age = train_data.age.reshape((188451,1))\n",
    "tr_brow = tr_brow.reshape((188451,1))\n",
    "tr_hour = train_data.first_hour.reshape((188451,1))\n",
    "\n",
    "dev_lang = dev_lang.reshape((25000,1))\n",
    "dev_age = dev_data.age.reshape((25000,1))\n",
    "dev_brow = dev_brow.reshape((25000,1))\n",
    "dev_hour = dev_data.first_hour.reshape((25000,1))\n",
    "\n",
    "# fill NaNs in age with mean age\n",
    "mean_age = np.nanmean(age)\n",
    "tr_age = np.where(np.isnan(tr_age), mean_age, tr_age)\n",
    "dev_age = np.where(np.isnan(dev_age), mean_age, dev_age)\n",
    "\n",
    "# NaNs in hour with mean hour\n",
    "mean_hour = np.nanmean(tr_hour)\n",
    "tr_hour = np.where(np.isnan(tr_hour), mean_hour, tr_hour)\n",
    "dev_hour = np.where(np.isnan(dev_hour), mean_hour, dev_hour)\n",
    "\n",
    "\n",
    "tr = np.concatenate((tr_lang, tr_age, tr_brow, tr_hour), axis=1)\n",
    "dev = np.concatenate((dev_lang, dev_age, dev_brow, dev_hour), axis=1)\n",
    "\n",
    "print(\"Logistic Regression with l1\")\n",
    "Cs = {'C':list(np.linspace(0, 1, 3))[1:]}\n",
    "\n",
    "for c in Cs.get('C'):\n",
    "    lm = LogisticRegression(C = c, penalty = \"l1\", multi_class='ovr')\n",
    "    lm.fit(tr, train_lab)\n",
    "    score = lm.score(dev, dev_lab)\n",
    "    print(\"C: %f, score: %f\" %(c, score))\n",
    "\n",
    "print(\"\\nLogistic Regression with l2\")\n",
    "Cs = {'C':list(np.linspace(0, 1, 3))[1:]}\n",
    "\n",
    "for c in Cs.get('C'):\n",
    "    lm = LogisticRegression(C = c, penalty = \"l2\", multi_class='ovr')\n",
    "    lm.fit(tr, train_lab)\n",
    "    score = lm.score(dev, dev_lab)\n",
    "    print(\"C: %f, score: %f\" %(c, score))\n",
    "    \n",
    "pred = lm.predict(dev)\n",
    "conf = confusion_matrix(pred, dev_lab)\n",
    "print(conf)\n"
   ]
  },
  {
   "cell_type": "markdown",
   "metadata": {},
   "source": [
    "### Language bin, age bin, browser, first hour"
   ]
  },
  {
   "cell_type": "code",
   "execution_count": 104,
   "metadata": {
    "collapsed": false
   },
   "outputs": [
    {
     "name": "stderr",
     "output_type": "stream",
     "text": [
      "c:\\Users\\cendy\\Anaconda3\\lib\\site-packages\\ipykernel\\__main__.py:16: FutureWarning: reshape is deprecated and will raise in a subsequent release. Please use .values.reshape(...) instead\n",
      "c:\\Users\\cendy\\Anaconda3\\lib\\site-packages\\ipykernel\\__main__.py:21: FutureWarning: reshape is deprecated and will raise in a subsequent release. Please use .values.reshape(...) instead\n"
     ]
    },
    {
     "name": "stdout",
     "output_type": "stream",
     "text": [
      "Logistic Regression with l1\n",
      "C: 0.500000, score: 0.581600\n",
      "C: 1.000000, score: 0.581600\n",
      "\n",
      "Logistic Regression with l2\n",
      "C: 0.500000, score: 0.581240\n",
      "C: 1.000000, score: 0.581240\n",
      "[[    0     0     0     0     0     0     0     0     0     0     0     0]\n",
      " [    0     0     0     0     0     0     0     0     0     0     0     0]\n",
      " [    0     0     0     0     0     0     0     0     0     0     0     0]\n",
      " [    0     0     0     0     0     0     0     0     0     0     0     0]\n",
      " [    0     0     0     0     0     0     0     0     0     0     0     0]\n",
      " [    0     0     0     0     0     0     0     0     0     0     0     0]\n",
      " [    0     0     0     0     0     0     0     0     0     0     0     0]\n",
      " [   41    97    63   173   351   193   227 11725    54    17  4466   779]\n",
      " [    0     0     0     0     0     0     0     0     0     0     0     0]\n",
      " [    0     0     0     0     0     0     0     0     0     0     0     0]\n",
      " [   24    65    43    94   200    86    82  2926    35     9  2806   444]\n",
      " [    0     0     0     0     0     0     0     0     0     0     0     0]]\n"
     ]
    }
   ],
   "source": [
    "# Create language and age array for train and dev sets\n",
    "code_binlang = le.fit_transform(train_data.bin_lang)\n",
    "dev_binlang = le.fit_transform(dev_data.bin_lang)\n",
    "\n",
    "# Convert bin_age to numeric\n",
    "tr_bin_age = le.fit_transform(train_data.bin_age)\n",
    "dev_bin_age = le.fit_transform(dev_data.bin_age)\n",
    "\n",
    "# encode browser\n",
    "tr_brow = le.fit_transform(train_data.first_browser)\n",
    "dev_brow = le.fit_transform(dev_data.first_browser)\n",
    "\n",
    "lang = code_binlang.reshape((188451,1))\n",
    "age = tr_bin_age.reshape((188451,1))\n",
    "tr_brow = tr_brow.reshape((188451,1))\n",
    "tr_hour = train_data.first_hour.reshape((188451,1))\n",
    "\n",
    "dev_lang = dev_binlang.reshape((25000,1))\n",
    "dev_age = dev_bin_age.reshape((25000,1))\n",
    "dev_brow = dev_brow.reshape((25000,1))\n",
    "dev_hour = dev_data.first_hour.reshape((25000,1))\n",
    "\n",
    "# NaNs in hour with mean hour\n",
    "mean_hour = np.nanmean(tr_hour)\n",
    "tr_hour = np.where(np.isnan(tr_hour), mean_hour, tr_hour)\n",
    "dev_hour = np.where(np.isnan(dev_hour), mean_hour, dev_hour)\n",
    "\n",
    "tr = np.concatenate((lang, age, tr_brow, tr_hour), axis=1)\n",
    "dev = np.concatenate((dev_lang, dev_age, dev_brow, dev_hour), axis=1)\n",
    "\n",
    "print(\"Logistic Regression with l1\")\n",
    "Cs = {'C':list(np.linspace(0, 1, 3))[1:]}\n",
    "\n",
    "for c in Cs.get('C'):\n",
    "    lm = LogisticRegression(C = c, penalty = \"l1\", multi_class='ovr')\n",
    "    lm.fit(tr, train_lab)\n",
    "    score = lm.score(dev, dev_lab)\n",
    "    print(\"C: %f, score: %f\" %(c, score))\n",
    "\n",
    "print(\"\\nLogistic Regression with l2\")\n",
    "Cs = {'C':list(np.linspace(0, 1, 3))[1:]}\n",
    "\n",
    "for c in Cs.get('C'):\n",
    "    lm = LogisticRegression(C = c, penalty = \"l2\", multi_class='ovr')\n",
    "    lm.fit(tr, train_lab)\n",
    "    score = lm.score(dev, dev_lab)\n",
    "    print(\"C: %f, score: %f\" %(c, score))\n",
    "    \n",
    "pred = lm.predict(dev)\n",
    "conf = confusion_matrix(pred, dev_lab)\n",
    "print(conf)"
   ]
  },
  {
   "cell_type": "markdown",
   "metadata": {},
   "source": [
    "### Language bin, age bin, browser, first hour with users that have sessions data only"
   ]
  },
  {
   "cell_type": "code",
   "execution_count": 282,
   "metadata": {
    "collapsed": false
   },
   "outputs": [
    {
     "name": "stderr",
     "output_type": "stream",
     "text": [
      "c:\\Users\\cendy\\Anaconda3\\lib\\site-packages\\numpy\\lib\\arraysetops.py:200: FutureWarning: numpy not_equal will not check object identity in the future. The comparison did not return the same result as suggested by the identity (`is`)) and will change.\n",
      "  flag = np.concatenate(([True], aux[1:] != aux[:-1]))\n"
     ]
    },
    {
     "data": {
      "text/plain": [
       "44417    NaN\n",
       "68309    NaN\n",
       "69718    NaN\n",
       "67213    NaN\n",
       "63379    NaN\n",
       "53145    NaN\n",
       "32460    NaN\n",
       "35906    NaN\n",
       "18967    NaN\n",
       "67784    NaN\n",
       "69564    NaN\n",
       "1319     NaN\n",
       "36664    NaN\n",
       "26201    NaN\n",
       "63955    NaN\n",
       "43830    NaN\n",
       "47508    NaN\n",
       "46597    NaN\n",
       "43892    NaN\n",
       "25460    NaN\n",
       "38087    NaN\n",
       "10000    NaN\n",
       "61692    NaN\n",
       "42806    NaN\n",
       "42063    NaN\n",
       "25475    NaN\n",
       "55656    NaN\n",
       "28491    NaN\n",
       "22742    NaN\n",
       "61590    NaN\n",
       "        ... \n",
       "45191    NaN\n",
       "60131    NaN\n",
       "58426    NaN\n",
       "30591    NaN\n",
       "61917    NaN\n",
       "2213     NaN\n",
       "48297    NaN\n",
       "67390    NaN\n",
       "3995     NaN\n",
       "4351     NaN\n",
       "61815    NaN\n",
       "18703    NaN\n",
       "68055    NaN\n",
       "7769     NaN\n",
       "20568    NaN\n",
       "21160    NaN\n",
       "34196    NaN\n",
       "56714    NaN\n",
       "57797    NaN\n",
       "22827    NaN\n",
       "64617    NaN\n",
       "4523     NaN\n",
       "32812    NaN\n",
       "50697    NaN\n",
       "17960    NaN\n",
       "50577    NaN\n",
       "64039    NaN\n",
       "69074    NaN\n",
       "11801    NaN\n",
       "45274    NaN\n",
       "Name: country_destination, dtype: object"
      ]
     },
     "execution_count": 282,
     "metadata": {},
     "output_type": "execute_result"
    }
   ],
   "source": [
    "# encode mod train labels and dev labels\n",
    "le = preprocessing.LabelEncoder() # Initialize label_encoder\n",
    "train_lab_mod, dev_lab_mod = le.fit_transform(train_labels_mod), le.fit_transform(dev_labels_mod)"
   ]
  },
  {
   "cell_type": "code",
   "execution_count": 271,
   "metadata": {
    "collapsed": false
   },
   "outputs": [
    {
     "name": "stdout",
     "output_type": "stream",
     "text": [
      "Logistic Regression with l1\n"
     ]
    },
    {
     "name": "stderr",
     "output_type": "stream",
     "text": [
      "c:\\Users\\cendy\\Anaconda3\\lib\\site-packages\\ipykernel\\__main__.py:16: FutureWarning: reshape is deprecated and will raise in a subsequent release. Please use .values.reshape(...) instead\n",
      "c:\\Users\\cendy\\Anaconda3\\lib\\site-packages\\ipykernel\\__main__.py:21: FutureWarning: reshape is deprecated and will raise in a subsequent release. Please use .values.reshape(...) instead\n"
     ]
    },
    {
     "ename": "ValueError",
     "evalue": "Found input variables with inconsistent numbers of samples: [65115, 188451]",
     "output_type": "error",
     "traceback": [
      "\u001b[0;31m---------------------------------------------------------------------------\u001b[0m",
      "\u001b[0;31mValueError\u001b[0m                                Traceback (most recent call last)",
      "\u001b[0;32m<ipython-input-271-08f7af868c3b>\u001b[0m in \u001b[0;36m<module>\u001b[0;34m()\u001b[0m\n\u001b[1;32m     34\u001b[0m \u001b[1;32mfor\u001b[0m \u001b[0mc\u001b[0m \u001b[1;32min\u001b[0m \u001b[0mCs\u001b[0m\u001b[1;33m.\u001b[0m\u001b[0mget\u001b[0m\u001b[1;33m(\u001b[0m\u001b[1;34m'C'\u001b[0m\u001b[1;33m)\u001b[0m\u001b[1;33m:\u001b[0m\u001b[1;33m\u001b[0m\u001b[0m\n\u001b[1;32m     35\u001b[0m     \u001b[0mlm\u001b[0m \u001b[1;33m=\u001b[0m \u001b[0mLogisticRegression\u001b[0m\u001b[1;33m(\u001b[0m\u001b[0mC\u001b[0m \u001b[1;33m=\u001b[0m \u001b[0mc\u001b[0m\u001b[1;33m,\u001b[0m \u001b[0mpenalty\u001b[0m \u001b[1;33m=\u001b[0m \u001b[1;34m\"l1\"\u001b[0m\u001b[1;33m,\u001b[0m \u001b[0mmulti_class\u001b[0m\u001b[1;33m=\u001b[0m\u001b[1;34m'ovr'\u001b[0m\u001b[1;33m)\u001b[0m\u001b[1;33m\u001b[0m\u001b[0m\n\u001b[0;32m---> 36\u001b[0;31m     \u001b[0mlm\u001b[0m\u001b[1;33m.\u001b[0m\u001b[0mfit\u001b[0m\u001b[1;33m(\u001b[0m\u001b[0mtr\u001b[0m\u001b[1;33m,\u001b[0m \u001b[0mtrain_lab\u001b[0m\u001b[1;33m)\u001b[0m\u001b[1;33m\u001b[0m\u001b[0m\n\u001b[0m\u001b[1;32m     37\u001b[0m     \u001b[0mscore\u001b[0m \u001b[1;33m=\u001b[0m \u001b[0mlm\u001b[0m\u001b[1;33m.\u001b[0m\u001b[0mscore\u001b[0m\u001b[1;33m(\u001b[0m\u001b[0mdev\u001b[0m\u001b[1;33m,\u001b[0m \u001b[0mdev_lab\u001b[0m\u001b[1;33m)\u001b[0m\u001b[1;33m\u001b[0m\u001b[0m\n\u001b[1;32m     38\u001b[0m     \u001b[0mprint\u001b[0m\u001b[1;33m(\u001b[0m\u001b[1;34m\"C: %f, score: %f\"\u001b[0m \u001b[1;33m%\u001b[0m\u001b[1;33m(\u001b[0m\u001b[0mc\u001b[0m\u001b[1;33m,\u001b[0m \u001b[0mscore\u001b[0m\u001b[1;33m)\u001b[0m\u001b[1;33m)\u001b[0m\u001b[1;33m\u001b[0m\u001b[0m\n",
      "\u001b[0;32mc:\\Users\\cendy\\Anaconda3\\lib\\site-packages\\sklearn\\linear_model\\logistic.py\u001b[0m in \u001b[0;36mfit\u001b[0;34m(self, X, y, sample_weight)\u001b[0m\n\u001b[1;32m   1171\u001b[0m \u001b[1;33m\u001b[0m\u001b[0m\n\u001b[1;32m   1172\u001b[0m         X, y = check_X_y(X, y, accept_sparse='csr', dtype=np.float64,\n\u001b[0;32m-> 1173\u001b[0;31m                          order=\"C\")\n\u001b[0m\u001b[1;32m   1174\u001b[0m         \u001b[0mcheck_classification_targets\u001b[0m\u001b[1;33m(\u001b[0m\u001b[0my\u001b[0m\u001b[1;33m)\u001b[0m\u001b[1;33m\u001b[0m\u001b[0m\n\u001b[1;32m   1175\u001b[0m         \u001b[0mself\u001b[0m\u001b[1;33m.\u001b[0m\u001b[0mclasses_\u001b[0m \u001b[1;33m=\u001b[0m \u001b[0mnp\u001b[0m\u001b[1;33m.\u001b[0m\u001b[0munique\u001b[0m\u001b[1;33m(\u001b[0m\u001b[0my\u001b[0m\u001b[1;33m)\u001b[0m\u001b[1;33m\u001b[0m\u001b[0m\n",
      "\u001b[0;32mc:\\Users\\cendy\\Anaconda3\\lib\\site-packages\\sklearn\\utils\\validation.py\u001b[0m in \u001b[0;36mcheck_X_y\u001b[0;34m(X, y, accept_sparse, dtype, order, copy, force_all_finite, ensure_2d, allow_nd, multi_output, ensure_min_samples, ensure_min_features, y_numeric, warn_on_dtype, estimator)\u001b[0m\n\u001b[1;32m    529\u001b[0m         \u001b[0my\u001b[0m \u001b[1;33m=\u001b[0m \u001b[0my\u001b[0m\u001b[1;33m.\u001b[0m\u001b[0mastype\u001b[0m\u001b[1;33m(\u001b[0m\u001b[0mnp\u001b[0m\u001b[1;33m.\u001b[0m\u001b[0mfloat64\u001b[0m\u001b[1;33m)\u001b[0m\u001b[1;33m\u001b[0m\u001b[0m\n\u001b[1;32m    530\u001b[0m \u001b[1;33m\u001b[0m\u001b[0m\n\u001b[0;32m--> 531\u001b[0;31m     \u001b[0mcheck_consistent_length\u001b[0m\u001b[1;33m(\u001b[0m\u001b[0mX\u001b[0m\u001b[1;33m,\u001b[0m \u001b[0my\u001b[0m\u001b[1;33m)\u001b[0m\u001b[1;33m\u001b[0m\u001b[0m\n\u001b[0m\u001b[1;32m    532\u001b[0m \u001b[1;33m\u001b[0m\u001b[0m\n\u001b[1;32m    533\u001b[0m     \u001b[1;32mreturn\u001b[0m \u001b[0mX\u001b[0m\u001b[1;33m,\u001b[0m \u001b[0my\u001b[0m\u001b[1;33m\u001b[0m\u001b[0m\n",
      "\u001b[0;32mc:\\Users\\cendy\\Anaconda3\\lib\\site-packages\\sklearn\\utils\\validation.py\u001b[0m in \u001b[0;36mcheck_consistent_length\u001b[0;34m(*arrays)\u001b[0m\n\u001b[1;32m    179\u001b[0m     \u001b[1;32mif\u001b[0m \u001b[0mlen\u001b[0m\u001b[1;33m(\u001b[0m\u001b[0muniques\u001b[0m\u001b[1;33m)\u001b[0m \u001b[1;33m>\u001b[0m \u001b[1;36m1\u001b[0m\u001b[1;33m:\u001b[0m\u001b[1;33m\u001b[0m\u001b[0m\n\u001b[1;32m    180\u001b[0m         raise ValueError(\"Found input variables with inconsistent numbers of\"\n\u001b[0;32m--> 181\u001b[0;31m                          \" samples: %r\" % [int(l) for l in lengths])\n\u001b[0m\u001b[1;32m    182\u001b[0m \u001b[1;33m\u001b[0m\u001b[0m\n\u001b[1;32m    183\u001b[0m \u001b[1;33m\u001b[0m\u001b[0m\n",
      "\u001b[0;31mValueError\u001b[0m: Found input variables with inconsistent numbers of samples: [65115, 188451]"
     ]
    }
   ],
   "source": [
    "# Create language and age array for train and dev sets\n",
    "code_binlang = le.fit_transform(mt.bin_lang)\n",
    "dev_binlang = le.fit_transform(md.bin_lang)\n",
    "\n",
    "# Convert bin_age to numeric\n",
    "tr_bin_age = le.fit_transform(mt.bin_age)\n",
    "dev_bin_age = le.fit_transform(md.bin_age)\n",
    "\n",
    "# encode browser\n",
    "tr_brow = le.fit_transform(mt.first_browser)\n",
    "dev_brow = le.fit_transform(md.first_browser)\n",
    "\n",
    "lang = code_binlang.reshape((65115,1))\n",
    "age = tr_bin_age.reshape((65115,1))\n",
    "tr_brow = tr_brow.reshape((65115,1))\n",
    "tr_hour = mt.first_hour.reshape((65115,1))\n",
    "\n",
    "dev_lang = dev_binlang.reshape((8700,1))\n",
    "dev_age = dev_bin_age.reshape((8700,1))\n",
    "dev_brow = dev_brow.reshape((8700,1))\n",
    "dev_hour = md.first_hour.reshape((8700,1))\n",
    "\n",
    "# NaNs in hour with mean hour\n",
    "mean_hour = np.nanmean(tr_hour)\n",
    "tr_hour = np.where(np.isnan(tr_hour), mean_hour, tr_hour)\n",
    "dev_hour = np.where(np.isnan(dev_hour), mean_hour, dev_hour)\n",
    "\n",
    "tr = np.concatenate((lang, age, tr_brow, tr_hour), axis=1)\n",
    "dev = np.concatenate((dev_lang, dev_age, dev_brow, dev_hour), axis=1)\n",
    "\n",
    "print(\"Logistic Regression with l1\")\n",
    "Cs = {'C':list(np.linspace(0, 1, 3))[1:]}\n",
    "\n",
    "for c in Cs.get('C'):\n",
    "    lm = LogisticRegression(C = c, penalty = \"l1\", multi_class='ovr')\n",
    "    lm.fit(tr, train_lab)\n",
    "    score = lm.score(dev, dev_lab)\n",
    "    print(\"C: %f, score: %f\" %(c, score))\n",
    "\n",
    "print(\"\\nLogistic Regression with l2\")\n",
    "Cs = {'C':list(np.linspace(0, 1, 3))[1:]}\n",
    "\n",
    "for c in Cs.get('C'):\n",
    "    lm = LogisticRegression(C = c, penalty = \"l2\", multi_class='ovr')\n",
    "    lm.fit(tr, train_lab)\n",
    "    score = lm.score(dev, dev_lab)\n",
    "    print(\"C: %f, score: %f\" %(c, score))\n",
    "    \n",
    "pred = lm.predict(dev)\n",
    "conf = confusion_matrix(pred, dev_lalb)\n",
    "print(conf)"
   ]
  },
  {
   "cell_type": "code",
   "execution_count": null,
   "metadata": {
    "collapsed": true
   },
   "outputs": [],
   "source": []
  }
 ],
 "metadata": {
  "kernelspec": {
   "display_name": "Python 3",
   "language": "python",
   "name": "python3"
  },
  "language_info": {
   "codemirror_mode": {
    "name": "ipython",
    "version": 3
   },
   "file_extension": ".py",
   "mimetype": "text/x-python",
   "name": "python",
   "nbconvert_exporter": "python",
   "pygments_lexer": "ipython3",
   "version": "3.6.0"
  }
 },
 "nbformat": 4,
 "nbformat_minor": 2
}
