{
 "cells": [
  {
   "cell_type": "markdown",
   "metadata": {},
   "source": [
    "# Kaggle Challenge: Predict Country of Airbnb User's First Booking\n",
    "\n",
    "### W207 - Spring 2017\n",
    "### Melanie Costello, Cendy Lin, Giles Ochs, Divya Sriram\n",
    "\n",
    "**Objective:** In 2016, Airbnb sponsored a Kaggle competition in which it provided two datasets - one with information about its users (users data) and the other with information about their activities on Airbnb.com (sessions data).  The objective was to predict the country in which an Airbnb guest would make their first booking.  \n",
    "\n",
    "From the competition site: \"There are 12 possible outcomes of the destination country: 'US', 'FR', 'CA', 'GB', 'ES', 'IT', 'PT', 'NL','DE', 'AU', 'NDF' (no destination found), and 'other'. Please note that 'NDF' is different from 'other' because 'other' means there was a booking, but is to a country not included in the list, while 'NDF' means there wasn't a booking.\"\n",
    "\n",
    "Complete details about the competition can be found here: https://www.kaggle.com/c/airbnb-recruiting-new-user-bookings/data."
   ]
  },
  {
   "cell_type": "markdown",
   "metadata": {},
   "source": [
    "## Part 1: Basic Data Prep\n",
    "\n",
    "Airbnb provided a training set and test, but we wanted to also have a set of development data.  We elected to slplit off part of the training data to create a dev set.  The original training data contained approximately 213,000 rows. We decided to split the development so that it would contain 12% the original training set. On the full data set, this turns out to be 25,000 rows on the development data and approximately 188,000 rows on the training data. "
   ]
  },
  {
   "cell_type": "code",
   "execution_count": 1,
   "metadata": {
    "collapsed": false
   },
   "outputs": [
    {
     "name": "stderr",
     "output_type": "stream",
     "text": [
      "/Users/divyas/anaconda/lib/python2.7/site-packages/sklearn/cross_validation.py:44: DeprecationWarning: This module was deprecated in version 0.18 in favor of the model_selection module into which all the refactored classes and functions are moved. Also note that the interface of the new CV iterators are different from that of this module. This module will be removed in 0.20.\n",
      "  \"This module will be removed in 0.20.\", DeprecationWarning)\n",
      "/Users/divyas/anaconda/lib/python2.7/site-packages/sklearn/grid_search.py:43: DeprecationWarning: This module was deprecated in version 0.18 in favor of the model_selection module into which all the refactored classes and functions are moved. This module will be removed in 0.20.\n",
      "  DeprecationWarning)\n"
     ]
    }
   ],
   "source": [
    "# This tells matplotlib not to try opening a new window for each plot.\n",
    "%matplotlib inline\n",
    "\n",
    "# General libraries.\n",
    "import re\n",
    "import numpy as np\n",
    "import matplotlib.pyplot as plt\n",
    "import pandas as pd\n",
    "import seaborn as sns\n",
    "import pylab as pl\n",
    "\n",
    "# Set seaborn style\n",
    "sns.set_context(\"notebook\", font_scale=1.5)\n",
    "\n",
    "# SK-learn libraries for learning.\n",
    "from sklearn.pipeline import Pipeline\n",
    "from sklearn.neighbors import KNeighborsClassifier\n",
    "from sklearn.linear_model import LogisticRegression\n",
    "from sklearn.naive_bayes import BernoulliNB\n",
    "from sklearn.naive_bayes import MultinomialNB\n",
    "from sklearn.naive_bayes import GaussianNB\n",
    "from sklearn.grid_search import GridSearchCV\n",
    "from sklearn.decomposition import PCA\n",
    "from sklearn.cluster import KMeans\n",
    "from sklearn.mixture import GMM\n",
    "from sklearn.mixture import GaussianMixture\n",
    "from sklearn.tree import DecisionTreeClassifier\n",
    "\n",
    "# SK-learn libraries for evaluation.\n",
    "from sklearn.metrics import confusion_matrix\n",
    "from sklearn import metrics\n",
    "from sklearn.metrics import classification_report\n",
    "from sklearn.tree import export_graphviz\n",
    "from sklearn import preprocessing\n",
    "\n",
    "# SK-learn libraries for feature extraction from text.\n",
    "from sklearn.feature_extraction.text import *\n",
    "\n",
    "# Matplotlib libraries for visualization\n",
    "from matplotlib.colors import LogNorm\n",
    "# from statsmodels.graphics.mosaicplot import mosaic\n",
    "from pylab import rcParams"
   ]
  },
  {
   "cell_type": "code",
   "execution_count": 2,
   "metadata": {
    "collapsed": false
   },
   "outputs": [],
   "source": [
    "# Read in training and dev data sets\n",
    "train = pd.read_csv('../final_submission/data/train_data.csv')\n",
    "dev = pd.read_csv('../final_submission/data/dev_data.csv')\n",
    "\n",
    "# Split off training labels & dev labels\n",
    "train_labels = train.country_destination\n",
    "dev_labels = dev.country_destination\n",
    "\n",
    "# Make the dataset tiny for testing purposes\n",
    "# train = train[:15000]\n",
    "# train_labels = train_labels[:15000]"
   ]
  },
  {
   "cell_type": "markdown",
   "metadata": {},
   "source": [
    "We first focused on exploring the user data, which contains attributes of individuals who first used Airbnb between 2010 and mid-2014.  In examining the fields available, we quickly realized much of the data is categorical.  We knew this would be a bit of a challenge, since the sklearn models take numeric values as inputs.  We needed to understand how to appropriately convert these categorical variables to numeric values in order to develop our baseline model. "
   ]
  },
  {
   "cell_type": "code",
   "execution_count": 3,
   "metadata": {
    "collapsed": false
   },
   "outputs": [
    {
     "data": {
      "text/html": [
       "<div>\n",
       "<table border=\"1\" class=\"dataframe\">\n",
       "  <thead>\n",
       "    <tr style=\"text-align: right;\">\n",
       "      <th></th>\n",
       "      <th>id</th>\n",
       "      <th>date_account_created</th>\n",
       "      <th>timestamp_first_active</th>\n",
       "      <th>date_first_booking</th>\n",
       "      <th>gender</th>\n",
       "      <th>age</th>\n",
       "      <th>signup_method</th>\n",
       "      <th>signup_flow</th>\n",
       "      <th>language</th>\n",
       "      <th>affiliate_channel</th>\n",
       "      <th>affiliate_provider</th>\n",
       "      <th>first_affiliate_tracked</th>\n",
       "      <th>signup_app</th>\n",
       "      <th>first_device_type</th>\n",
       "      <th>first_browser</th>\n",
       "      <th>country_destination</th>\n",
       "    </tr>\n",
       "  </thead>\n",
       "  <tbody>\n",
       "    <tr>\n",
       "      <th>0</th>\n",
       "      <td>g936neasyy</td>\n",
       "      <td>2013-05-12</td>\n",
       "      <td>20130512210934</td>\n",
       "      <td>2013-05-13</td>\n",
       "      <td>-unknown-</td>\n",
       "      <td>NaN</td>\n",
       "      <td>basic</td>\n",
       "      <td>0</td>\n",
       "      <td>en</td>\n",
       "      <td>direct</td>\n",
       "      <td>direct</td>\n",
       "      <td>linked</td>\n",
       "      <td>Web</td>\n",
       "      <td>Mac Desktop</td>\n",
       "      <td>Chrome</td>\n",
       "      <td>other</td>\n",
       "    </tr>\n",
       "    <tr>\n",
       "      <th>1</th>\n",
       "      <td>duq2vabpp2</td>\n",
       "      <td>2013-03-02</td>\n",
       "      <td>20130302054534</td>\n",
       "      <td>NaN</td>\n",
       "      <td>FEMALE</td>\n",
       "      <td>31.0</td>\n",
       "      <td>facebook</td>\n",
       "      <td>0</td>\n",
       "      <td>en</td>\n",
       "      <td>direct</td>\n",
       "      <td>direct</td>\n",
       "      <td>untracked</td>\n",
       "      <td>Web</td>\n",
       "      <td>iPad</td>\n",
       "      <td>Mobile Safari</td>\n",
       "      <td>NDF</td>\n",
       "    </tr>\n",
       "    <tr>\n",
       "      <th>2</th>\n",
       "      <td>xiymwcsklc</td>\n",
       "      <td>2011-05-17</td>\n",
       "      <td>20110517211429</td>\n",
       "      <td>NaN</td>\n",
       "      <td>-unknown-</td>\n",
       "      <td>105.0</td>\n",
       "      <td>facebook</td>\n",
       "      <td>2</td>\n",
       "      <td>en</td>\n",
       "      <td>direct</td>\n",
       "      <td>direct</td>\n",
       "      <td>untracked</td>\n",
       "      <td>Web</td>\n",
       "      <td>Mac Desktop</td>\n",
       "      <td>Firefox</td>\n",
       "      <td>NDF</td>\n",
       "    </tr>\n",
       "    <tr>\n",
       "      <th>3</th>\n",
       "      <td>8kkcksa0dw</td>\n",
       "      <td>2013-12-02</td>\n",
       "      <td>20131202180650</td>\n",
       "      <td>2013-12-11</td>\n",
       "      <td>-unknown-</td>\n",
       "      <td>37.0</td>\n",
       "      <td>basic</td>\n",
       "      <td>0</td>\n",
       "      <td>en</td>\n",
       "      <td>sem-brand</td>\n",
       "      <td>google</td>\n",
       "      <td>omg</td>\n",
       "      <td>Web</td>\n",
       "      <td>iPad</td>\n",
       "      <td>Mobile Safari</td>\n",
       "      <td>US</td>\n",
       "    </tr>\n",
       "    <tr>\n",
       "      <th>4</th>\n",
       "      <td>zk8qx61d9m</td>\n",
       "      <td>2013-11-07</td>\n",
       "      <td>20131107183734</td>\n",
       "      <td>NaN</td>\n",
       "      <td>FEMALE</td>\n",
       "      <td>25.0</td>\n",
       "      <td>basic</td>\n",
       "      <td>0</td>\n",
       "      <td>en</td>\n",
       "      <td>direct</td>\n",
       "      <td>direct</td>\n",
       "      <td>linked</td>\n",
       "      <td>Web</td>\n",
       "      <td>Windows Desktop</td>\n",
       "      <td>Chrome</td>\n",
       "      <td>NDF</td>\n",
       "    </tr>\n",
       "  </tbody>\n",
       "</table>\n",
       "</div>"
      ],
      "text/plain": [
       "           id date_account_created  timestamp_first_active date_first_booking  \\\n",
       "0  g936neasyy           2013-05-12          20130512210934         2013-05-13   \n",
       "1  duq2vabpp2           2013-03-02          20130302054534                NaN   \n",
       "2  xiymwcsklc           2011-05-17          20110517211429                NaN   \n",
       "3  8kkcksa0dw           2013-12-02          20131202180650         2013-12-11   \n",
       "4  zk8qx61d9m           2013-11-07          20131107183734                NaN   \n",
       "\n",
       "      gender    age signup_method  signup_flow language affiliate_channel  \\\n",
       "0  -unknown-    NaN         basic            0       en            direct   \n",
       "1     FEMALE   31.0      facebook            0       en            direct   \n",
       "2  -unknown-  105.0      facebook            2       en            direct   \n",
       "3  -unknown-   37.0         basic            0       en         sem-brand   \n",
       "4     FEMALE   25.0         basic            0       en            direct   \n",
       "\n",
       "  affiliate_provider first_affiliate_tracked signup_app first_device_type  \\\n",
       "0             direct                  linked        Web       Mac Desktop   \n",
       "1             direct               untracked        Web              iPad   \n",
       "2             direct               untracked        Web       Mac Desktop   \n",
       "3             google                     omg        Web              iPad   \n",
       "4             direct                  linked        Web   Windows Desktop   \n",
       "\n",
       "   first_browser country_destination  \n",
       "0         Chrome               other  \n",
       "1  Mobile Safari                 NDF  \n",
       "2        Firefox                 NDF  \n",
       "3  Mobile Safari                  US  \n",
       "4         Chrome                 NDF  "
      ]
     },
     "execution_count": 3,
     "metadata": {},
     "output_type": "execute_result"
    }
   ],
   "source": [
    "# Examine data in avaialble fields\n",
    "train.head()"
   ]
  },
  {
   "cell_type": "markdown",
   "metadata": {},
   "source": [
    "## Part 2: Baseline Model Submission"
   ]
  },
  {
   "cell_type": "markdown",
   "metadata": {},
   "source": [
    "The Airbnb Kaggle challenge is ultimately a classification problem.  We need to predict in which class a user's first booking falls.  It is important to note that, per the competition rules, 'NDF' (no destination found) is a valid value to predict, as is 'other' (indicating a booking happened, but in a country not listed in the rest of labels).  \n",
    "\n",
    "We tried a handful of classification algorithms, including Bernoulli Naive Bayes and Logistic Regression, but ultimately settled on using a K Nearest Neighbors model for our baseline subission. To support the use of categorical data in the model, we used the pandas function get_dummies() to binarize the categorical variables used in the model."
   ]
  },
  {
   "cell_type": "code",
   "execution_count": 4,
   "metadata": {
    "collapsed": false
   },
   "outputs": [
    {
     "data": {
      "text/html": [
       "<div>\n",
       "<table border=\"1\" class=\"dataframe\">\n",
       "  <thead>\n",
       "    <tr style=\"text-align: right;\">\n",
       "      <th></th>\n",
       "      <th>language_cs</th>\n",
       "      <th>language_da</th>\n",
       "      <th>language_de</th>\n",
       "      <th>language_el</th>\n",
       "      <th>language_en</th>\n",
       "      <th>language_es</th>\n",
       "      <th>language_fi</th>\n",
       "      <th>language_fr</th>\n",
       "      <th>language_hu</th>\n",
       "      <th>language_id</th>\n",
       "      <th>...</th>\n",
       "      <th>language_pt</th>\n",
       "      <th>language_ru</th>\n",
       "      <th>language_sv</th>\n",
       "      <th>language_th</th>\n",
       "      <th>language_tr</th>\n",
       "      <th>language_zh</th>\n",
       "      <th>gender_-unknown-</th>\n",
       "      <th>gender_FEMALE</th>\n",
       "      <th>gender_MALE</th>\n",
       "      <th>gender_OTHER</th>\n",
       "    </tr>\n",
       "  </thead>\n",
       "  <tbody>\n",
       "    <tr>\n",
       "      <th>0</th>\n",
       "      <td>0</td>\n",
       "      <td>0</td>\n",
       "      <td>0</td>\n",
       "      <td>0</td>\n",
       "      <td>1</td>\n",
       "      <td>0</td>\n",
       "      <td>0</td>\n",
       "      <td>0</td>\n",
       "      <td>0</td>\n",
       "      <td>0</td>\n",
       "      <td>...</td>\n",
       "      <td>0</td>\n",
       "      <td>0</td>\n",
       "      <td>0</td>\n",
       "      <td>0</td>\n",
       "      <td>0</td>\n",
       "      <td>0</td>\n",
       "      <td>0</td>\n",
       "      <td>0</td>\n",
       "      <td>1</td>\n",
       "      <td>0</td>\n",
       "    </tr>\n",
       "    <tr>\n",
       "      <th>1</th>\n",
       "      <td>0</td>\n",
       "      <td>0</td>\n",
       "      <td>0</td>\n",
       "      <td>0</td>\n",
       "      <td>1</td>\n",
       "      <td>0</td>\n",
       "      <td>0</td>\n",
       "      <td>0</td>\n",
       "      <td>0</td>\n",
       "      <td>0</td>\n",
       "      <td>...</td>\n",
       "      <td>0</td>\n",
       "      <td>0</td>\n",
       "      <td>0</td>\n",
       "      <td>0</td>\n",
       "      <td>0</td>\n",
       "      <td>0</td>\n",
       "      <td>0</td>\n",
       "      <td>1</td>\n",
       "      <td>0</td>\n",
       "      <td>0</td>\n",
       "    </tr>\n",
       "    <tr>\n",
       "      <th>2</th>\n",
       "      <td>0</td>\n",
       "      <td>0</td>\n",
       "      <td>0</td>\n",
       "      <td>0</td>\n",
       "      <td>1</td>\n",
       "      <td>0</td>\n",
       "      <td>0</td>\n",
       "      <td>0</td>\n",
       "      <td>0</td>\n",
       "      <td>0</td>\n",
       "      <td>...</td>\n",
       "      <td>0</td>\n",
       "      <td>0</td>\n",
       "      <td>0</td>\n",
       "      <td>0</td>\n",
       "      <td>0</td>\n",
       "      <td>0</td>\n",
       "      <td>1</td>\n",
       "      <td>0</td>\n",
       "      <td>0</td>\n",
       "      <td>0</td>\n",
       "    </tr>\n",
       "    <tr>\n",
       "      <th>3</th>\n",
       "      <td>0</td>\n",
       "      <td>0</td>\n",
       "      <td>0</td>\n",
       "      <td>0</td>\n",
       "      <td>1</td>\n",
       "      <td>0</td>\n",
       "      <td>0</td>\n",
       "      <td>0</td>\n",
       "      <td>0</td>\n",
       "      <td>0</td>\n",
       "      <td>...</td>\n",
       "      <td>0</td>\n",
       "      <td>0</td>\n",
       "      <td>0</td>\n",
       "      <td>0</td>\n",
       "      <td>0</td>\n",
       "      <td>0</td>\n",
       "      <td>1</td>\n",
       "      <td>0</td>\n",
       "      <td>0</td>\n",
       "      <td>0</td>\n",
       "    </tr>\n",
       "    <tr>\n",
       "      <th>4</th>\n",
       "      <td>0</td>\n",
       "      <td>0</td>\n",
       "      <td>0</td>\n",
       "      <td>0</td>\n",
       "      <td>1</td>\n",
       "      <td>0</td>\n",
       "      <td>0</td>\n",
       "      <td>0</td>\n",
       "      <td>0</td>\n",
       "      <td>0</td>\n",
       "      <td>...</td>\n",
       "      <td>0</td>\n",
       "      <td>0</td>\n",
       "      <td>0</td>\n",
       "      <td>0</td>\n",
       "      <td>0</td>\n",
       "      <td>0</td>\n",
       "      <td>0</td>\n",
       "      <td>1</td>\n",
       "      <td>0</td>\n",
       "      <td>0</td>\n",
       "    </tr>\n",
       "  </tbody>\n",
       "</table>\n",
       "<p>5 rows × 27 columns</p>\n",
       "</div>"
      ],
      "text/plain": [
       "   language_cs  language_da  language_de  language_el  language_en  \\\n",
       "0            0            0            0            0            1   \n",
       "1            0            0            0            0            1   \n",
       "2            0            0            0            0            1   \n",
       "3            0            0            0            0            1   \n",
       "4            0            0            0            0            1   \n",
       "\n",
       "   language_es  language_fi  language_fr  language_hu  language_id  \\\n",
       "0            0            0            0            0            0   \n",
       "1            0            0            0            0            0   \n",
       "2            0            0            0            0            0   \n",
       "3            0            0            0            0            0   \n",
       "4            0            0            0            0            0   \n",
       "\n",
       "       ...       language_pt  language_ru  language_sv  language_th  \\\n",
       "0      ...                 0            0            0            0   \n",
       "1      ...                 0            0            0            0   \n",
       "2      ...                 0            0            0            0   \n",
       "3      ...                 0            0            0            0   \n",
       "4      ...                 0            0            0            0   \n",
       "\n",
       "   language_tr  language_zh  gender_-unknown-  gender_FEMALE  gender_MALE  \\\n",
       "0            0            0                 0              0            1   \n",
       "1            0            0                 0              1            0   \n",
       "2            0            0                 1              0            0   \n",
       "3            0            0                 1              0            0   \n",
       "4            0            0                 0              1            0   \n",
       "\n",
       "   gender_OTHER  \n",
       "0             0  \n",
       "1             0  \n",
       "2             0  \n",
       "3             0  \n",
       "4             0  \n",
       "\n",
       "[5 rows x 27 columns]"
      ]
     },
     "execution_count": 4,
     "metadata": {},
     "output_type": "execute_result"
    }
   ],
   "source": [
    "# Transform variables we want to use into binary\n",
    "test_cols = ['language', 'gender']\n",
    "tr_binary_vars = pd.get_dummies(train[test_cols], columns=test_cols)\n",
    "dev_binary_vars = pd.get_dummies(dev[test_cols], columns=test_cols)\n",
    "\n",
    "# Note that the unique values in the language & gender columns are now their own\n",
    "# columns with values of 1 or 0\n",
    "dev_binary_vars.head()"
   ]
  },
  {
   "cell_type": "code",
   "execution_count": 5,
   "metadata": {
    "collapsed": false
   },
   "outputs": [],
   "source": [
    "# Note that training data do not have all the same languages in them\n",
    "# We will add columns to make the training data match dev\n",
    "\n",
    "# List of columns in transformed training data & dev data\n",
    "tr_list = list(tr_binary_vars.columns.values)\n",
    "dev_list = list(dev_binary_vars.columns.values)\n",
    "\n",
    "# difference between the sets - training data has 2 extra columns, language_ca & language_hr\n",
    "np.setdiff1d(tr_list, dev_list)\n",
    "\n",
    "# Add columns to training data\n",
    "dev_binary_vars.insert(0, 'language_ca', 0, allow_duplicates=False)\n",
    "dev_binary_vars.insert(9, 'language_hr', 0, allow_duplicates=False)"
   ]
  },
  {
   "cell_type": "code",
   "execution_count": 6,
   "metadata": {
    "collapsed": false
   },
   "outputs": [],
   "source": [
    "# Create arrays based on the variables we want to use\n",
    "# Creating arrays because we need these arrays to fit into our KNN model\n",
    "train_array = np.array(tr_binary_vars)\n",
    "train_label_array = np.array(train_labels)\n",
    "\n",
    "dev_array = np.array(dev_binary_vars)\n",
    "dev_label_array = np.array(dev_labels)"
   ]
  },
  {
   "cell_type": "code",
   "execution_count": 33,
   "metadata": {
    "collapsed": false
   },
   "outputs": [
    {
     "name": "stdout",
     "output_type": "stream",
     "text": [
      "For k=7, total: 2000  correct: 772  accuracy: 0.386\n",
      "For k=10, total: 2000  correct: 1158  accuracy: 0.579\n",
      "For k=15, total: 2000  correct: 1159  accuracy: 0.580\n",
      "For k=20, total: 2000  correct: 1159  accuracy: 0.580\n",
      "For k=50, total: 2000  correct: 1159  accuracy: 0.580\n"
     ]
    }
   ],
   "source": [
    "# Try a KNN model - iterating through a handful of different values of k\n",
    "def mod_test(k_vals, train_data, train_labels, dev_data, dev_labels=None):\n",
    "\n",
    "    # We want to evaluate a variety of values for k, so we need\n",
    "    # to enclose our work in a loop.\n",
    "    for elem in k_vals:\n",
    "        \n",
    "        # Create a classifier object, fit our training data &\n",
    "        # initialize a variable to hold the predictions\n",
    "        knn = KNeighborsClassifier(n_neighbors=elem)\n",
    "        knn.fit(train_data, train_labels)\n",
    "        preds = knn.predict(dev_data)\n",
    "        \n",
    "        # We evaluate the accuracy for each value of k by comparing\n",
    "        # the predictions and the labels, then updating values for\n",
    "        # correct and total\n",
    "        correct, total = 0, 0\n",
    "        for pred, label in zip(preds, dev_labels):\n",
    "            if pred == label: \n",
    "                correct += 1\n",
    "            total += 1\n",
    "        print 'For k=%s, total: %3d  correct: %3d  accuracy: %3.3f' %(elem, total, correct, 1.0*correct/total)\n",
    "\n",
    "k_vals = [7, 10, 15, 20, 50]\n",
    "mod_test(k_vals, train_array[:5000], train_label_array[:5000], dev_array[:2000], dev_label_array[:2000])"
   ]
  },
  {
   "cell_type": "markdown",
   "metadata": {},
   "source": [
    "We then ran the same model on our test data, electing to use k=15 since that achieved the highest accuracy with the smallest k."
   ]
  },
  {
   "cell_type": "code",
   "execution_count": 34,
   "metadata": {
    "collapsed": false
   },
   "outputs": [],
   "source": [
    "# Use KNN to predict on test data\n",
    "# Get test data\n",
    "test = pd.read_csv('../final_submission/data/test_users.csv')\n",
    "\n",
    "# Process test data so it matches layout of training data\n",
    "test_cols = ['language', 'gender']\n",
    "test_binary_vars = pd.get_dummies(test[['language', 'gender']], columns=test_cols)\n",
    "\n",
    "# List of columns in transformed training data & dev data\n",
    "tr_list = list(tr_binary_vars.columns.values)\n",
    "test_list = list(test_binary_vars.columns.values)\n",
    "\n",
    "# Examine difference between the sets\n",
    "# Train list has language_hr and language_is\n",
    "# Test list has language_-unknown-\n",
    "np.setdiff1d(test_list, tr_list)\n",
    "\n",
    "# Drop columns that don't exist in both\n",
    "tr_binary_vars = tr_binary_vars.drop([\"language_is\", \"language_hr\"], axis=1)\n",
    "test_binary_vars = test_binary_vars.drop([\"language_-unknown-\"], axis=1)\n",
    "\n",
    "\n",
    "# Create arrays based on the variables we want to use\n",
    "train_array = np.array(tr_binary_vars)\n",
    "train_label_array = np.array(train_labels)\n",
    "test_array = np.array(test_binary_vars)"
   ]
  },
  {
   "cell_type": "code",
   "execution_count": 35,
   "metadata": {
    "collapsed": false
   },
   "outputs": [
    {
     "data": {
      "text/plain": [
       "array(['NDF'], dtype=object)"
      ]
     },
     "execution_count": 35,
     "metadata": {},
     "output_type": "execute_result"
    }
   ],
   "source": [
    "# Predict outcomes on test data using k=15\n",
    "def mod_score(k_val, train_data, train_labels, test_data):\n",
    "        \n",
    "    # Create a classifier object, fit our training data &\n",
    "    # initialize a variable to hold the predictions\n",
    "    knn = KNeighborsClassifier(n_neighbors=k_val)\n",
    "    knn.fit(train_data, train_labels)\n",
    "    preds = knn.predict(test_data)\n",
    "        \n",
    "    return preds\n",
    "\n",
    "test_preds = mod_score(15, train_array[:5000], train_label_array[:5000], test_array)\n",
    "\n",
    "# Examine unique values of the predictions, noting that we are predicting\n",
    "# the same value for all entries\n",
    "np.unique(test_preds)"
   ]
  },
  {
   "cell_type": "markdown",
   "metadata": {},
   "source": [
    "**NOTE:** On our test data, we discovered that the model is predicting the same value for every entry - a lable of 'NDF' (no destination found).  In doing so, we still achieved an accuracy of 0.69 on our submission to Kaggle.  This tells us that a large portion of the test cases indeed map to a value of 'NDF' - meaning we need to devote our next steps to understanding which values will be most predictive for labels other than 'NDF'.  \n",
    "\n",
    "Additionally, we know that high dimensionality can hamper the effectiveness of KNN.  With so many unique values for our categorical variables (such as language), binarizing all of them will not suffice.  We need to think of ways to reduce the dimensionality of our data, perhaps with binning."
   ]
  },
  {
   "cell_type": "markdown",
   "metadata": {},
   "source": [
    "## Part 3: Additional Data Exploration\n",
    "\n",
    "Based on what we learned from our baseline submission, we decided to visualize some of our variable distributions and develop some hypotheses for the types of feature engineering we want to incorporate (binning variables, parsing information, aggregating, etc.).  "
   ]
  },
  {
   "cell_type": "markdown",
   "metadata": {
    "collapsed": true
   },
   "source": [
    "### Target Variable: Country Destination (classes)"
   ]
  },
  {
   "cell_type": "code",
   "execution_count": 9,
   "metadata": {
    "collapsed": false
   },
   "outputs": [
    {
     "name": "stdout",
     "output_type": "stream",
     "text": [
      "% NDF: 58.3133016009\n",
      "% US: 29.2404922234\n",
      "% Non-US: 12.4462061756\n"
     ]
    },
    {
     "data": {
      "text/plain": [
       "<matplotlib.text.Text at 0x11ac74c50>"
      ]
     },
     "execution_count": 9,
     "metadata": {},
     "output_type": "execute_result"
    },
    {
     "data": {
      "image/png": "[encoded data removed]",
      "text/plain": [
       "<matplotlib.figure.Figure at 0x11ae39910>"
      ]
     },
     "metadata": {},
     "output_type": "display_data"
    }
   ],
   "source": [
    "# Exploring labels\n",
    "total = sum(train_labels.value_counts())\n",
    "train_labels.value_counts()/total\n",
    "\n",
    "print \"% NDF:\", (1.0 * train_labels.value_counts()[0]/total * 100)\n",
    "print \"% US:\", (1.0 * train_labels.value_counts()[1]/total * 100)\n",
    "print \"% Non-US:\", (1.0 * sum(train_labels.value_counts()[2:])/total * 100)\n",
    "\n",
    "# Looking at Non-U.S. bookings - removing NDF examples too\n",
    "plt.figure(figsize=(10,4))\n",
    "alllabels = train_labels\n",
    "nonUS = train_labels[train_labels != 'NDF'][train_labels!= 'US']\n",
    "nonUS.value_counts(dropna=False).plot(kind='bar')\n",
    "plt.xlabel('Non-US Destinations')"
   ]
  },
  {
   "cell_type": "markdown",
   "metadata": {},
   "source": [
    "We see that users predominantly have NDF (no destination found) or U.S. bookings, with the two totalling to about 88% of observations. This makes sense as most users have an account but do not book. Users are probably mostly American (though we do not have this data), and book in their country of origin. Non-U.S. bookings total to 12%, with the second most common country identified as France, followed by Italy and Great Britain."
   ]
  },
  {
   "cell_type": "markdown",
   "metadata": {},
   "source": [
    "### Gender"
   ]
  },
  {
   "cell_type": "markdown",
   "metadata": {},
   "source": [
    "Next, we examine gender counts as whether there is a difference in destination countries between the two genders. "
   ]
  },
  {
   "cell_type": "code",
   "execution_count": 11,
   "metadata": {
    "collapsed": false
   },
   "outputs": [
    {
     "name": "stdout",
     "output_type": "stream",
     "text": [
      "-unknown-    84462\n",
      "FEMALE       55636\n",
      "MALE         48095\n",
      "OTHER          258\n",
      "Name: gender, dtype: int64\n"
     ]
    },
    {
     "data": {
      "image/png": "[encoded data removed]",
      "text/plain": [
       "<matplotlib.figure.Figure at 0x110a29ed0>"
      ]
     },
     "metadata": {},
     "output_type": "display_data"
    }
   ],
   "source": [
    "print(train.gender.value_counts())\n",
    "\n",
    "f = train[train['gender'] == 'FEMALE']\n",
    "m = train[train['gender'] == 'MALE']\n",
    "o = train[train['gender'] == 'OTHER']\n",
    "\n",
    "fem = f.country_destination.value_counts() / len(f) * 100\n",
    "mal = m.country_destination.value_counts() / len(m) * 100\n",
    "oth = o.country_destination.value_counts() / len(o) * 100\n",
    "\n",
    "# Bar width for plot\n",
    "width = 0.3\n",
    "\n",
    "plt.figure(figsize=(10,4))\n",
    "fem.plot(kind='bar', width=width, color='#F5B7B1', position=0, label='Female')\n",
    "mal.plot(kind='bar', width=width, color='#76D7C4', position=1, label='Male')\n",
    "\n",
    "plt.legend()\n",
    "plt.xlabel('Destination Country')\n",
    "plt.ylabel('Percentage')\n",
    "\n",
    "sns.despine()\n",
    "plt.show()"
   ]
  },
  {
   "cell_type": "markdown",
   "metadata": {},
   "source": [
    "Generally speaking it looks like men and women have similar booking behaviors, thoughh women may be slightly more likely to book in France and Italy that in other countries (outside of NDF and US). "
   ]
  },
  {
   "cell_type": "markdown",
   "metadata": {},
   "source": [
    "### Age"
   ]
  },
  {
   "cell_type": "code",
   "execution_count": 12,
   "metadata": {
    "collapsed": false
   },
   "outputs": [
    {
     "name": "stdout",
     "output_type": "stream",
     "text": [
      "count    110875.000000\n",
      "mean         49.334025\n",
      "std         153.585847\n",
      "min           1.000000\n",
      "25%          28.000000\n",
      "50%          34.000000\n",
      "75%          43.000000\n",
      "max        2014.000000\n",
      "Name: age, dtype: float64\n",
      "('NaN age:', 77576)\n",
      "('Age over 120:', 672)\n",
      "\n",
      "Age over 100 detail:\n",
      "371     2014.0\n",
      "387     2014.0\n",
      "621     2014.0\n",
      "1099    2014.0\n",
      "1857    2013.0\n",
      "Name: age, dtype: float64\n"
     ]
    },
    {
     "data": {
      "image/png": "[encoded data removed]",
      "text/plain": [
       "<matplotlib.figure.Figure at 0x11078a510>"
      ]
     },
     "metadata": {},
     "output_type": "display_data"
    }
   ],
   "source": [
    "print(train.age.describe())\n",
    "print(\"NaN age:\", sum(train.age.isnull()))\n",
    "print(\"Age over 120:\", sum(train.age > 120))\n",
    "print(\"\\nAge over 100 detail:\")\n",
    "print(train.age[train['age'] > 120].head(5)) \n",
    "\n",
    "sns.distplot(train.age.dropna()[train.age < 120])\n",
    "plt.xlabel('Age')\n",
    "sns.despine()"
   ]
  },
  {
   "cell_type": "markdown",
   "metadata": {},
   "source": [
    "It looks like we have a positively skewed aged distribution, with the median age being 34 years old. We have a suspicious bump right after 100 years of age that might be an error. We also have individuals who have typed in what looks like a year instead of their age (e.g. '2014').  "
   ]
  },
  {
   "cell_type": "code",
   "execution_count": 13,
   "metadata": {
    "collapsed": false
   },
   "outputs": [
    {
     "data": {
      "image/png": "[encoded data removed]",
      "text/plain": [
       "<matplotlib.figure.Figure at 0x10542a190>"
      ]
     },
     "metadata": {},
     "output_type": "display_data"
    },
    {
     "name": "stdout",
     "output_type": "stream",
     "text": [
      "       adult  senior  working  young\n",
      "AU       170       8       59    100\n",
      "CA       436      23      160    246\n",
      "DE       326      19      119    233\n",
      "ES       614      36      194    527\n",
      "FR      1442     108      575    901\n",
      "GB       636      58      306    442\n",
      "IT       775      63      291    537\n",
      "NDF    20482    1418     8847  15257\n",
      "NL       225      16       71    177\n",
      "PT        58       4       20     44\n",
      "US     18864     880     6061  13171\n",
      "other   3007     173      922   1930\n"
     ]
    }
   ],
   "source": [
    "age0 = 30\n",
    "age1 = 45\n",
    "age2 = 65\n",
    "age3 = 100\n",
    "\n",
    "young = train.loc[train['age'] < age0, 'country_destination'].value_counts()\n",
    "adult = train.query('age > @age0 & age < @age1').country_destination.value_counts()\n",
    "working = train.query('age > @age1 & age < @age2').country_destination.value_counts()\n",
    "senior = train.query('age > @age2 & age < @age3').country_destination.value_counts()\n",
    "\n",
    "young_dest = young / sum(young) * 100\n",
    "adult_dest = adult / sum(adult) * 100\n",
    "working_dest = working / sum(working) * 100\n",
    "senior_dest = senior / sum(senior) * 100\n",
    "\n",
    "# Bar width\n",
    "width = 0.2\n",
    "\n",
    "plt.figure(figsize=(12,4))\n",
    "young_dest.plot(kind='bar', width=width, color='#F7DC6F', position=0, label='Young Adult')\n",
    "adult_dest.plot(kind='bar', width=width, color='#82E0AA', position=1, label='Adult')\n",
    "working_dest.plot(kind='bar', width=width, color='#138D75', position=2, label='Working')\n",
    "senior_dest.plot(kind='bar', width=width, color='#BB8FCE', position=3, label='Senior')\n",
    "\n",
    "plt.legend()\n",
    "plt.xlabel('Destination Country')\n",
    "plt.ylabel('Percentage')\n",
    "\n",
    "sns.despine()\n",
    "plt.show()\n",
    "\n",
    "print(pd.DataFrame(dict(young = young, adult = adult, working = working, senior = senior)).to_string())"
   ]
  },
  {
   "cell_type": "markdown",
   "metadata": {},
   "source": [
    "When examining age bins, it looks like young adults are more likely to have no booking than other generations. Other age groups still have higher NDF reults, but are more likely than young adults to book in the U.S. or other countries."
   ]
  },
  {
   "cell_type": "markdown",
   "metadata": {},
   "source": [
    "## Part 4: Feature Engineering\n",
    "\n",
    "Once we had some hypotheses about which variables would be predictive, we set out to pre-process our data to better support our modeling work.  We decided to do the following: \n",
    "\n",
    "+ Parse the month from the account creation date\n",
    "+ Create a variable to represent the season the account was created\n",
    "+ Parse the year from the account creation date\n",
    "+ Bin ages\n",
    "+ Bin languages\n",
    "\n",
    "\n",
    "See the \"Sessions\" Workbook for the following:\n",
    "+ New parameter: Total number of visists by user\n",
    "+ New Parameter: Total number of different device type used by user to access Airbnb\n",
    "+ New Paramter: The longest amount of time user spent on a single action in Airbnb\n",
    "+ New Parameter: The aggregate amount of time user spent on Airbnb\n",
    "+ New Parameter: The last action the user performend on Airbnb\n",
    "+ New Parameter: The delta between when a user created their account, and when they made their first booking\n",
    "+ New Parameter: The hour of day that the user accessed Airbnb for the very first time\n",
    "+ Removal off all training and dev data the preceeded the tracking of sessions\n",
    "+ Attempts at increasing the representation of underrepresented data\n",
    "\n"
   ]
  },
  {
   "cell_type": "code",
   "execution_count": 14,
   "metadata": {
    "collapsed": false
   },
   "outputs": [],
   "source": [
    "# Function to parse month from date columns\n",
    "def parse_month(col):\n",
    "    start = str(col).find(\"-\")\n",
    "    if start != -1:\n",
    "        end = col.find(\"-\", start+1)\n",
    "        month = col[start+1:end]\n",
    "        return month\n",
    "    else:\n",
    "        return '00'\n",
    "\n",
    "train[\"month_created\"] = train.date_account_created.apply(parse_month)\n",
    "dev[\"month_created\"] = dev.date_account_created.apply(parse_month)\n",
    "test[\"month_created\"] = test.date_account_created.apply(parse_month)\n",
    "\n",
    "\n",
    "# Function to convert months to seasons\n",
    "def parse_season(col):\n",
    "    if col in ('12', '01', '02'):\n",
    "        return 'Winter'\n",
    "    elif col in ('03', '04', '05'):\n",
    "        return 'Spring'\n",
    "    elif col in ('06', '07', '08'):\n",
    "        return 'Summer'\n",
    "    else:\n",
    "        return 'Fall'\n",
    "    \n",
    "train[\"season_created\"] = train.month_created.apply(parse_season)\n",
    "dev[\"season_created\"] = dev.month_created.apply(parse_season)\n",
    "test[\"season_created\"] = test.month_created.apply(parse_season)\n",
    "\n",
    "# Function to parse year from date columns\n",
    "def parse_year(col):\n",
    "    stop = str(col).find(\"-\")\n",
    "    if stop != -1:\n",
    "        year = col[:stop]\n",
    "        return year\n",
    "    else:\n",
    "        return '0000'\n",
    "\n",
    "train[\"year_created\"] = train.date_account_created.apply(parse_year)\n",
    "dev[\"year_created\"] = dev.date_account_created.apply(parse_year)\n",
    "test[\"year_created\"] = test.date_account_created.apply(parse_year)\n",
    "\n",
    "# Function to bin ages\n",
    "def bin_age(col):\n",
    "    if col >= 65 and col < 100:\n",
    "        return \"65-100\"\n",
    "    elif col >=45 and col < 65:\n",
    "        return \"45-65\"\n",
    "    elif col >=30 and col < 45:\n",
    "        return \"30-45\"\n",
    "    elif col >= 0 and col < 30:\n",
    "        return \"Under30\"\n",
    "    else:\n",
    "        return \"Unknown\"\n",
    "    \n",
    "train[\"bin_age\"] = train.age.apply(bin_age)\n",
    "dev[\"bin_age\"] = train.age.apply(bin_age)\n",
    "test[\"bin_age\"] = test.age.apply(bin_age)\n",
    "\n",
    "# Function to bin languages, leaving only those with a frequency >= 100 in the training data.\n",
    "# All others will be labeled as 'other'\n",
    "def bin_lang(col):\n",
    "    if col in ('en', 'zh', 'es', 'fr'):\n",
    "        return col\n",
    "    else:\n",
    "        return 'other'\n",
    "\n",
    "train[\"bin_lang\"] = train.language.apply(bin_lang)\n",
    "dev[\"bin_lang\"] = dev.language.apply(bin_lang)\n",
    "test[\"bin_lang\"] = test.language.apply(bin_lang)"
   ]
  },
  {
   "cell_type": "markdown",
   "metadata": {},
   "source": [
    "## Part 5a: Decision Tree Model\n",
    "\n",
    "Recognizing that we're working with a lot of categorical data, we decided to explore the idea of working with a decision tree.  Decision trees generally work well with categorical data and are also easy to explain.  A visual output can help the model builder understand exactly which features and split points are important.  \n",
    "\n",
    "Because the sklearn DecisionTree function needs numeric data as an input, we used the function LabelEncoder() to transform the data. This is different than the binarization of the data we did for the KNN baseline model.  LabelEncoder simply assigns a numeric representation of a categorical value.  So for gender, MALE may be 0, FEMALE 1 and UNKNOWN 2 and so on. \n",
    "\n",
    "We then tried a variety of variables as inputs, assessing both accuracy & the importance of each feature to the model.  We also wanted to determine if the model was predicting more values than just 'NDF' as the baseline did."
   ]
  },
  {
   "cell_type": "code",
   "execution_count": 15,
   "metadata": {
    "collapsed": false
   },
   "outputs": [
    {
     "name": "stderr",
     "output_type": "stream",
     "text": [
      "/Users/giles/anaconda/envs/py27/lib/python2.7/site-packages/sklearn/preprocessing/label.py:129: DataConversionWarning: A column-vector y was passed when a 1d array was expected. Please change the shape of y to (n_samples, ), for example using ravel().\n",
      "  y = column_or_1d(y, warn=True)\n",
      "/Users/giles/anaconda/envs/py27/lib/python2.7/site-packages/ipykernel_launcher.py:5: SettingWithCopyWarning: \n",
      "A value is trying to be set on a copy of a slice from a DataFrame.\n",
      "Try using .loc[row_indexer,col_indexer] = value instead\n",
      "\n",
      "See the caveats in the documentation: http://pandas.pydata.org/pandas-docs/stable/indexing.html#indexing-view-versus-copy\n",
      "  \"\"\"\n",
      "/Users/giles/anaconda/envs/py27/lib/python2.7/site-packages/pandas/core/indexing.py:477: SettingWithCopyWarning: \n",
      "A value is trying to be set on a copy of a slice from a DataFrame.\n",
      "Try using .loc[row_indexer,col_indexer] = value instead\n",
      "\n",
      "See the caveats in the documentation: http://pandas.pydata.org/pandas-docs/stable/indexing.html#indexing-view-versus-copy\n",
      "  self.obj[item] = s\n"
     ]
    }
   ],
   "source": [
    "# Define a function that will encode columns for decision tree\n",
    "def label_encode(df, cols):\n",
    "    le = preprocessing.LabelEncoder()\n",
    "    for elem in cols:\n",
    "        df[[elem]] = le.fit_transform(df[[elem]]) \n",
    "    return df\n",
    "\n",
    "# initial crack at variable selection\n",
    "cols = ['age', 'season_created', 'month_created', 'bin_age', 'year_created', \n",
    "        'bin_lang', 'gender']\n",
    "\n",
    "dt_train = train[cols]\n",
    "label_encode(dt_train, cols)\n",
    "\n",
    "dt_dev = dev[cols]\n",
    "label_encode(dt_dev, cols)\n",
    "\n",
    "# Preprocess train & dev labels for decision tree\n",
    "le = preprocessing.LabelEncoder()\n",
    "dt_train_labels = le.fit_transform(train_labels)\n",
    "dt_dev_labels = le.fit_transform(dev_labels)"
   ]
  },
  {
   "cell_type": "code",
   "execution_count": 16,
   "metadata": {
    "collapsed": false
   },
   "outputs": [
    {
     "name": "stdout",
     "output_type": "stream",
     "text": [
      "PREDICTING ON DEV DATA:\n",
      "Best score is 0.602 with sample size of 750\n"
     ]
    },
    {
     "data": {
      "text/plain": [
       "<matplotlib.figure.Figure at 0x113b8bd90>"
      ]
     },
     "metadata": {},
     "output_type": "display_data"
    },
    {
     "data": {
      "image/png": "[encoded data removed]",
      "text/plain": [
       "<matplotlib.figure.Figure at 0x113b8bbd0>"
      ]
     },
     "metadata": {},
     "output_type": "display_data"
    }
   ],
   "source": [
    "def decision_tree(dt_train, dt_train_labels, dt_dev, dt_dev_labels, best_sample):\n",
    "    sample_sizes = [25, 50, 75, 100, 250, 300, 400, 500, 750, 1000]\n",
    "    scores = []\n",
    "    max_score = [0, 0]\n",
    "    important_feat = []\n",
    "    num_unique = []\n",
    "    for elem in sample_sizes:\n",
    "\n",
    "        # Fit decision tree model\n",
    "        dt = DecisionTreeClassifier(criterion=\"gini\", min_samples_split=elem, random_state=99)\n",
    "        dt.fit(dt_train, dt_train_labels)\n",
    "\n",
    "        # Predict with decision tree\n",
    "        preds = dt.predict(dt_dev)\n",
    "        if elem == best_sample:\n",
    "            pred_values_nodesplit500 = preds\n",
    "            dt_dev_labels_nodeplit500 = dt_dev_labels\n",
    "\n",
    "        # Catalog the unique values & scores predicted for each sample size\n",
    "        unique = pd.Series(preds).unique()\n",
    "        num_unique.append(len(unique))\n",
    "        score = dt.score(dt_dev, dt_dev_labels)\n",
    "        scores.append(score)\n",
    "\n",
    "        # Track the max score & what sample size was used, as well as\n",
    "        # the feature importances for the best score\n",
    "        if score > max_score[1]:\n",
    "            max_score = [elem, score]\n",
    "            important_feat = dt.feature_importances_ \n",
    "            max_score_global = max_score[1]\n",
    "\n",
    "    # Output best score\n",
    "    print \"PREDICTING ON DEV DATA:\"\n",
    "    print \"Best score is %.3f with sample size of %d\" % (max_score[1], max_score[0])\n",
    "    return sample_sizes, scores, num_unique, important_feat, dt_dev_labels_nodeplit500, pred_values_nodesplit500\n",
    "\n",
    "# Call function\n",
    "sample_sizes, scores, num_unique, important_feat, dt_dev_labels_nodeplit500, pred_values_nodesplit500 = decision_tree(dt_train, dt_train_labels, dt_dev, dt_dev_labels, 750)\n",
    "\n",
    "\n",
    "# Create plot to show relationship between minimum size for split & accuracy\n",
    "plt.figure(figsize=(2,3))\n",
    "fig, (ax0, ax1) = plt.subplots(ncols=2)\n",
    "fig.suptitle(\"Evaluation of Increasing Size for Node Split\", y = 1, fontsize=14)\n",
    "fig.text(0.5, 0, \"Minumum Size for Node Split\", ha='center')\n",
    "\n",
    "ax0.plot(sample_sizes, scores, 'b', label='Accuracy', linewidth=3)\n",
    "ax0.set_title(\"Accuracy\", fontsize=10)\n",
    "\n",
    "ax1.plot(sample_sizes, num_unique, 'g', label='Unique Predictions', linewidth=3)\n",
    "ax1.set_title(\"Unique Predictions\", fontsize=10)\n",
    "\n",
    "plt.show()\n",
    "\n"
   ]
  },
  {
   "cell_type": "markdown",
   "metadata": {},
   "source": [
    "On the dev data, we see the best performance is 60.2% accuracy.  This is a nearly 2% increase over the prediction on the dev set in our baseline model.  We got to this by exploring different thresholds for the minimum size on which the model will split a node.  If we keep the minimum size too small, we run the risk of overfitting.  Our best performance was with a size of 750.  So if each entry represents a person, the node will only be eligible to split again if there are more than 750 \"people\" in it.  The model's accuracy starts to decline once the node size increases over 750.  \n",
    "\n",
    "We can also see that the number of unique values predicted decreases as the node size increases.  At a minimum split of 750, we are predicting more than one unique value.  We are predicting roughly 8 unique values.\n",
    "\n",
    "Next, we want to assess the importance of each feature."
   ]
  },
  {
   "cell_type": "code",
   "execution_count": 17,
   "metadata": {
    "collapsed": false
   },
   "outputs": [
    {
     "name": "stdout",
     "output_type": "stream",
     "text": [
      "[ 0.77433187  0.0038399   0.02733506  0.00085904  0.07828225  0.01530288\n",
      "  0.100049  ]\n"
     ]
    },
    {
     "data": {
      "image/png": "[encoded data removed]",
      "text/plain": [
       "<matplotlib.figure.Figure at 0x113d1d0d0>"
      ]
     },
     "metadata": {},
     "output_type": "display_data"
    }
   ],
   "source": [
    "print important_feat\n",
    "# Create plot to show degree of importance for each feature\n",
    "num_labels = [c for c in range(len(cols))]\n",
    "labels = cols\n",
    "plt.bar(num_labels, important_feat, align='center')\n",
    "plt.xticks(num_labels, labels, rotation='vertical')\n",
    "plt.ylabel('Gini Importance')\n",
    "plt.title(\"Importance of Each Feature\")\n",
    "plt.show()"
   ]
  },
  {
   "cell_type": "markdown",
   "metadata": {},
   "source": [
    "Age appears to be the most predictive value, followed by gender.  Our feature-engineered variables of year_created and month_created also seem to be useful.  \n",
    "\n",
    "Airbnb has also provided sessions data, which contains information about users' behavior when they are on the site.  We want to incorporate variables from this data to see if we can improve the accuracy of our model.  It's important to note that the sessions data represents a narrower, more current time period than the user data does.  Because of that we want to work with the most complete dataset possible.  We chose to combine the datasets into a 'modern' dataset and rework our model.  The code to do this can be found in XXXX notebook.  ##GILES - CAN YOU ADD THIS & COMPLETE THE REFERENCE HERE?##\n",
    "\n",
    "### Decision tree model with sessions data"
   ]
  },
  {
   "cell_type": "code",
   "execution_count": 18,
   "metadata": {
    "collapsed": false
   },
   "outputs": [],
   "source": [
    "# Read in modern dataset containing user & sessions data\n",
    "# Split into dev & train sets\n",
    "train = pd.read_csv('../final_submission/data/modern_train.csv', index_col=0)\n",
    "dev = train[:7000]\n",
    "train = train[7000:]\n",
    "\n",
    "# Split off training labels & dev labels\n",
    "train_labels = train.country_destination\n",
    "dev_labels = dev.country_destination\n",
    "\n",
    "# Run feature engineering functions\n",
    "train[\"month_created\"] = train.date_account_created.apply(parse_month)\n",
    "dev[\"month_created\"] = dev.date_account_created.apply(parse_month)\n",
    "\n",
    "train[\"season_created\"] = train.month_created.apply(parse_season)\n",
    "dev[\"season_created\"] = dev.month_created.apply(parse_season)\n",
    "\n",
    "train[\"year_created\"] = train.date_account_created.apply(parse_year)\n",
    "dev[\"year_created\"] = dev.date_account_created.apply(parse_year)\n",
    "\n",
    "train[\"bin_age\"] = train.age.apply(bin_age)\n",
    "dev[\"bin_age\"] = train.age.apply(bin_age)\n",
    "\n",
    "train[\"bin_lang\"] = train.language.apply(bin_lang)\n",
    "dev[\"bin_lang\"] = dev.language.apply(bin_lang)\n"
   ]
  },
  {
   "cell_type": "markdown",
   "metadata": {},
   "source": [
    "We decide to repeat the same process with the added sessions data, using every column, and see if we can improve our accuracy."
   ]
  },
  {
   "cell_type": "code",
   "execution_count": 19,
   "metadata": {
    "collapsed": false
   },
   "outputs": [
    {
     "name": "stderr",
     "output_type": "stream",
     "text": [
      "/Users/giles/anaconda/envs/py27/lib/python2.7/site-packages/ipykernel_launcher.py:5: SettingWithCopyWarning: \n",
      "A value is trying to be set on a copy of a slice from a DataFrame.\n",
      "Try using .loc[row_indexer,col_indexer] = value instead\n",
      "\n",
      "See the caveats in the documentation: http://pandas.pydata.org/pandas-docs/stable/indexing.html#indexing-view-versus-copy\n",
      "  \"\"\"\n",
      "/Users/giles/anaconda/envs/py27/lib/python2.7/site-packages/numpy/lib/arraysetops.py:216: FutureWarning: numpy not_equal will not check object identity in the future. The comparison did not return the same result as suggested by the identity (`is`)) and will change.\n",
      "  flag = np.concatenate(([True], aux[1:] != aux[:-1]))\n"
     ]
    }
   ],
   "source": [
    "# Include every column\n",
    "cols = ['age', 'season_created', 'month_created', 'bin_age', 'year_created', \n",
    "        'bin_lang', 'gender','signup_method', 'signup_app', 'signup_flow', 'first_device_type', 'first_browser',\n",
    "        'affiliate_channel', 'affiliate_provider', 'first_affiliate_tracked', 'number_visits', 'number_devices',\n",
    "        'longest_session', 'total_time_on_site']\n",
    "\n",
    "# Label encode our training & dev data for input to decision tree\n",
    "dt_train = train[cols]\n",
    "label_encode(dt_train, cols)\n",
    "\n",
    "dt_dev = dev[cols]\n",
    "label_encode(dt_dev, cols)\n",
    "\n",
    "# Preprocess train & dev labels for decision tree\n",
    "le = preprocessing.LabelEncoder()\n",
    "dt_train_labels = le.fit_transform(train_labels)\n",
    "dt_dev_labels = le.fit_transform(dev_labels)"
   ]
  },
  {
   "cell_type": "code",
   "execution_count": 20,
   "metadata": {
    "collapsed": false
   },
   "outputs": [
    {
     "name": "stdout",
     "output_type": "stream",
     "text": [
      "PREDICTING ON DEV DATA:\n",
      "Best score is 0.651 with sample size of 750\n"
     ]
    },
    {
     "data": {
      "image/png": "[encoded data removed]",
      "text/plain": [
       "<matplotlib.figure.Figure at 0x112613890>"
      ]
     },
     "metadata": {},
     "output_type": "display_data"
    }
   ],
   "source": [
    "# Call function\n",
    "sample_sizes, scores, num_unique, important_feat, dt_dev_labels_nodeplit500, pred_values_nodesplit500 = decision_tree(dt_train, dt_train_labels, dt_dev, dt_dev_labels, 750)\n",
    "\n",
    "# Create plot to show degree of importance for each feature\n",
    "num_labels = [c for c in range(len(cols))]\n",
    "labels = cols\n",
    "plt.bar(num_labels, important_feat, align='center')\n",
    "plt.xticks(num_labels, labels, rotation='vertical')\n",
    "plt.ylabel('Gini Importance')\n",
    "plt.title(\"Importance of Each Feature\")\n",
    "plt.show()\n"
   ]
  },
  {
   "cell_type": "markdown",
   "metadata": {},
   "source": [
    "We see some features are just not useful.  We're going to pare down the list of input variables to improve accuracy and then do some error analysis to see where we're going wrong."
   ]
  },
  {
   "cell_type": "code",
   "execution_count": 21,
   "metadata": {
    "collapsed": false
   },
   "outputs": [
    {
     "name": "stderr",
     "output_type": "stream",
     "text": [
      "/Users/giles/anaconda/envs/py27/lib/python2.7/site-packages/ipykernel_launcher.py:5: SettingWithCopyWarning: \n",
      "A value is trying to be set on a copy of a slice from a DataFrame.\n",
      "Try using .loc[row_indexer,col_indexer] = value instead\n",
      "\n",
      "See the caveats in the documentation: http://pandas.pydata.org/pandas-docs/stable/indexing.html#indexing-view-versus-copy\n",
      "  \"\"\"\n"
     ]
    },
    {
     "name": "stdout",
     "output_type": "stream",
     "text": [
      "PREDICTING ON DEV DATA:\n",
      "Best score is 0.656 with sample size of 750\n"
     ]
    }
   ],
   "source": [
    "# Use pared down list of columns\n",
    "cols = ['age', 'month_created', 'gender','signup_method', 'signup_flow', 'first_device_type', \n",
    "        'first_browser', 'affiliate_channel', 'number_visits', 'longest_session', 'total_time_on_site']\n",
    "\n",
    "\n",
    "# Label encode our training & dev data for input to decision tree\n",
    "dt_train = train[cols]\n",
    "label_encode(dt_train, cols)\n",
    "\n",
    "dt_dev = dev[cols]\n",
    "label_encode(dt_dev, cols)\n",
    "\n",
    "# Preprocess train & dev labels for decision tree\n",
    "le = preprocessing.LabelEncoder()\n",
    "dt_train_labels = le.fit_transform(train_labels)\n",
    "dt_dev_labels = le.fit_transform(dev_labels)\n",
    "\n",
    "# Call decision tree function\n",
    "sample_sizes, scores, num_unique, important_feat, dt_dev_labels_nodeplit500, pred_values_nodesplit500 = decision_tree(dt_train, dt_train_labels, dt_dev, dt_dev_labels, 750)"
   ]
  },
  {
   "cell_type": "markdown",
   "metadata": {},
   "source": [
    "By paring down our input variables, we are able to improve the model's accuracy by 0.5%.  However, we are predicting fewer unique features.  Now we want to take a closer look at where the model is making mistakes and see if we can improve its ability to predict more unique features."
   ]
  },
  {
   "cell_type": "markdown",
   "metadata": {},
   "source": [
    "### Error Analysis: Confusion Matrix"
   ]
  },
  {
   "cell_type": "code",
   "execution_count": 22,
   "metadata": {
    "collapsed": false
   },
   "outputs": [
    {
     "name": "stdout",
     "output_type": "stream",
     "text": [
      "Building testing confusion matrix...\n"
     ]
    },
    {
     "data": {
      "image/png": "[encoded data removed]",
      "text/plain": [
       "<matplotlib.figure.Figure at 0x11115d1d0>"
      ]
     },
     "metadata": {},
     "output_type": "display_data"
    }
   ],
   "source": [
    "def confusion_mat(dt_dev_labels_nodeplit500, pred_values_nodesplit500):\n",
    "    # get overall accuracy and F1 score to print at top of plot\n",
    "    pscore = metrics.accuracy_score(dt_dev_labels_nodeplit500, pred_values_nodesplit500)\n",
    "    # score = metrics.f1_score(y_test, pred, pos_label=list(set(y_test)))\n",
    "    # get size of the full label set\n",
    "    unique_pred_values_nodesplit500 = np.unique(pred_values_nodesplit500)\n",
    "    unique_dev_labels = np.unique(dt_dev_labels_nodeplit500)\n",
    "    dur = len(unique_dev_labels)\n",
    "    print \"Building testing confusion matrix...\"\n",
    "    # initialize score matrices\n",
    "    trueScores = np.zeros(shape=(dur,dur))\n",
    "    predScores = np.zeros(shape=(dur,dur))\n",
    "    # populate totals\n",
    "    for i in xrange(len(dt_dev_labels_nodeplit500)-1):\n",
    "      trueIdx = dt_dev_labels_nodeplit500[i]\n",
    "      predIdx = pred_values_nodesplit500[i]\n",
    "      trueScores[trueIdx,trueIdx] += 1\n",
    "      predScores[trueIdx,predIdx] += 1\n",
    "    # create %-based results\n",
    "    trueSums = np.sum(trueScores,axis=0)\n",
    "    conf = np.zeros(shape=predScores.shape)\n",
    "    for i in xrange(len(predScores)):\n",
    "      for j in xrange(dur):\n",
    "        conf[i,j] = predScores[i,j] / trueSums[i]\n",
    "    # plot the confusion matrix\n",
    "    hq = pl.figure(figsize=(10,10));\n",
    "    aq = hq.add_subplot(1,1,1)\n",
    "    aq.set_aspect(1)\n",
    "    res = aq.imshow(conf,cmap=pl.get_cmap('Blues'),interpolation='nearest',vmin=-0.05,vmax=1.)\n",
    "    width = len(conf)\n",
    "    height = len(conf[0])\n",
    "    done = []\n",
    "    # label each grid cell with the misclassification rates\n",
    "    for w in xrange(width):\n",
    "      for h in xrange(height):\n",
    "          pval = conf[w][h]\n",
    "          c = 'k'\n",
    "          rais = w\n",
    "          if pval > 0.5: c = 'w'\n",
    "          if pval > 0.001:\n",
    "            if w == h:\n",
    "              aq.annotate(\"{0:1.1f}%\\n{1:1.0f}/{2:1.0f}\".format(pval*100.,predScores[w][h],trueSums[w]), xy=(h, w), \n",
    "                      horizontalalignment='center',\n",
    "                      verticalalignment='center',color=c,size=10)\n",
    "            else:\n",
    "              aq.annotate(\"{0:1.1f}%\\n{1:1.0f}\".format(pval*100.,predScores[w][h]), xy=(h, w), \n",
    "                      horizontalalignment='center',\n",
    "                      verticalalignment='center',color=c,size=10)\n",
    "    # label the axes\n",
    "    pl.xticks(range(width), unique_dev_labels[:width],rotation=90,size=10)\n",
    "    pl.yticks(range(height), unique_dev_labels[:height],size=10)\n",
    "    # add a title with the F1 score and accuracy\n",
    "    aq.set_title(\" Prediction, Test Set (f1: \"+\"{0:1.3f}\".format(np.max(scores))+', accuracy: '+'{0:2.1f}%'.format(100*pscore)+\", \" + str(len(unique_dev_labels)) + \" items)\",fontname='Arial',size=10,color='k')\n",
    "    aq.set_ylabel(\"Actual\",fontname='Arial',size=10,color='k')\n",
    "    aq.set_xlabel(\"Predicted\",fontname='Arial',size=10,color='k')\n",
    "    pl.grid(b=True,axis='both')\n",
    "    # save it\n",
    "    pl.savefig(\"pred.conf.test.png\")\n",
    "    \n",
    "confusion_mat(dt_dev_labels_nodeplit500, pred_values_nodesplit500)"
   ]
  },
  {
   "cell_type": "markdown",
   "metadata": {
    "collapsed": true
   },
   "source": [
    "We can see that the model is fairly good at accurately predicting a label of 7 (which represents 'NDF' - No Destination Found).  But there are 1056 cases where the model predicts NDF, and the actual label should be US. Additionally, there are 183 cases where it is predicting NDF, and the actual label should be 'other.' \n",
    "\n",
    "The model is only marginally good at predicting a label of 10, which represents US.  It accurately predicts this label 46.7% of the time.  However there are 601 cases in chich it predicts a label of US when it should be NDF, and there are 161 cases in which it predicts US when the label should be other.  \n",
    "\n",
    "We want to see if we can reduce the signal from NDF and boost the signal from other classes to improve prediction.\n",
    "\n",
    "### Adding Bias: Boosting signal from rare events"
   ]
  },
  {
   "cell_type": "code",
   "execution_count": 23,
   "metadata": {
    "collapsed": false
   },
   "outputs": [
    {
     "name": "stderr",
     "output_type": "stream",
     "text": [
      "/Users/giles/anaconda/envs/py27/lib/python2.7/site-packages/ipykernel_launcher.py:13: SettingWithCopyWarning: \n",
      "A value is trying to be set on a copy of a slice from a DataFrame.\n",
      "Try using .loc[row_indexer,col_indexer] = value instead\n",
      "\n",
      "See the caveats in the documentation: http://pandas.pydata.org/pandas-docs/stable/indexing.html#indexing-view-versus-copy\n",
      "  del sys.path[0]\n"
     ]
    }
   ],
   "source": [
    "# Define function to replicate rows with specific values, in a specific column\n",
    "# This will allow us to boost the signal associated with underrepresented labels\n",
    "def repeat_rows(df, vals, boost=2, column='country_destination'):\n",
    "    new_df = df\n",
    "    for val in vals:\n",
    "        for i in range(boost):\n",
    "            is_value = df[column] == val\n",
    "            df_try = df[is_value]\n",
    "            new_df = new_df.append([df_try],ignore_index=True)\n",
    "    return new_df.sample(frac=1).reset_index(drop=True)\n",
    "\n",
    "# Add labels column back to training data to make function work\n",
    "dt_train['country_destination'] = train_labels\n",
    "\n",
    "vals = ['AU', 'CA', 'DE', 'ES', 'FR', 'GB', 'IT', 'NL', 'PT',\n",
    "       'other']\n",
    "bias_train = repeat_rows(dt_train, vals, boost=1)\n",
    "\n",
    "# Split off training labels & dev labels\n",
    "train_labels = bias_train.country_destination\n",
    "# Preprocess train & labels for decision tree\n",
    "le = preprocessing.LabelEncoder()\n",
    "dt_train_labels = le.fit_transform(train_labels)"
   ]
  },
  {
   "cell_type": "code",
   "execution_count": 24,
   "metadata": {
    "collapsed": false
   },
   "outputs": [
    {
     "name": "stdout",
     "output_type": "stream",
     "text": [
      "PREDICTING ON DEV DATA:\n",
      "Best score is 0.660 with sample size of 1000\n"
     ]
    }
   ],
   "source": [
    "# Use same pared down list of columns\n",
    "cols = ['age', 'month_created', 'gender','signup_method', 'signup_flow', 'first_device_type', \n",
    "        'first_browser', 'affiliate_channel', 'number_visits', 'longest_session', 'total_time_on_site']\n",
    "\n",
    "dt_train = bias_train[cols]\n",
    "\n",
    "# Call decision tree function\n",
    "sample_sizes, scores, num_unique, important_feat, dt_dev_labels_nodeplit500, pred_values_nodesplit500 = decision_tree(dt_train, dt_train_labels, dt_dev, dt_dev_labels, 1000)\n"
   ]
  },
  {
   "cell_type": "code",
   "execution_count": 25,
   "metadata": {
    "collapsed": false
   },
   "outputs": [
    {
     "name": "stdout",
     "output_type": "stream",
     "text": [
      "Building testing confusion matrix...\n"
     ]
    },
    {
     "data": {
      "image/png": "[encoded data removed]",
      "text/plain": [
       "<matplotlib.figure.Figure at 0x1107c6390>"
      ]
     },
     "metadata": {},
     "output_type": "display_data"
    }
   ],
   "source": [
    "# Output confusion matrix\n",
    "confusion_mat(dt_dev_labels_nodeplit500, pred_values_nodesplit500)"
   ]
  },
  {
   "cell_type": "markdown",
   "metadata": {},
   "source": [
    "By boosting the signal from the non-NDF and non-US entries in our training data, we gained a 0.4% increase in accuracy.  Though we are still only predicting two values, we are doing so with greater accuracy.  Accurate predictions for NDF increased by 0.1%.  Accurate predictions for 'US' increased by 0.9%."
   ]
  },
  {
   "cell_type": "markdown",
   "metadata": {},
   "source": [
    "### Summary: Improvements with decision tree\n",
    "\n",
    "Below we have listed each adjustment made to our model development process and the resulting accuracy with predictions on the dev data:\n",
    "\n",
    "+ Baseline w/ KNN: **58.0%**\n",
    "+ Switch to decision tree: **60.2%**\n",
    "+ Incorporate sessions data & restrict time period: **65.1%**\n",
    "+ Prune variables: **65.6%**\n",
    "+ Boost non-NDF & non-US entries in training data: **66.0%**\n",
    "\n",
    "A visualization of the final decision tree that delivered 66% accuracy on the dev set has been included with this notebook submission.  See 'dt_final.png'."
   ]
  },
  {
   "cell_type": "markdown",
   "metadata": {},
   "source": [
    "## Part 5b: Logistic Regression Model\n",
    "\n",
    "We looked at a logistic regression model in parallel with the decision tree. This model uses the aggregated data set. "
   ]
  },
  {
   "cell_type": "markdown",
   "metadata": {},
   "source": [
    "#### Prepare data sets"
   ]
  },
  {
   "cell_type": "code",
   "execution_count": 28,
   "metadata": {
    "collapsed": false
   },
   "outputs": [
    {
     "name": "stdout",
     "output_type": "stream",
     "text": [
      "full dataset shape: (135911, 26)\n",
      "dev labels shape: (8850,)\n",
      "train_labels shape: (64965,)\n"
     ]
    }
   ],
   "source": [
    "# Load full data set (combined with actions)\n",
    "train = pd.read_csv('../final_submission/data/train_combined_actions.zip')\n",
    "\n",
    "# load test data\n",
    "test = pd.read_csv('../final_submission/data/test_combined_actions.zip')\n",
    "\n",
    "# subset full data set to only include users that have sessions data, remove action counts for now \n",
    "mod_train = train[train.count_actions.isnull() != True]\n",
    "mod_train = mod_train.reset_index().iloc[: , 1:]\n",
    "\n",
    "# Shuffle training set\n",
    "shuffle = np.random.permutation(np.arange(mod_train.shape[0]))\n",
    "mod_train = mod_train.reindex(shuffle)\n",
    "\n",
    "# Split labels from training set\n",
    "train_labels = mod_train['country_destination']\n",
    "train_data = mod_train.drop('country_destination', axis=1)\n",
    "\n",
    "# Concatenate test data (so able to binarize categorical features later)\n",
    "data = pd.concat((train_data, test))\n",
    "\n",
    "# remove action features\n",
    "col = data.columns.get_loc(\"last_action\") # last column index before action columns begin\n",
    "data = data.iloc[: , :col+1]\n",
    "\n",
    "# Define row index on where to split full dataset for dev, train, and test\n",
    "dev_cutoff = 8850   # 12% of training data\n",
    "test_cutoff = mod_train.shape[0]\n",
    "\n",
    "dev_labels, train_labels = train_labels[:dev_cutoff], train_labels[dev_cutoff:]\n",
    "\n",
    "print \"full dataset shape:\", data.shape \n",
    "print \"dev labels shape:\", dev_labels.shape \n",
    "print \"train_labels shape:\", train_labels.shape"
   ]
  },
  {
   "cell_type": "markdown",
   "metadata": {},
   "source": [
    "#### Encode labels\n",
    "Use 'NDF', 'US', and 'non-US' on labels to improve computational speed and accuracy"
   ]
  },
  {
   "cell_type": "code",
   "execution_count": 31,
   "metadata": {
    "collapsed": false
   },
   "outputs": [
    {
     "name": "stdout",
     "output_type": "stream",
     "text": [
      "(64965,)\n",
      "(8850,)\n",
      "{'non-US': 2, 'US': 1, 'NDF': 0}\n"
     ]
    }
   ],
   "source": [
    "# Output 3 classes: NDF, US, Non-US\n",
    "def country(col):\n",
    "    if col == 'NDF':\n",
    "        return \"NDF\"\n",
    "    elif col == 'US':\n",
    "        return 'US'\n",
    "    else:\n",
    "        return 'non-US'\n",
    "    \n",
    "t = train_labels.apply(country)\n",
    "d = dev_labels.apply(country)\n",
    "\n",
    "# Convert labels to numeric\n",
    "le = preprocessing.LabelEncoder() # Initialize label_encoder\n",
    "t_lab, d_lab = le.fit_transform(t), le.fit_transform(d)\n",
    "\n",
    "print t_lab.shape\n",
    "print d_lab.shape \n",
    "\n",
    "country_code = dict(zip(le.classes_, le.transform(le.classes_)))\n",
    "print country_code"
   ]
  },
  {
   "cell_type": "markdown",
   "metadata": {},
   "source": [
    "#### Iterate through features\n",
    "See which features improve accuracy the most using Logistic Regression. Also run both L1 and L2 regularization on the models. Examine confusion matrix at every iteration to see if the model is predicting labels other than 'NDF'."
   ]
  },
  {
   "cell_type": "code",
   "execution_count": 33,
   "metadata": {
    "collapsed": false
   },
   "outputs": [
    {
     "name": "stdout",
     "output_type": "stream",
     "text": [
      "First Feature: bin_age\n",
      "L1 num cols:  5 score: 0.612881355932\n",
      "L2 num cols:  5 score: 0.612881355932\n",
      "[[5424 2425 1001]\n",
      " [   0    0    0]\n",
      " [   0    0    0]]\n",
      "\n",
      "Added Feature: first_browser\n",
      "L1 num cols:  45 score: 0.617627118644\n",
      "L2 num cols:  45 score: 0.617627118644\n",
      "\n",
      "Added Feature: gender\n",
      "L1 num cols:  49 score: 0.623050847458\n",
      "L2 num cols:  49 score: 0.623050847458\n",
      "\n",
      "Added Feature: signup_method\n",
      "L1 num cols:  53 score: 0.655367231638\n",
      "L2 num cols:  53 score: 0.655367231638\n",
      "\n",
      "Added Feature: last_action\n",
      "L1 num cols:  185 score: 0.666101694915\n",
      "L2 num cols:  185 score: 0.665988700565\n",
      "\n",
      "Added Feature: count_actions\n"
     ]
    },
    {
     "name": "stderr",
     "output_type": "stream",
     "text": [
      "/Users/giles/anaconda/envs/py27/lib/python2.7/site-packages/ipykernel_launcher.py:66: FutureWarning: reshape is deprecated and will raise in a subsequent release. Please use .values.reshape(...) instead\n",
      "/Users/giles/anaconda/envs/py27/lib/python2.7/site-packages/ipykernel_launcher.py:67: FutureWarning: reshape is deprecated and will raise in a subsequent release. Please use .values.reshape(...) instead\n",
      "/Users/giles/anaconda/envs/py27/lib/python2.7/site-packages/ipykernel_launcher.py:68: FutureWarning: reshape is deprecated and will raise in a subsequent release. Please use .values.reshape(...) instead\n"
     ]
    },
    {
     "name": "stdout",
     "output_type": "stream",
     "text": [
      "L1 num cols:  186 score: 0.664971751412\n",
      "L2 num cols:  186 score: 0.664971751412\n",
      "[[4666 1205  550]\n",
      " [ 757 1218  450]\n",
      " [   1    2    1]]\n"
     ]
    }
   ],
   "source": [
    "def binarize(data, devcut, testcut, column): \n",
    "    dev_bin = pd.get_dummies(data[column])[:devcut]\n",
    "    train_bin = pd.get_dummies(data[column])[devcut:testcut]\n",
    "    test_bin = pd.get_dummies(data[column])[testcut:]\n",
    "    return dev_bin, train_bin, test_bin\n",
    "\n",
    "def logreg(c, penalty, train, train_label, dev, dev_label):\n",
    "    lm = LogisticRegression(C = c, penalty = penalty)\n",
    "    lm.fit(tr, t_lab)\n",
    "    score = lm.score(d, d_lab)\n",
    "    return lm, score\n",
    "    \n",
    "cat_feat = ['bin_age', 'first_browser', 'gender', 'signup_method', 'last_action']\n",
    "# cat_feat = ['bin_age', 'first_browser', 'gender', 'signup_method', 'last_action', \n",
    "#             'season_created', 'first_device_type', 'signup_app', 'affiliate_channel', 'first_hour']\n",
    "\n",
    "# underperforming categorical variables: \n",
    "# 'season_created', 'first_device_type', signup_app', 'affiliate_channel', 'first_hour'\n",
    "\n",
    "# Initialize with first feature column \n",
    "d, tr, te = binarize(data, dev_cutoff, test_cutoff, cat_feat[0])\n",
    "\n",
    "print \"First Feature:\", cat_feat[0] \n",
    "lm1, score1 = logreg(50, \"l1\", tr, t_lab, d, d_lab) # Run logreg with l1 penalty\n",
    "print \"L1 num cols: \", tr.shape[1], \"score:\", score1 \n",
    "\n",
    "lm2, score2 = logreg(50, \"l2\", tr, t_lab, d, d_lab) # Run logreg with l2 penalty\n",
    "print \"L2 num cols: \", tr.shape[1], \"score:\", score2 \n",
    "\n",
    "pred = lm2.predict(d)\n",
    "conf = confusion_matrix(pred, d_lab)\n",
    "print(conf)\n",
    "\n",
    "d2, tr2, te2 = binarize(data, dev_cutoff, test_cutoff, cat_feat[2])\n",
    "\n",
    "# Binarize categorical features, add to dataset, run logistic regression on binarized features\n",
    "for x in cat_feat[1:]:\n",
    "    d_bin, tr_bin, te_bin = binarize(data, dev_cutoff, test_cutoff, x)\n",
    "    d = np.concatenate((d, d_bin), axis=1)\n",
    "    tr = np.concatenate((tr, tr_bin), axis=1)\n",
    "    te = np.concatenate((te, te_bin), axis=1)\n",
    "\n",
    "    # Run logistic regression on data set with added feature\n",
    "    print \"\\nAdded Feature:\", x \n",
    "    lm1, score1 = logreg(50, \"l1\", tr, t_lab, d, d_lab)\n",
    "    print \"L1 num cols: \", tr.shape[1], \"score:\", score1 \n",
    "    lm2, score2 = logreg(50, \"l2\", tr, t_lab, d, d_lab)\n",
    "    print \"L2 num cols: \", tr.shape[1], \"score:\", score2 \n",
    "\n",
    "# underperforming numerical features:\n",
    "# 'days_since_creation', 'total_time', 'number_devices', 'longest_session', 'request_photography'\n",
    "\n",
    "# num_feat = ['count_actions', 'days_since_creation', 'total_time', \n",
    "#             'number_devices', 'longest_session']\n",
    "\n",
    "num_feat = ['count_actions']\n",
    "\n",
    "for y in num_feat:\n",
    "    # get column and fill in NaNs with training data column mean\n",
    "    mean = np.mean(data[y][dev_cutoff:test_cutoff])\n",
    "    \n",
    "    tr_col = data[y][dev_cutoff:test_cutoff].fillna(mean)\n",
    "    d_col = data[y][:dev_cutoff].fillna(mean)\n",
    "    te_col = data[y][test_cutoff:].fillna(mean)\n",
    "    \n",
    "    tr_col = tr_col.reshape(tr.shape[0], 1)\n",
    "    d_col = d_col.reshape(d.shape[0], 1)\n",
    "    te_col = te_col.reshape(te.shape[0], 1)\n",
    "    \n",
    "    # add column to previous training set\n",
    "    tr = np.concatenate((tr, tr_col), axis=1)\n",
    "    d = np.concatenate((d, d_col), axis=1)\n",
    "    te = np.concatenate((te, te_col), axis=1)\n",
    "\n",
    "    # Run logistic regression on data set with added feature\n",
    "    print \"\\nAdded Feature:\", y \n",
    "    lm1, score1 = logreg(50, \"l1\", tr, t_lab, d, d_lab)\n",
    "    print \"L1 num cols: \", tr.shape[1], \"score:\", score1 \n",
    "    lm2, score2 = logreg(50, \"l2\", tr, t_lab, d, d_lab)\n",
    "    print \"L2 num cols: \", tr.shape[1], \"score:\", score2\n",
    "\n",
    "pred = lm2.predict(d)\n",
    "conf = confusion_matrix(pred, d_lab)\n",
    "print conf "
   ]
  },
  {
   "cell_type": "markdown",
   "metadata": {},
   "source": [
    "#### Iterate through Cs to find best C"
   ]
  },
  {
   "cell_type": "code",
   "execution_count": 34,
   "metadata": {
    "collapsed": false
   },
   "outputs": [
    {
     "name": "stdout",
     "output_type": "stream",
     "text": [
      "\n",
      "L1 num cols:  186,  C: 0.5,  score: 0.6661\n",
      "L2 num cols:  186,  C: 0.5,  score: 0.6653\n",
      "\n",
      "L1 num cols:  186,  C:  1,  score: 0.6654\n",
      "L2 num cols:  186,  C:  1,  score: 0.6652\n",
      "\n",
      "L1 num cols:  186,  C: 10,  score: 0.6653\n",
      "L2 num cols:  186,  C: 10,  score: 0.6652\n",
      "\n",
      "L1 num cols:  186,  C: 50,  score: 0.6650\n",
      "L2 num cols:  186,  C: 50,  score: 0.6650\n",
      "\n",
      "L1 num cols:  186,  C: 100,  score: 0.6650\n",
      "L2 num cols:  186,  C: 100,  score: 0.6651\n",
      "('\\nBest L1 c:', 0.5, 'score:', 0.66610169491525428)\n",
      "('Best L2 c:', 0.5, 'score:', 0.66531073446327682)\n"
     ]
    }
   ],
   "source": [
    "# Run last model and iterate over Cs\n",
    "Cs = [0.5, 1, 10, 50, 100]\n",
    "\n",
    "max1, max2 = 0, 0\n",
    "c1, c2 = 0, 0\n",
    "\n",
    "for c in Cs: \n",
    "    lm1, score1 = logreg(c, \"l1\", tr, t_lab, d, d_lab)\n",
    "    print(\"\\nL1 num cols: %4s,  C: %2s,  score: %.4f\" %(tr.shape[1], c, score1))\n",
    "    \n",
    "    lm2, score2 = logreg(c, \"l2\", tr, t_lab, d, d_lab)\n",
    "    print(\"L2 num cols: %4s,  C: %2s,  score: %.4f\" %(tr.shape[1], c, score2))\n",
    "    \n",
    "    if score1 > max1:\n",
    "        max1 = score1\n",
    "        c1 = c\n",
    "    if score2 > max2:\n",
    "        max2 = score2\n",
    "        c2 = c\n",
    "    \n",
    "print(\"\\nBest L1 c:\", c1, \"score:\", max1)\n",
    "print(\"Best L2 c:\", c2, \"score:\", max2)"
   ]
  },
  {
   "cell_type": "markdown",
   "metadata": {},
   "source": [
    "### Summary: Improvements with logistic regression \n",
    "\n",
    "After reviewing a number of features using the logistic regression model, we determined that the best features to use are: \n",
    "+ bin_age, first_browser, gender, signup_method, last_action, count_actions\n",
    "\n",
    "Features that made the model underperform were: \n",
    "+ bin_language, season created, first_device_type, signup_app, affiliate_channel, first_hour, days_since_creation, total_time, number_devices, longest_session\n",
    "\n",
    "Below are some methods we attempted to improve the logistic regression model:\n",
    "+ Using full training set with age bins only: **58.3%**\n",
    "+ Using full training set with all features above: **63.5%**\n",
    "+ Using restricted training set (post 2014) and all features: **66.5%**\n",
    "+ Using restricted training set (post 2014) and best features:**66.6**\n",
    "\n",
    "We trimmed out the underperforming features in order to improve on compuation time, since accuracy did not improve. \n",
    "\n",
    "We also coded the labels to just 3 classes: 'NDF', 'US', and 'other' in order to improve computational time. \n",
    "+ Timing on restricted training set (post 2014) with 12 classes: **721.3 seconds**\n",
    "+ Timing on restricted training set (post 2014) with 3 classes: **38.2 seconds**\n",
    "\n",
    "Using the restricted data set, 3 class labels, and best features, our best tuning parameters are: \n",
    "+ L1 with C=10 \n",
    "+ L2 with C=1\n",
    "\n",
    "However all the C values tested had similar accuracy scores."
   ]
  },
  {
   "cell_type": "markdown",
   "metadata": {
    "collapsed": false,
    "scrolled": true
   },
   "source": [
    "## Part 6: Logistic Regression vs. Decision Tree on test data\n",
    "\n",
    "After making all of our improvements to the decision tree and logistic regression models, we predicted on test data for both.\n",
    "\n",
    "**Decision Tree**\n",
    "\n",
    "Our model predicted 5 unique variables for the test data: NDF, US, other, IT & AU.  Our Kaggle submission got a **70.6%** accuracy, which is approximately a 1% improvement over our baseline submission.\n",
    "\n",
    "**Logistic Regression**\n",
    "\n",
    "Our model predicts three classes: NDF, US, and non-US. For the Kaggle submission, all non-US predictions were coded as 'other' since it is the third most popular label.  Our Kaggle submission got a **71.5%** accuracy, which is approximately a 2% improvement over our baseline submission."
   ]
  }
 ],
 "metadata": {
  "anaconda-cloud": {},
  "kernelspec": {
   "display_name": "Python 2",
   "language": "python",
   "name": "python2"
  },
  "language_info": {
   "codemirror_mode": {
    "name": "ipython",
    "version": 2
   },
   "file_extension": ".py",
   "mimetype": "text/x-python",
   "name": "python",
   "nbconvert_exporter": "python",
   "pygments_lexer": "ipython2",
   "version": "2.7.13"
  }
 },
 "nbformat": 4,
 "nbformat_minor": 1
}
