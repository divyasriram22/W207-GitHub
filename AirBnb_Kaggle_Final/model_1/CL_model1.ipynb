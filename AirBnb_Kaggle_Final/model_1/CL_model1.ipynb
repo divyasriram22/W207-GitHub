{
 "cells": [
  {
   "cell_type": "code",
   "execution_count": 119,
   "metadata": {
    "collapsed": false
   },
   "outputs": [],
   "source": [
    "# This tells matplotlib not to try opening a new window for each plot.\n",
    "%matplotlib inline\n",
    "\n",
    "# General libraries.\n",
    "import re\n",
    "import numpy as np\n",
    "import pandas as pd\n",
    "import matplotlib.pyplot as plt\n",
    "\n",
    "# SK-learn library for preprocessing\n",
    "from sklearn import preprocessing\n",
    "\n",
    "# SK-learn libraries for learning.\n",
    "from sklearn.pipeline import Pipeline\n",
    "from sklearn.neighbors import KNeighborsClassifier\n",
    "from sklearn.linear_model import LogisticRegression\n",
    "from sklearn.naive_bayes import BernoulliNB\n",
    "from sklearn.naive_bayes import MultinomialNB\n",
    "from sklearn.grid_search import GridSearchCV\n",
    "\n",
    "# SK-learn libraries for evaluation.\n",
    "from sklearn.metrics import confusion_matrix\n",
    "from sklearn import metrics\n",
    "from sklearn.metrics import classification_report\n",
    "\n",
    "# Set the randomizer seed so results are the same each time.\n",
    "np.random.seed(0)\n"
   ]
  },
  {
   "cell_type": "code",
   "execution_count": 127,
   "metadata": {
    "collapsed": false
   },
   "outputs": [],
   "source": [
    "# Read in csv and create arrays\n",
    "users_train_raw = pd.read_csv('../zip_files/train_users_2.csv.zip')\n",
    "sessions_raw = pd.read_csv('../zip_files/sessions.csv.zip')\n",
    "demographics = pd.read_csv('../zip_files/age_gender_bkts.csv.zip')\n",
    "countries = pd.read_csv('../zip_files/countries.csv.zip')\n",
    "test = pd.read_csv('../zip_files/test_users.csv.zip')\n",
    "\n"
   ]
  },
  {
   "cell_type": "code",
   "execution_count": 262,
   "metadata": {
    "collapsed": false
   },
   "outputs": [
    {
     "name": "stderr",
     "output_type": "stream",
     "text": [
      "c:\\Users\\cendy\\Anaconda3\\lib\\site-packages\\sklearn\\utils\\validation.py:429: DataConversionWarning: Data with input dtype int64 was converted to float64 by the normalize function.\n",
      "  warnings.warn(msg, _DataConversionWarning)\n"
     ]
    }
   ],
   "source": [
    "# Shuffle data\n",
    "np.random.seed(0)\n",
    "shuffle = np.random.permutation(np.arange(users_train_raw.shape[0]))\n",
    "len(shuffle)\n",
    "x = users_train_raw.reindex(shuffle).ix[:,1:] # remove user_id\n",
    "\n",
    "# encode all values in numbers \n",
    "y = pd.DataFrame()\n",
    "for column in list(x):\n",
    "    y[column] = pd.factorize(x[column], sort=True)[0]\n",
    "\n",
    "# split out labels from features\n",
    "# normalize features\n",
    "data, labels = preprocessing.normalize(np.asarray(y)[:,:-1]), np.asarray(y)[:,-1]\n",
    "\n",
    "# Split into train and dev.\n",
    "dev_data, dev_labels = data[:25000], labels[:25000]\n",
    "train_data, train_labels = data[25000:], labels[25000:]"
   ]
  },
  {
   "cell_type": "code",
   "execution_count": 263,
   "metadata": {
    "collapsed": false
   },
   "outputs": [
    {
     "name": "stdout",
     "output_type": "stream",
     "text": [
      "(188451, 14)\n",
      "(25000, 14)\n"
     ]
    }
   ],
   "source": [
    "print((train_data.shape))\n",
    "print((dev_data.shape))"
   ]
  },
  {
   "cell_type": "code",
   "execution_count": 270,
   "metadata": {
    "collapsed": false
   },
   "outputs": [
    {
     "name": "stdout",
     "output_type": "stream",
     "text": [
      "training data shape: (188451, 14)\n",
      "training label shape: (188451,)\n",
      "dev data shape: (25000, 14)\n",
      "dev label shape: (25000,)\n",
      "labels names: ['AU' 'CA' 'DE' 'ES' 'FR' 'GB' 'IT' 'NDF' 'NL' 'PT' 'US' 'other']\n"
     ]
    }
   ],
   "source": [
    "label_names = np.unique(x[\"country_destination\"])\n",
    "\n",
    "print ('training data shape:', train_data.shape)\n",
    "print ('training label shape:', train_labels.shape)\n",
    "print ('dev data shape:', dev_data.shape)\n",
    "print ('dev label shape:', dev_labels.shape)\n",
    "print ('labels names:', label_names)"
   ]
  },
  {
   "cell_type": "code",
   "execution_count": 271,
   "metadata": {
    "collapsed": false
   },
   "outputs": [
    {
     "name": "stderr",
     "output_type": "stream",
     "text": [
      "c:\\Users\\cendy\\Anaconda3\\lib\\site-packages\\sklearn\\naive_bayes.py:801: RuntimeWarning: divide by zero encountered in log\n",
      "  self.feature_log_prob_ = (np.log(smoothed_fc) -\n",
      "c:\\Users\\cendy\\Anaconda3\\lib\\site-packages\\sklearn\\naive_bayes.py:820: RuntimeWarning: divide by zero encountered in log\n",
      "  neg_prob = np.log(1 - np.exp(self.feature_log_prob_))\n",
      "c:\\Users\\cendy\\Anaconda3\\lib\\site-packages\\sklearn\\naive_bayes.py:823: RuntimeWarning: invalid value encountered in add\n",
      "  jll += self.class_log_prior_ + neg_prob.sum(axis=1)\n",
      "c:\\Users\\cendy\\Anaconda3\\lib\\site-packages\\sklearn\\naive_bayes.py:801: RuntimeWarning: divide by zero encountered in log\n",
      "  self.feature_log_prob_ = (np.log(smoothed_fc) -\n",
      "c:\\Users\\cendy\\Anaconda3\\lib\\site-packages\\sklearn\\naive_bayes.py:820: RuntimeWarning: divide by zero encountered in log\n",
      "  neg_prob = np.log(1 - np.exp(self.feature_log_prob_))\n",
      "c:\\Users\\cendy\\Anaconda3\\lib\\site-packages\\sklearn\\naive_bayes.py:823: RuntimeWarning: invalid value encountered in add\n",
      "  jll += self.class_log_prior_ + neg_prob.sum(axis=1)\n",
      "c:\\Users\\cendy\\Anaconda3\\lib\\site-packages\\sklearn\\naive_bayes.py:801: RuntimeWarning: divide by zero encountered in log\n",
      "  self.feature_log_prob_ = (np.log(smoothed_fc) -\n",
      "c:\\Users\\cendy\\Anaconda3\\lib\\site-packages\\sklearn\\naive_bayes.py:820: RuntimeWarning: divide by zero encountered in log\n",
      "  neg_prob = np.log(1 - np.exp(self.feature_log_prob_))\n",
      "c:\\Users\\cendy\\Anaconda3\\lib\\site-packages\\sklearn\\naive_bayes.py:823: RuntimeWarning: invalid value encountered in add\n",
      "  jll += self.class_log_prior_ + neg_prob.sum(axis=1)\n",
      "c:\\Users\\cendy\\Anaconda3\\lib\\site-packages\\sklearn\\naive_bayes.py:801: RuntimeWarning: divide by zero encountered in log\n",
      "  self.feature_log_prob_ = (np.log(smoothed_fc) -\n",
      "c:\\Users\\cendy\\Anaconda3\\lib\\site-packages\\sklearn\\naive_bayes.py:820: RuntimeWarning: divide by zero encountered in log\n",
      "  neg_prob = np.log(1 - np.exp(self.feature_log_prob_))\n",
      "c:\\Users\\cendy\\Anaconda3\\lib\\site-packages\\sklearn\\naive_bayes.py:823: RuntimeWarning: invalid value encountered in add\n",
      "  jll += self.class_log_prior_ + neg_prob.sum(axis=1)\n",
      "c:\\Users\\cendy\\Anaconda3\\lib\\site-packages\\sklearn\\naive_bayes.py:801: RuntimeWarning: divide by zero encountered in log\n",
      "  self.feature_log_prob_ = (np.log(smoothed_fc) -\n",
      "c:\\Users\\cendy\\Anaconda3\\lib\\site-packages\\sklearn\\naive_bayes.py:820: RuntimeWarning: divide by zero encountered in log\n",
      "  neg_prob = np.log(1 - np.exp(self.feature_log_prob_))\n",
      "c:\\Users\\cendy\\Anaconda3\\lib\\site-packages\\sklearn\\naive_bayes.py:823: RuntimeWarning: invalid value encountered in add\n",
      "  jll += self.class_log_prior_ + neg_prob.sum(axis=1)\n"
     ]
    },
    {
     "name": "stdout",
     "output_type": "stream",
     "text": [
      "0.003 (+/-0.000) for {'alpha': 0.0}\n",
      "0.876 (+/-0.000) for {'alpha': 0.0001}\n",
      "0.876 (+/-0.000) for {'alpha': 0.001}\n",
      "0.876 (+/-0.000) for {'alpha': 0.01}\n",
      "0.876 (+/-0.000) for {'alpha': 0.1}\n",
      "0.876 (+/-0.000) for {'alpha': 0.5}\n",
      "0.876 (+/-0.000) for {'alpha': 1.0}\n",
      "0.876 (+/-0.000) for {'alpha': 2.0}\n",
      "0.876 (+/-0.000) for {'alpha': 10.0}\n",
      "\n",
      "Optimized Parameters:  BernoulliNB(alpha=0.0001, binarize=0.0, class_prior=None, fit_prior=True)\n",
      "optimized accuracy: 0.8769\n",
      "Best alpha: {'alpha': 0.0001}\n"
     ]
    },
    {
     "name": "stderr",
     "output_type": "stream",
     "text": [
      "c:\\Users\\cendy\\Anaconda3\\lib\\site-packages\\sklearn\\grid_search.py:438: ChangedBehaviorWarning: The long-standing behavior to use the estimator's score function in GridSearchCV.score has changed. The scoring parameter is now used.\n",
      "  ChangedBehaviorWarning)\n"
     ]
    }
   ],
   "source": [
    "# Bernoulli Naive Bayes\n",
    "# finding the best alpha\n",
    "alphas = {'alpha': [0.0, 0.0001, 0.001, 0.01, 0.1, 0.5, 1.0, 2.0, 10.0]}\n",
    "\n",
    "bnb_clf = BernoulliNB()\n",
    "bnb = GridSearchCV(estimator=bnb_clf, param_grid=[alphas], cv=5, scoring=\"accuracy\", refit=True)\n",
    "bnb.fit(train_data, train_labels)\n",
    "for params, mean_score, scores in bnb.grid_scores_:\n",
    "    print(\"%0.3f (+/-%0.03f) for %r\" %(mean_score, scores.std()/2, params))\n",
    "\n",
    "print(\"\\nOptimized Parameters: \", bnb.best_estimator_)\n",
    "print(\"optimized accuracy: %.4f\" %bnb.score(dev_data, dev_labels))\n",
    "print(\"Best alpha:\", bnb.best_params_)"
   ]
  },
  {
   "cell_type": "code",
   "execution_count": 272,
   "metadata": {
    "collapsed": false
   },
   "outputs": [
    {
     "name": "stderr",
     "output_type": "stream",
     "text": [
      "c:\\Users\\cendy\\Anaconda3\\lib\\site-packages\\sklearn\\naive_bayes.py:801: RuntimeWarning: divide by zero encountered in log\n",
      "  self.feature_log_prob_ = (np.log(smoothed_fc) -\n",
      "c:\\Users\\cendy\\Anaconda3\\lib\\site-packages\\sklearn\\naive_bayes.py:820: RuntimeWarning: divide by zero encountered in log\n",
      "  neg_prob = np.log(1 - np.exp(self.feature_log_prob_))\n",
      "c:\\Users\\cendy\\Anaconda3\\lib\\site-packages\\sklearn\\naive_bayes.py:823: RuntimeWarning: invalid value encountered in add\n",
      "  jll += self.class_log_prior_ + neg_prob.sum(axis=1)\n"
     ]
    },
    {
     "name": "stdout",
     "output_type": "stream",
     "text": [
      "alpha: 0.000000  dev accuracy: 0.00\n",
      "alpha: 0.000100  dev accuracy: 0.88\n",
      "alpha: 0.001000  dev accuracy: 0.88\n",
      "alpha: 0.010000  dev accuracy: 0.88\n",
      "alpha: 0.100000  dev accuracy: 0.88\n",
      "alpha: 0.500000  dev accuracy: 0.88\n",
      "alpha: 1.000000  dev accuracy: 0.88\n",
      "alpha: 2.000000  dev accuracy: 0.88\n",
      "alpha: 10.000000  dev accuracy: 0.88\n"
     ]
    }
   ],
   "source": [
    "alphas = {'alpha': [0.0, 0.0001, 0.001, 0.01, 0.1, 0.5, 1.0, 2.0, 10.0]}\n",
    "\n",
    "for alpha in alphas.get(\"alpha\"):\n",
    "    bnb = BernoulliNB(alpha = alpha)\n",
    "    bnb.fit(train_data, train_labels)\n",
    "    score = bnb.score(dev_data, dev_labels)\n",
    "    print(\"alpha: %f  dev accuracy: %.2f\" %(alpha, score))"
   ]
  },
  {
   "cell_type": "code",
   "execution_count": null,
   "metadata": {
    "collapsed": true
   },
   "outputs": [],
   "source": []
  }
 ],
 "metadata": {
  "kernelspec": {
   "display_name": "Python 3",
   "language": "python",
   "name": "python3"
  },
  "language_info": {
   "codemirror_mode": {
    "name": "ipython",
    "version": 3
   },
   "file_extension": ".py",
   "mimetype": "text/x-python",
   "name": "python",
   "nbconvert_exporter": "python",
   "pygments_lexer": "ipython3",
   "version": "3.6.0"
  }
 },
 "nbformat": 4,
 "nbformat_minor": 2
}
